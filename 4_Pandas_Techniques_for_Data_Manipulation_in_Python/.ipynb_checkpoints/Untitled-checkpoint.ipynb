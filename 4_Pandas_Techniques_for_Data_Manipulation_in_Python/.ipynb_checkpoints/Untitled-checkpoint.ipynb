{
 "cells": [
  {
   "cell_type": "markdown",
   "id": "2499a6a6",
   "metadata": {},
   "source": [
    "# Five most important Pandas Techniques for Data Manipulation in Python"
   ]
  },
  {
   "cell_type": "markdown",
   "id": "3102dfbf",
   "metadata": {},
   "source": [
    "Real-world data is messy. That’s why libraries like pandas are so valuable. \n",
    "Using pandas we can take the pain out of data manipulation by extracting, filtering, and transforming data in DataFrames, clearing a path for quick and reliable data. analysis.\n",
    "In this article, we will give a tutorial on some useful pandas techniques that are very important for dealing with data using python.\n",
    "    1.Importing data\n",
    "    2.Filtering\n",
    "    3.concatenating \n",
    "    4.Apply Function\n",
    "    5.Plotting\n",
    "First of all, we have to import pandas."
   ]
  },
  {
   "cell_type": "code",
   "execution_count": 92,
   "id": "48b486a4",
   "metadata": {},
   "outputs": [],
   "source": [
    "import pandas as pd"
   ]
  },
  {
   "cell_type": "markdown",
   "id": "3a698ab1",
   "metadata": {},
   "source": [
    "## Importing data using pandas"
   ]
  },
  {
   "cell_type": "markdown",
   "id": "f4bae777",
   "metadata": {},
   "source": [
    "Pandas library offers many different possibilities for loading files of different formats.\n",
    "### csv files:\n",
    "A comma-separated values (CSV) file is a plaintext file with a .csv extension that holds tabular data. This is one of the most popular file formats for storing large amounts of data."
   ]
  },
  {
   "cell_type": "code",
   "execution_count": 93,
   "id": "df43f764",
   "metadata": {
    "scrolled": true
   },
   "outputs": [
    {
     "name": "stdout",
     "output_type": "stream",
     "text": [
      "<class 'pandas.core.frame.DataFrame'>\n",
      "RangeIndex: 1313 entries, 0 to 1312\n",
      "Data columns (total 5 columns):\n",
      " #   Column    Non-Null Count  Dtype  \n",
      "---  ------    --------------  -----  \n",
      " 0   Name      1313 non-null   object \n",
      " 1   PClass    1312 non-null   object \n",
      " 2   Age       756 non-null    float64\n",
      " 3   Sex       1313 non-null   object \n",
      " 4   Survived  1313 non-null   int64  \n",
      "dtypes: float64(1), int64(1), object(3)\n",
      "memory usage: 51.4+ KB\n"
     ]
    }
   ],
   "source": [
    "titanic_df = pd.read_csv('titanic.csv')\n",
    "\n",
    "titanic_df.info()"
   ]
  },
  {
   "cell_type": "markdown",
   "id": "5a0b41af",
   "metadata": {},
   "source": [
    "### JSON files:\n",
    "JSON is plain text, but has the format of an object, and is well known in the world of programming, including Pandas.\n",
    "In our examples we will be using a JSON file called 'data.json'."
   ]
  },
  {
   "cell_type": "code",
   "execution_count": 94,
   "id": "07cbf239",
   "metadata": {},
   "outputs": [
    {
     "data": {
      "text/html": [
       "<div>\n",
       "<style scoped>\n",
       "    .dataframe tbody tr th:only-of-type {\n",
       "        vertical-align: middle;\n",
       "    }\n",
       "\n",
       "    .dataframe tbody tr th {\n",
       "        vertical-align: top;\n",
       "    }\n",
       "\n",
       "    .dataframe thead th {\n",
       "        text-align: right;\n",
       "    }\n",
       "</style>\n",
       "<table border=\"1\" class=\"dataframe\">\n",
       "  <thead>\n",
       "    <tr style=\"text-align: right;\">\n",
       "      <th></th>\n",
       "      <th>COUNTRY</th>\n",
       "      <th>POP</th>\n",
       "      <th>AREA</th>\n",
       "      <th>GDP</th>\n",
       "      <th>CONT</th>\n",
       "      <th>IND_DAY</th>\n",
       "    </tr>\n",
       "  </thead>\n",
       "  <tbody>\n",
       "    <tr>\n",
       "      <th>CHN</th>\n",
       "      <td>China</td>\n",
       "      <td>1398.72</td>\n",
       "      <td>9596.96</td>\n",
       "      <td>12234.78</td>\n",
       "      <td>Asia</td>\n",
       "      <td>None</td>\n",
       "    </tr>\n",
       "    <tr>\n",
       "      <th>IND</th>\n",
       "      <td>India</td>\n",
       "      <td>1351.16</td>\n",
       "      <td>3287.26</td>\n",
       "      <td>2575.67</td>\n",
       "      <td>Asia</td>\n",
       "      <td>1947-08-15T00:00:00Z</td>\n",
       "    </tr>\n",
       "    <tr>\n",
       "      <th>USA</th>\n",
       "      <td>US</td>\n",
       "      <td>329.74</td>\n",
       "      <td>9833.52</td>\n",
       "      <td>19485.39</td>\n",
       "      <td>N.America</td>\n",
       "      <td>1776-07-04T00:00:00Z</td>\n",
       "    </tr>\n",
       "    <tr>\n",
       "      <th>IDN</th>\n",
       "      <td>Indonesia</td>\n",
       "      <td>268.07</td>\n",
       "      <td>1910.93</td>\n",
       "      <td>1015.54</td>\n",
       "      <td>Asia</td>\n",
       "      <td>1945-08-17T00:00:00Z</td>\n",
       "    </tr>\n",
       "    <tr>\n",
       "      <th>BRA</th>\n",
       "      <td>Brazil</td>\n",
       "      <td>210.32</td>\n",
       "      <td>8515.77</td>\n",
       "      <td>2055.51</td>\n",
       "      <td>S.America</td>\n",
       "      <td>1822-09-07T00:00:00Z</td>\n",
       "    </tr>\n",
       "  </tbody>\n",
       "</table>\n",
       "</div>"
      ],
      "text/plain": [
       "       COUNTRY      POP     AREA       GDP       CONT               IND_DAY\n",
       "CHN      China  1398.72  9596.96  12234.78       Asia                  None\n",
       "IND      India  1351.16  3287.26   2575.67       Asia  1947-08-15T00:00:00Z\n",
       "USA         US   329.74  9833.52  19485.39  N.America  1776-07-04T00:00:00Z\n",
       "IDN  Indonesia   268.07  1910.93   1015.54       Asia  1945-08-17T00:00:00Z\n",
       "BRA     Brazil   210.32  8515.77   2055.51  S.America  1822-09-07T00:00:00Z"
      ]
     },
     "execution_count": 94,
     "metadata": {},
     "output_type": "execute_result"
    }
   ],
   "source": [
    "df = pd.read_json('data.json')\n",
    "\n",
    "df.head()"
   ]
  },
  {
   "cell_type": "markdown",
   "id": "433e4ce8",
   "metadata": {},
   "source": [
    "### HTML files:\n",
    "An HTML is a plaintext file that uses hypertext markup language to help browsers render web pages. The extensions for HTML files are .html and .htm. "
   ]
  },
  {
   "cell_type": "code",
   "execution_count": 95,
   "id": "4cc04c62",
   "metadata": {},
   "outputs": [
    {
     "data": {
      "text/html": [
       "<div>\n",
       "<style scoped>\n",
       "    .dataframe tbody tr th:only-of-type {\n",
       "        vertical-align: middle;\n",
       "    }\n",
       "\n",
       "    .dataframe tbody tr th {\n",
       "        vertical-align: top;\n",
       "    }\n",
       "\n",
       "    .dataframe thead th {\n",
       "        text-align: right;\n",
       "    }\n",
       "</style>\n",
       "<table border=\"1\" class=\"dataframe\">\n",
       "  <thead>\n",
       "    <tr style=\"text-align: right;\">\n",
       "      <th></th>\n",
       "      <th>Year</th>\n",
       "      <th>Office</th>\n",
       "      <th>GOP</th>\n",
       "      <th>DFL</th>\n",
       "      <th>Others</th>\n",
       "    </tr>\n",
       "  </thead>\n",
       "  <tbody>\n",
       "    <tr>\n",
       "      <th>21</th>\n",
       "      <td>1996</td>\n",
       "      <td>President</td>\n",
       "      <td>35.0%</td>\n",
       "      <td>51.1%</td>\n",
       "      <td>13.9%</td>\n",
       "    </tr>\n",
       "    <tr>\n",
       "      <th>22</th>\n",
       "      <td>1996</td>\n",
       "      <td>Senator</td>\n",
       "      <td>41.3%</td>\n",
       "      <td>50.3%</td>\n",
       "      <td>8.4%</td>\n",
       "    </tr>\n",
       "    <tr>\n",
       "      <th>23</th>\n",
       "      <td>1994</td>\n",
       "      <td>Governor</td>\n",
       "      <td>63.3%</td>\n",
       "      <td>34.1%</td>\n",
       "      <td>2.6%</td>\n",
       "    </tr>\n",
       "    <tr>\n",
       "      <th>24</th>\n",
       "      <td>1994</td>\n",
       "      <td>Senator</td>\n",
       "      <td>49.1%</td>\n",
       "      <td>44.1%</td>\n",
       "      <td>6.8%</td>\n",
       "    </tr>\n",
       "    <tr>\n",
       "      <th>25</th>\n",
       "      <td>1992</td>\n",
       "      <td>President</td>\n",
       "      <td>31.9%</td>\n",
       "      <td>43.5%</td>\n",
       "      <td>24.6%</td>\n",
       "    </tr>\n",
       "  </tbody>\n",
       "</table>\n",
       "</div>"
      ],
      "text/plain": [
       "    Year     Office    GOP    DFL Others\n",
       "21  1996  President  35.0%  51.1%  13.9%\n",
       "22  1996    Senator  41.3%  50.3%   8.4%\n",
       "23  1994   Governor  63.3%  34.1%   2.6%\n",
       "24  1994    Senator  49.1%  44.1%   6.8%\n",
       "25  1992  President  31.9%  43.5%  24.6%"
      ]
     },
     "execution_count": 95,
     "metadata": {},
     "output_type": "execute_result"
    }
   ],
   "source": [
    "df1 = pd.read_html('https://en.wikipedia.org/wiki/Minnesota') # list of tables\n",
    "\n",
    "df1[6].tail() # displays the last five rows of the first table"
   ]
  },
  {
   "cell_type": "markdown",
   "id": "678072ed",
   "metadata": {},
   "source": [
    "## Retrieving informations from DataFrame:"
   ]
  },
  {
   "cell_type": "markdown",
   "id": "e91682e1",
   "metadata": {},
   "source": [
    "In order to better understand our dataset, we should know more about it using some pandas methods that describe our data."
   ]
  },
  {
   "cell_type": "markdown",
   "id": "7dc9ea10",
   "metadata": {},
   "source": [
    "### (rows, columns)"
   ]
  },
  {
   "cell_type": "code",
   "execution_count": 96,
   "id": "3a100dee",
   "metadata": {},
   "outputs": [
    {
     "data": {
      "text/plain": [
       "(20, 6)"
      ]
     },
     "execution_count": 96,
     "metadata": {},
     "output_type": "execute_result"
    }
   ],
   "source": [
    "df.shape"
   ]
  },
  {
   "cell_type": "markdown",
   "id": "9e474001",
   "metadata": {},
   "source": [
    "### Describe index"
   ]
  },
  {
   "cell_type": "code",
   "execution_count": 97,
   "id": "e722455f",
   "metadata": {},
   "outputs": [
    {
     "data": {
      "text/plain": [
       "Index(['CHN', 'IND', 'USA', 'IDN', 'BRA', 'PAK', 'NGA', 'BGD', 'RUS', 'MEX',\n",
       "       'JPN', 'DEU', 'FRA', 'GBR', 'ITA', 'ARG', 'DZA', 'CAN', 'AUS', 'KAZ'],\n",
       "      dtype='object')"
      ]
     },
     "execution_count": 97,
     "metadata": {},
     "output_type": "execute_result"
    }
   ],
   "source": [
    "df.index"
   ]
  },
  {
   "cell_type": "markdown",
   "id": "7e22baa9",
   "metadata": {},
   "source": [
    "### Summary statistics"
   ]
  },
  {
   "cell_type": "code",
   "execution_count": 98,
   "id": "cc896898",
   "metadata": {},
   "outputs": [
    {
     "data": {
      "text/html": [
       "<div>\n",
       "<style scoped>\n",
       "    .dataframe tbody tr th:only-of-type {\n",
       "        vertical-align: middle;\n",
       "    }\n",
       "\n",
       "    .dataframe tbody tr th {\n",
       "        vertical-align: top;\n",
       "    }\n",
       "\n",
       "    .dataframe thead th {\n",
       "        text-align: right;\n",
       "    }\n",
       "</style>\n",
       "<table border=\"1\" class=\"dataframe\">\n",
       "  <thead>\n",
       "    <tr style=\"text-align: right;\">\n",
       "      <th></th>\n",
       "      <th>POP</th>\n",
       "      <th>AREA</th>\n",
       "      <th>GDP</th>\n",
       "    </tr>\n",
       "  </thead>\n",
       "  <tbody>\n",
       "    <tr>\n",
       "      <th>count</th>\n",
       "      <td>20.000000</td>\n",
       "      <td>20.000000</td>\n",
       "      <td>20.00000</td>\n",
       "    </tr>\n",
       "    <tr>\n",
       "      <th>mean</th>\n",
       "      <td>248.905500</td>\n",
       "      <td>4082.182500</td>\n",
       "      <td>3036.14250</td>\n",
       "    </tr>\n",
       "    <tr>\n",
       "      <th>std</th>\n",
       "      <td>394.546143</td>\n",
       "      <td>4706.507539</td>\n",
       "      <td>4706.00783</td>\n",
       "    </tr>\n",
       "    <tr>\n",
       "      <th>min</th>\n",
       "      <td>18.530000</td>\n",
       "      <td>147.570000</td>\n",
       "      <td>159.41000</td>\n",
       "    </tr>\n",
       "    <tr>\n",
       "      <th>25%</th>\n",
       "      <td>56.505000</td>\n",
       "      <td>575.002500</td>\n",
       "      <td>572.06000</td>\n",
       "    </tr>\n",
       "    <tr>\n",
       "      <th>50%</th>\n",
       "      <td>126.400000</td>\n",
       "      <td>2173.060000</td>\n",
       "      <td>1588.93500</td>\n",
       "    </tr>\n",
       "    <tr>\n",
       "      <th>75%</th>\n",
       "      <td>206.862500</td>\n",
       "      <td>7897.957500</td>\n",
       "      <td>2594.67500</td>\n",
       "    </tr>\n",
       "    <tr>\n",
       "      <th>max</th>\n",
       "      <td>1398.720000</td>\n",
       "      <td>17098.250000</td>\n",
       "      <td>19485.39000</td>\n",
       "    </tr>\n",
       "  </tbody>\n",
       "</table>\n",
       "</div>"
      ],
      "text/plain": [
       "               POP          AREA          GDP\n",
       "count    20.000000     20.000000     20.00000\n",
       "mean    248.905500   4082.182500   3036.14250\n",
       "std     394.546143   4706.507539   4706.00783\n",
       "min      18.530000    147.570000    159.41000\n",
       "25%      56.505000    575.002500    572.06000\n",
       "50%     126.400000   2173.060000   1588.93500\n",
       "75%     206.862500   7897.957500   2594.67500\n",
       "max    1398.720000  17098.250000  19485.39000"
      ]
     },
     "execution_count": 98,
     "metadata": {},
     "output_type": "execute_result"
    }
   ],
   "source": [
    "df.describe()"
   ]
  },
  {
   "cell_type": "markdown",
   "id": "96256df3",
   "metadata": {},
   "source": [
    "### Median of values"
   ]
  },
  {
   "cell_type": "code",
   "execution_count": 99,
   "id": "5141ed58",
   "metadata": {},
   "outputs": [
    {
     "data": {
      "text/plain": [
       "POP      126.400\n",
       "AREA    2173.060\n",
       "GDP     1588.935\n",
       "dtype: float64"
      ]
     },
     "execution_count": 99,
     "metadata": {},
     "output_type": "execute_result"
    }
   ],
   "source": [
    "df.median()"
   ]
  },
  {
   "cell_type": "markdown",
   "id": "f234cf8c",
   "metadata": {},
   "source": [
    "## Filtering Data:"
   ]
  },
  {
   "cell_type": "markdown",
   "id": "078509ef",
   "metadata": {},
   "source": [
    "### Selecting columns by data type"
   ]
  },
  {
   "cell_type": "markdown",
   "id": "5d7487fc",
   "metadata": {},
   "source": [
    "We can use the pandas.DataFrame.select_dtypes(include=None, exclude=None) method to select columns based on their data types. The method accepts either a list or a single data type in the parameters include and exclude. It is important to keep in mind that at least one of these parameters (include or exclude) must be supplied and they must not contain overlapping elements."
   ]
  },
  {
   "cell_type": "markdown",
   "id": "89b515fc",
   "metadata": {},
   "source": [
    "In this example, we want to select the numeric columns (both integers and floats) of the dataframe by passing in the string 'number' to the include parameter."
   ]
  },
  {
   "cell_type": "code",
   "execution_count": 100,
   "id": "9f82c3fa",
   "metadata": {},
   "outputs": [
    {
     "data": {
      "text/html": [
       "<div>\n",
       "<style scoped>\n",
       "    .dataframe tbody tr th:only-of-type {\n",
       "        vertical-align: middle;\n",
       "    }\n",
       "\n",
       "    .dataframe tbody tr th {\n",
       "        vertical-align: top;\n",
       "    }\n",
       "\n",
       "    .dataframe thead th {\n",
       "        text-align: right;\n",
       "    }\n",
       "</style>\n",
       "<table border=\"1\" class=\"dataframe\">\n",
       "  <thead>\n",
       "    <tr style=\"text-align: right;\">\n",
       "      <th></th>\n",
       "      <th>POP</th>\n",
       "      <th>AREA</th>\n",
       "      <th>GDP</th>\n",
       "    </tr>\n",
       "  </thead>\n",
       "  <tbody>\n",
       "    <tr>\n",
       "      <th>CHN</th>\n",
       "      <td>1398.72</td>\n",
       "      <td>9596.96</td>\n",
       "      <td>12234.78</td>\n",
       "    </tr>\n",
       "    <tr>\n",
       "      <th>IND</th>\n",
       "      <td>1351.16</td>\n",
       "      <td>3287.26</td>\n",
       "      <td>2575.67</td>\n",
       "    </tr>\n",
       "    <tr>\n",
       "      <th>USA</th>\n",
       "      <td>329.74</td>\n",
       "      <td>9833.52</td>\n",
       "      <td>19485.39</td>\n",
       "    </tr>\n",
       "    <tr>\n",
       "      <th>IDN</th>\n",
       "      <td>268.07</td>\n",
       "      <td>1910.93</td>\n",
       "      <td>1015.54</td>\n",
       "    </tr>\n",
       "    <tr>\n",
       "      <th>BRA</th>\n",
       "      <td>210.32</td>\n",
       "      <td>8515.77</td>\n",
       "      <td>2055.51</td>\n",
       "    </tr>\n",
       "  </tbody>\n",
       "</table>\n",
       "</div>"
      ],
      "text/plain": [
       "         POP     AREA       GDP\n",
       "CHN  1398.72  9596.96  12234.78\n",
       "IND  1351.16  3287.26   2575.67\n",
       "USA   329.74  9833.52  19485.39\n",
       "IDN   268.07  1910.93   1015.54\n",
       "BRA   210.32  8515.77   2055.51"
      ]
     },
     "execution_count": 100,
     "metadata": {},
     "output_type": "execute_result"
    }
   ],
   "source": [
    "numeric_df = df.select_dtypes(include='number')\n",
    "\n",
    "numeric_df.head()"
   ]
  },
  {
   "cell_type": "markdown",
   "id": "062f44cf",
   "metadata": {},
   "source": [
    "### Selecting disjointed rows and columns"
   ]
  },
  {
   "cell_type": "markdown",
   "id": "3174424d",
   "metadata": {},
   "source": [
    "To select multiple rows and columns, we need to pass two list of values to both indexers. The code below shows how to extract the country, the population and the GDP of countries with id CHN and IND."
   ]
  },
  {
   "cell_type": "code",
   "execution_count": 101,
   "id": "2267f07c",
   "metadata": {},
   "outputs": [
    {
     "data": {
      "text/html": [
       "<div>\n",
       "<style scoped>\n",
       "    .dataframe tbody tr th:only-of-type {\n",
       "        vertical-align: middle;\n",
       "    }\n",
       "\n",
       "    .dataframe tbody tr th {\n",
       "        vertical-align: top;\n",
       "    }\n",
       "\n",
       "    .dataframe thead th {\n",
       "        text-align: right;\n",
       "    }\n",
       "</style>\n",
       "<table border=\"1\" class=\"dataframe\">\n",
       "  <thead>\n",
       "    <tr style=\"text-align: right;\">\n",
       "      <th></th>\n",
       "      <th>COUNTRY</th>\n",
       "      <th>POP</th>\n",
       "      <th>GDP</th>\n",
       "    </tr>\n",
       "  </thead>\n",
       "  <tbody>\n",
       "    <tr>\n",
       "      <th>CHN</th>\n",
       "      <td>China</td>\n",
       "      <td>1398.72</td>\n",
       "      <td>12234.78</td>\n",
       "    </tr>\n",
       "    <tr>\n",
       "      <th>IND</th>\n",
       "      <td>India</td>\n",
       "      <td>1351.16</td>\n",
       "      <td>2575.67</td>\n",
       "    </tr>\n",
       "  </tbody>\n",
       "</table>\n",
       "</div>"
      ],
      "text/plain": [
       "    COUNTRY      POP       GDP\n",
       "CHN   China  1398.72  12234.78\n",
       "IND   India  1351.16   2575.67"
      ]
     },
     "execution_count": 101,
     "metadata": {},
     "output_type": "execute_result"
    }
   ],
   "source": [
    "df.loc[['CHN', 'IND'], ['COUNTRY', 'POP', 'GDP']]"
   ]
  },
  {
   "cell_type": "markdown",
   "id": "5a92c735",
   "metadata": {},
   "source": [
    "## Apply function:"
   ]
  },
  {
   "cell_type": "markdown",
   "id": "94301ad4",
   "metadata": {},
   "source": [
    "The pandas .apply() method takes a function as an input and applies this function to an entire DataFrame."
   ]
  },
  {
   "cell_type": "markdown",
   "id": "0eda24d2",
   "metadata": {},
   "source": [
    "### Calculation the number of human inhabitants per square kilometer"
   ]
  },
  {
   "cell_type": "markdown",
   "id": "607610dc",
   "metadata": {},
   "source": [
    "First, we will call the .apply() methos on our dataframe. Then use the lambda function to iterate over the rows of the dataframe. For every row, we grab the 'POP' column and divide it by the 'AREA' column. Finally, we will specify the axis=1 to tell the .apply() method that we want to apply it on the rows instead of columns."
   ]
  },
  {
   "cell_type": "code",
   "execution_count": 102,
   "id": "412f7138",
   "metadata": {},
   "outputs": [
    {
     "data": {
      "text/plain": [
       "CHN     145.746153\n",
       "IND     411.029246\n",
       "USA      33.532245\n",
       "IDN     140.282480\n",
       "BRA      24.697708\n",
       "PAK     233.255094\n",
       "NGA     217.543328\n",
       "BGD    1132.276208\n",
       "RUS       8.585089\n",
       "MEX      64.437634\n",
       "JPN     333.941847\n",
       "DEU     232.477388\n",
       "FRA     104.607604\n",
       "GBR     273.979381\n",
       "ITA     200.305303\n",
       "ARG      16.163142\n",
       "DZA      18.213575\n",
       "CAN       3.764771\n",
       "AUS       3.311224\n",
       "KAZ       6.800250\n",
       "dtype: float64"
      ]
     },
     "execution_count": 102,
     "metadata": {},
     "output_type": "execute_result"
    }
   ],
   "source": [
    "df.apply(\n",
    "    lambda row: row['POP']*1000/row['AREA'],\n",
    "    axis=1\n",
    ")"
   ]
  },
  {
   "cell_type": "markdown",
   "id": "4067d21d",
   "metadata": {},
   "source": [
    "## Visualizing our data"
   ]
  },
  {
   "cell_type": "markdown",
   "id": "8bbbb509",
   "metadata": {},
   "source": [
    "We want to vusualize how chine population increases through past years.\n",
    "First of all, we will load data from wikepedia using html file like what we have seen from the begining.\n",
    "We are setting the first column as index by passing index_col as parameter and setting it to 0."
   ]
  },
  {
   "cell_type": "code",
   "execution_count": 103,
   "id": "a155f3ab",
   "metadata": {},
   "outputs": [
    {
     "data": {
      "text/html": [
       "<div>\n",
       "<style scoped>\n",
       "    .dataframe tbody tr th:only-of-type {\n",
       "        vertical-align: middle;\n",
       "    }\n",
       "\n",
       "    .dataframe tbody tr th {\n",
       "        vertical-align: top;\n",
       "    }\n",
       "\n",
       "    .dataframe thead th {\n",
       "        text-align: right;\n",
       "    }\n",
       "</style>\n",
       "<table border=\"1\" class=\"dataframe\">\n",
       "  <thead>\n",
       "    <tr style=\"text-align: right;\">\n",
       "      <th></th>\n",
       "      <th>Midyear population</th>\n",
       "      <th>Live births1</th>\n",
       "      <th>Deaths1</th>\n",
       "      <th>Natural change1</th>\n",
       "      <th>Crude birth rate (per 1000)</th>\n",
       "      <th>Crude death rate (per 1000)</th>\n",
       "      <th>Natural change (per 1000)</th>\n",
       "      <th>Total fertility rate</th>\n",
       "    </tr>\n",
       "  </thead>\n",
       "  <tbody>\n",
       "    <tr>\n",
       "      <th>1949</th>\n",
       "      <td>537371000</td>\n",
       "      <td>19345000</td>\n",
       "      <td>10747000</td>\n",
       "      <td>8598000</td>\n",
       "      <td>36.0</td>\n",
       "      <td>20.0</td>\n",
       "      <td>16.0</td>\n",
       "      <td>NaN</td>\n",
       "    </tr>\n",
       "    <tr>\n",
       "      <th>1950</th>\n",
       "      <td>546815000</td>\n",
       "      <td>20232000</td>\n",
       "      <td>9843000</td>\n",
       "      <td>10389000</td>\n",
       "      <td>37.0</td>\n",
       "      <td>18.0</td>\n",
       "      <td>19.0</td>\n",
       "      <td>5.29</td>\n",
       "    </tr>\n",
       "    <tr>\n",
       "      <th>1951</th>\n",
       "      <td>557480000</td>\n",
       "      <td>21073000</td>\n",
       "      <td>9923000</td>\n",
       "      <td>11150000</td>\n",
       "      <td>37.8</td>\n",
       "      <td>17.8</td>\n",
       "      <td>20.0</td>\n",
       "      <td>NaN</td>\n",
       "    </tr>\n",
       "    <tr>\n",
       "      <th>1952</th>\n",
       "      <td>568910000</td>\n",
       "      <td>21050000</td>\n",
       "      <td>9671000</td>\n",
       "      <td>11379000</td>\n",
       "      <td>37.0</td>\n",
       "      <td>17.0</td>\n",
       "      <td>20.0</td>\n",
       "      <td>NaN</td>\n",
       "    </tr>\n",
       "    <tr>\n",
       "      <th>1953</th>\n",
       "      <td>581390000</td>\n",
       "      <td>21511000</td>\n",
       "      <td>8139000</td>\n",
       "      <td>13372000</td>\n",
       "      <td>37.0</td>\n",
       "      <td>14.0</td>\n",
       "      <td>23.0</td>\n",
       "      <td>NaN</td>\n",
       "    </tr>\n",
       "  </tbody>\n",
       "</table>\n",
       "</div>"
      ],
      "text/plain": [
       "      Midyear population  Live births1   Deaths1 Natural change1  \\\n",
       "1949           537371000      19345000  10747000         8598000   \n",
       "1950           546815000      20232000   9843000        10389000   \n",
       "1951           557480000      21073000   9923000        11150000   \n",
       "1952           568910000      21050000   9671000        11379000   \n",
       "1953           581390000      21511000   8139000        13372000   \n",
       "\n",
       "      Crude birth rate (per 1000)  Crude death rate (per 1000)  \\\n",
       "1949                         36.0                         20.0   \n",
       "1950                         37.0                         18.0   \n",
       "1951                         37.8                         17.8   \n",
       "1952                         37.0                         17.0   \n",
       "1953                         37.0                         14.0   \n",
       "\n",
       "     Natural change (per 1000) Total fertility rate  \n",
       "1949                      16.0                  NaN  \n",
       "1950                      19.0                 5.29  \n",
       "1951                      20.0                  NaN  \n",
       "1952                      20.0                  NaN  \n",
       "1953                      23.0                  NaN  "
      ]
     },
     "execution_count": 103,
     "metadata": {},
     "output_type": "execute_result"
    }
   ],
   "source": [
    "china_df = pd.read_html('https://en.wikipedia.org/wiki/Demographics_of_China', index_col=0)[5]\n",
    "\n",
    "china_df.head()"
   ]
  },
  {
   "cell_type": "markdown",
   "id": "b10990c4",
   "metadata": {},
   "source": [
    "Now that we have all data we need. We are ready to plot our dataframe."
   ]
  },
  {
   "cell_type": "code",
   "execution_count": 104,
   "id": "4206bc96",
   "metadata": {},
   "outputs": [
    {
     "data": {
      "text/plain": [
       "<AxesSubplot:title={'center':'China population'}>"
      ]
     },
     "execution_count": 104,
     "metadata": {},
     "output_type": "execute_result"
    },
    {
     "data": {
      "image/png": "[encoded data removed]",
      "text/plain": [
       "<Figure size 432x288 with 1 Axes>"
      ]
     },
     "metadata": {
      "needs_background": "light"
     },
     "output_type": "display_data"
    }
   ],
   "source": [
    "china_df.plot(kind='line', y='Midyear population', title='China population')"
   ]
  }
 ],
 "metadata": {
  "kernelspec": {
   "display_name": "Python 3",
   "language": "python",
   "name": "python3"
  },
  "language_info": {
   "codemirror_mode": {
    "name": "ipython",
    "version": 3
   },
   "file_extension": ".py",
   "mimetype": "text/x-python",
   "name": "python",
   "nbconvert_exporter": "python",
   "pygments_lexer": "ipython3",
   "version": "3.8.8"
  }
 },
 "nbformat": 4,
 "nbformat_minor": 5
}
