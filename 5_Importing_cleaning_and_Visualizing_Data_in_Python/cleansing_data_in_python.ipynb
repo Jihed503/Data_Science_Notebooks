{
 "cells": [
  {
   "cell_type": "markdown",
   "source": "# Cleansing Data in Python !",
   "metadata": {
    "cell_id": "0e4b3335-2a42-4aed-ad25-25b47ea48a81",
    "deepnote_cell_type": "markdown",
    "deepnote_cell_height": 82
   }
  },
  {
   "cell_type": "markdown",
   "source": "[Jihed Selmi](https://www.linkedin.com/in/jihed-selmi-503/)\n<img src=\"https://images.unsplash.com/photo-1563453392212-326f5e854473?ixlib=rb-1.2.1&ixid=MnwxMjA3fDB8MHxwaG90by1wYWdlfHx8fGVufDB8fHx8&auto=format&fit=crop&w=1770&q=80\" width=400, height=400, style=\"display: block;\n  margin-left: auto;\n  margin-right: auto;\n  width: 50%;\">\n\nCleaning data is a mandatory process for every data scientist to perform. Dealing with data not properly cleaned can lead to inaccurate data analysis or machine learning model. Which results to drawing inacuurate conclusions.\nIn this tutorial, we will learn how to identify, diagnose, and treat a variety of data cleaning problems in Python.We will deal with improper data types, check that out data is in the correct range, handle missing data, and more!\n\n## Data type constraints\n\nWhen working with data, there are various types that we may encounter along the way. We could be working with text data, integers, decimals, dates, zip codes, and others.<br /> So, we need to make sure our variables have the correct data types, otherwise we risk compromising our analysis. Luckily, Python has specific data type objects for various data types!\nLet's take, for instance, chess games dataset imported from [Kaggle](https://www.kaggle.com/datasnaek/chess).",
   "metadata": {
    "cell_id": "00001-e54902d7-e76a-4eb7-b212-a57dad37fdba",
    "deepnote_cell_type": "markdown",
    "deepnote_cell_height": 636.1875
   }
  },
  {
   "cell_type": "code",
   "metadata": {
    "scrolled": false,
    "cell_id": "00002-4f6b8d04-ca83-4c41-8fc1-42667302ca8f",
    "deepnote_to_be_reexecuted": false,
    "source_hash": "80dc70be",
    "execution_start": 1648571366609,
    "execution_millis": 247,
    "deepnote_cell_type": "code",
    "deepnote_cell_height": 878.390625,
    "deepnote_output_heights": [
     null,
     90
    ]
   },
   "source": "import pandas as pd\n\ndf = pd.read_csv('games.csv')#, index_col=0)\n\ndf.info()\n    \ndf.head(2)",
   "execution_count": 1,
   "outputs": [
    {
     "name": "stdout",
     "text": "<class 'pandas.core.frame.DataFrame'>\nRangeIndex: 20065 entries, 0 to 20064\nData columns (total 16 columns):\n #   Column          Non-Null Count  Dtype  \n---  ------          --------------  -----  \n 0   id              20065 non-null  object \n 1   rated           20065 non-null  bool   \n 2   created_at      20065 non-null  float64\n 3   last_move_at    20065 non-null  float64\n 4   turns           20065 non-null  int64  \n 5   victory_status  20065 non-null  object \n 6   winner          20065 non-null  object \n 7   increment_code  20065 non-null  object \n 8   white_id        20065 non-null  object \n 9   white_rating    20065 non-null  int64  \n 10  black_id        20065 non-null  object \n 11  black_rating    20065 non-null  int64  \n 12  moves           20065 non-null  object \n 13  opening_eco     20065 non-null  object \n 14  opening_name    20065 non-null  object \n 15  opening_ply     20065 non-null  int64  \ndtypes: bool(1), float64(2), int64(4), object(9)\nmemory usage: 2.3+ MB\n",
     "output_type": "stream"
    },
    {
     "output_type": "execute_result",
     "execution_count": 1,
     "data": {
      "application/vnd.deepnote.dataframe.v3+json": {
       "column_count": 16,
       "row_count": 2,
       "columns": [
        {
         "name": "id",
         "dtype": "object",
         "stats": {
          "unique_count": 2,
          "nan_count": 0,
          "categories": [
           {
            "name": "TZJHLljE",
            "count": 1
           },
           {
            "name": "l1NXvwaE",
            "count": 1
           }
          ]
         }
        },
        {
         "name": "rated",
         "dtype": "bool",
         "stats": {
          "unique_count": 2,
          "nan_count": 0,
          "categories": [
           {
            "name": "False",
            "count": 1
           },
           {
            "name": "True",
            "count": 1
           }
          ]
         }
        },
        {
         "name": "created_at",
         "dtype": "float64",
         "stats": {
          "unique_count": 2,
          "nan_count": 0,
          "min": "1504130000000.0",
          "max": "1504210000000.0",
          "histogram": [
           {
            "bin_start": 1504130000000,
            "bin_end": 1504138000000,
            "count": 1
           },
           {
            "bin_start": 1504138000000,
            "bin_end": 1504146000000,
            "count": 0
           },
           {
            "bin_start": 1504146000000,
            "bin_end": 1504154000000,
            "count": 0
           },
           {
            "bin_start": 1504154000000,
            "bin_end": 1504162000000,
            "count": 0
           },
           {
            "bin_start": 1504162000000,
            "bin_end": 1504170000000,
            "count": 0
           },
           {
            "bin_start": 1504170000000,
            "bin_end": 1504178000000,
            "count": 0
           },
           {
            "bin_start": 1504178000000,
            "bin_end": 1504186000000,
            "count": 0
           },
           {
            "bin_start": 1504186000000,
            "bin_end": 1504194000000,
            "count": 0
           },
           {
            "bin_start": 1504194000000,
            "bin_end": 1504202000000,
            "count": 0
           },
           {
            "bin_start": 1504202000000,
            "bin_end": 1504210000000,
            "count": 1
           }
          ]
         }
        },
        {
         "name": "last_move_at",
         "dtype": "float64",
         "stats": {
          "unique_count": 2,
          "nan_count": 0,
          "min": "1504130000000.0",
          "max": "1504210000000.0",
          "histogram": [
           {
            "bin_start": 1504130000000,
            "bin_end": 1504138000000,
            "count": 1
           },
           {
            "bin_start": 1504138000000,
            "bin_end": 1504146000000,
            "count": 0
           },
           {
            "bin_start": 1504146000000,
            "bin_end": 1504154000000,
            "count": 0
           },
           {
            "bin_start": 1504154000000,
            "bin_end": 1504162000000,
            "count": 0
           },
           {
            "bin_start": 1504162000000,
            "bin_end": 1504170000000,
            "count": 0
           },
           {
            "bin_start": 1504170000000,
            "bin_end": 1504178000000,
            "count": 0
           },
           {
            "bin_start": 1504178000000,
            "bin_end": 1504186000000,
            "count": 0
           },
           {
            "bin_start": 1504186000000,
            "bin_end": 1504194000000,
            "count": 0
           },
           {
            "bin_start": 1504194000000,
            "bin_end": 1504202000000,
            "count": 0
           },
           {
            "bin_start": 1504202000000,
            "bin_end": 1504210000000,
            "count": 1
           }
          ]
         }
        },
        {
         "name": "turns",
         "dtype": "int64",
         "stats": {
          "unique_count": 2,
          "nan_count": 0,
          "min": "13",
          "max": "16",
          "histogram": [
           {
            "bin_start": 13,
            "bin_end": 13.3,
            "count": 1
           },
           {
            "bin_start": 13.3,
            "bin_end": 13.6,
            "count": 0
           },
           {
            "bin_start": 13.6,
            "bin_end": 13.9,
            "count": 0
           },
           {
            "bin_start": 13.9,
            "bin_end": 14.2,
            "count": 0
           },
           {
            "bin_start": 14.2,
            "bin_end": 14.5,
            "count": 0
           },
           {
            "bin_start": 14.5,
            "bin_end": 14.8,
            "count": 0
           },
           {
            "bin_start": 14.8,
            "bin_end": 15.1,
            "count": 0
           },
           {
            "bin_start": 15.1,
            "bin_end": 15.4,
            "count": 0
           },
           {
            "bin_start": 15.4,
            "bin_end": 15.7,
            "count": 0
           },
           {
            "bin_start": 15.7,
            "bin_end": 16,
            "count": 1
           }
          ]
         }
        },
        {
         "name": "victory_status",
         "dtype": "object",
         "stats": {
          "unique_count": 2,
          "nan_count": 0,
          "categories": [
           {
            "name": "outoftime",
            "count": 1
           },
           {
            "name": "resign",
            "count": 1
           }
          ]
         }
        },
        {
         "name": "winner",
         "dtype": "object",
         "stats": {
          "unique_count": 2,
          "nan_count": 0,
          "categories": [
           {
            "name": "white",
            "count": 1
           },
           {
            "name": "black",
            "count": 1
           }
          ]
         }
        },
        {
         "name": "increment_code",
         "dtype": "object",
         "stats": {
          "unique_count": 2,
          "nan_count": 0,
          "categories": [
           {
            "name": "15+2",
            "count": 1
           },
           {
            "name": "5+10",
            "count": 1
           }
          ]
         }
        },
        {
         "name": "white_id",
         "dtype": "object",
         "stats": {
          "unique_count": 2,
          "nan_count": 0,
          "categories": [
           {
            "name": "bourgris",
            "count": 1
           },
           {
            "name": "a-00",
            "count": 1
           }
          ]
         }
        },
        {
         "name": "white_rating",
         "dtype": "int64",
         "stats": {
          "unique_count": 2,
          "nan_count": 0,
          "min": "1322",
          "max": "1500",
          "histogram": [
           {
            "bin_start": 1322,
            "bin_end": 1339.8,
            "count": 1
           },
           {
            "bin_start": 1339.8,
            "bin_end": 1357.6,
            "count": 0
           },
           {
            "bin_start": 1357.6,
            "bin_end": 1375.4,
            "count": 0
           },
           {
            "bin_start": 1375.4,
            "bin_end": 1393.2,
            "count": 0
           },
           {
            "bin_start": 1393.2,
            "bin_end": 1411,
            "count": 0
           },
           {
            "bin_start": 1411,
            "bin_end": 1428.8,
            "count": 0
           },
           {
            "bin_start": 1428.8,
            "bin_end": 1446.6,
            "count": 0
           },
           {
            "bin_start": 1446.6,
            "bin_end": 1464.4,
            "count": 0
           },
           {
            "bin_start": 1464.4,
            "bin_end": 1482.2,
            "count": 0
           },
           {
            "bin_start": 1482.2,
            "bin_end": 1500,
            "count": 1
           }
          ]
         }
        },
        {
         "name": "black_id",
         "dtype": "object",
         "stats": {
          "unique_count": 2,
          "nan_count": 0,
          "categories": [
           {
            "name": "a-00",
            "count": 1
           },
           {
            "name": "skinnerua",
            "count": 1
           }
          ]
         }
        },
        {
         "name": "black_rating",
         "dtype": "int64",
         "stats": {
          "unique_count": 2,
          "nan_count": 0,
          "min": "1191",
          "max": "1261",
          "histogram": [
           {
            "bin_start": 1191,
            "bin_end": 1198,
            "count": 1
           },
           {
            "bin_start": 1198,
            "bin_end": 1205,
            "count": 0
           },
           {
            "bin_start": 1205,
            "bin_end": 1212,
            "count": 0
           },
           {
            "bin_start": 1212,
            "bin_end": 1219,
            "count": 0
           },
           {
            "bin_start": 1219,
            "bin_end": 1226,
            "count": 0
           },
           {
            "bin_start": 1226,
            "bin_end": 1233,
            "count": 0
           },
           {
            "bin_start": 1233,
            "bin_end": 1240,
            "count": 0
           },
           {
            "bin_start": 1240,
            "bin_end": 1247,
            "count": 0
           },
           {
            "bin_start": 1247,
            "bin_end": 1254,
            "count": 0
           },
           {
            "bin_start": 1254,
            "bin_end": 1261,
            "count": 1
           }
          ]
         }
        },
        {
         "name": "moves",
         "dtype": "object",
         "stats": {
          "unique_count": 2,
          "nan_count": 0,
          "categories": [
           {
            "name": "d4 d5 c4 c6 cxd5 e6 dxe6 fxe6 Nf3 Bb4+ Nc3 Ba5 Bf4",
            "count": 1
           },
           {
            "name": "d4 Nc6 e4 e5 f4 f6 dxe5 fxe5 fxe5 Nxe5 Qd4 Nc6 Qe5+ Nxe5 c4 Bb4+",
            "count": 1
           }
          ]
         }
        },
        {
         "name": "opening_eco",
         "dtype": "object",
         "stats": {
          "unique_count": 2,
          "nan_count": 0,
          "categories": [
           {
            "name": "D10",
            "count": 1
           },
           {
            "name": "B00",
            "count": 1
           }
          ]
         }
        },
        {
         "name": "opening_name",
         "dtype": "object",
         "stats": {
          "unique_count": 2,
          "nan_count": 0,
          "categories": [
           {
            "name": "Slav Defense: Exchange Variation",
            "count": 1
           },
           {
            "name": "Nimzowitsch Defense: Kennedy Variation",
            "count": 1
           }
          ]
         }
        },
        {
         "name": "opening_ply",
         "dtype": "int64",
         "stats": {
          "unique_count": 2,
          "nan_count": 0,
          "min": "4",
          "max": "5",
          "histogram": [
           {
            "bin_start": 4,
            "bin_end": 4.1,
            "count": 1
           },
           {
            "bin_start": 4.1,
            "bin_end": 4.2,
            "count": 0
           },
           {
            "bin_start": 4.2,
            "bin_end": 4.3,
            "count": 0
           },
           {
            "bin_start": 4.3,
            "bin_end": 4.4,
            "count": 0
           },
           {
            "bin_start": 4.4,
            "bin_end": 4.5,
            "count": 0
           },
           {
            "bin_start": 4.5,
            "bin_end": 4.6,
            "count": 0
           },
           {
            "bin_start": 4.6,
            "bin_end": 4.7,
            "count": 0
           },
           {
            "bin_start": 4.7,
            "bin_end": 4.8,
            "count": 0
           },
           {
            "bin_start": 4.8,
            "bin_end": 4.9,
            "count": 0
           },
           {
            "bin_start": 4.9,
            "bin_end": 5,
            "count": 1
           }
          ]
         }
        },
        {
         "name": "_deepnote_index_column",
         "dtype": "int64"
        }
       ],
       "rows": [
        {
         "id": "TZJHLljE",
         "rated": false,
         "created_at": 1504210000000,
         "last_move_at": 1504210000000,
         "turns": 13,
         "victory_status": "outoftime",
         "winner": "white",
         "increment_code": "15+2",
         "white_id": "bourgris",
         "white_rating": 1500,
         "black_id": "a-00",
         "black_rating": 1191,
         "moves": "d4 d5 c4 c6 cxd5 e6 dxe6 fxe6 Nf3 Bb4+ Nc3 Ba5 Bf4",
         "opening_eco": "D10",
         "opening_name": "Slav Defense: Exchange Variation",
         "opening_ply": 5,
         "_deepnote_index_column": 0
        },
        {
         "id": "l1NXvwaE",
         "rated": true,
         "created_at": 1504130000000,
         "last_move_at": 1504130000000,
         "turns": 16,
         "victory_status": "resign",
         "winner": "black",
         "increment_code": "5+10",
         "white_id": "a-00",
         "white_rating": 1322,
         "black_id": "skinnerua",
         "black_rating": 1261,
         "moves": "d4 Nc6 e4 e5 f4 f6 dxe5 fxe5 fxe5 Nxe5 Qd4 Nc6 Qe5+ Nxe5 c4 Bb4+",
         "opening_eco": "B00",
         "opening_name": "Nimzowitsch Defense: Kennedy Variation",
         "opening_ply": 4,
         "_deepnote_index_column": 1
        }
       ]
      },
      "text/plain": "         id  rated    created_at  last_move_at  turns victory_status winner  \\\n0  TZJHLljE  False  1.504210e+12  1.504210e+12     13      outoftime  white   \n1  l1NXvwaE   True  1.504130e+12  1.504130e+12     16         resign  black   \n\n  increment_code  white_id  white_rating   black_id  black_rating  \\\n0           15+2  bourgris          1500       a-00          1191   \n1           5+10      a-00          1322  skinnerua          1261   \n\n                                               moves opening_eco  \\\n0  d4 d5 c4 c6 cxd5 e6 dxe6 fxe6 Nf3 Bb4+ Nc3 Ba5...         D10   \n1  d4 Nc6 e4 e5 f4 f6 dxe5 fxe5 fxe5 Nxe5 Qd4 Nc6...         B00   \n\n                             opening_name  opening_ply  \n0        Slav Defense: Exchange Variation            5  \n1  Nimzowitsch Defense: Kennedy Variation            4  ",
      "text/html": "<div>\n<style scoped>\n    .dataframe tbody tr th:only-of-type {\n        vertical-align: middle;\n    }\n\n    .dataframe tbody tr th {\n        vertical-align: top;\n    }\n\n    .dataframe thead th {\n        text-align: right;\n    }\n</style>\n<table border=\"1\" class=\"dataframe\">\n  <thead>\n    <tr style=\"text-align: right;\">\n      <th></th>\n      <th>id</th>\n      <th>rated</th>\n      <th>created_at</th>\n      <th>last_move_at</th>\n      <th>turns</th>\n      <th>victory_status</th>\n      <th>winner</th>\n      <th>increment_code</th>\n      <th>white_id</th>\n      <th>white_rating</th>\n      <th>black_id</th>\n      <th>black_rating</th>\n      <th>moves</th>\n      <th>opening_eco</th>\n      <th>opening_name</th>\n      <th>opening_ply</th>\n    </tr>\n  </thead>\n  <tbody>\n    <tr>\n      <th>0</th>\n      <td>TZJHLljE</td>\n      <td>False</td>\n      <td>1.504210e+12</td>\n      <td>1.504210e+12</td>\n      <td>13</td>\n      <td>outoftime</td>\n      <td>white</td>\n      <td>15+2</td>\n      <td>bourgris</td>\n      <td>1500</td>\n      <td>a-00</td>\n      <td>1191</td>\n      <td>d4 d5 c4 c6 cxd5 e6 dxe6 fxe6 Nf3 Bb4+ Nc3 Ba5...</td>\n      <td>D10</td>\n      <td>Slav Defense: Exchange Variation</td>\n      <td>5</td>\n    </tr>\n    <tr>\n      <th>1</th>\n      <td>l1NXvwaE</td>\n      <td>True</td>\n      <td>1.504130e+12</td>\n      <td>1.504130e+12</td>\n      <td>16</td>\n      <td>resign</td>\n      <td>black</td>\n      <td>5+10</td>\n      <td>a-00</td>\n      <td>1322</td>\n      <td>skinnerua</td>\n      <td>1261</td>\n      <td>d4 Nc6 e4 e5 f4 f6 dxe5 fxe5 fxe5 Nxe5 Qd4 Nc6...</td>\n      <td>B00</td>\n      <td>Nimzowitsch Defense: Kennedy Variation</td>\n      <td>4</td>\n    </tr>\n  </tbody>\n</table>\n</div>"
     },
     "metadata": {}
    }
   ]
  },
  {
   "cell_type": "markdown",
   "source": "As we can see, our dataset contains nine column of data type 'Object'. They are supposed to be strings. We have to convert all object types to strings. <br />For that, we need to call the pandas function pandas.Series.astype(dtype). Here, the dtype needed is str.\nSince there are nine columns to be converted, we need a loop.",
   "metadata": {
    "cell_id": "00003-8fc9cea4-8cd8-449f-8144-146da2141de1",
    "deepnote_cell_type": "markdown",
    "deepnote_cell_height": 119.59375
   }
  },
  {
   "cell_type": "code",
   "metadata": {
    "cell_id": "00004-dfa232c6-29ee-4864-b395-fe4bc3d8ca81",
    "deepnote_to_be_reexecuted": false,
    "source_hash": "1bd81d32",
    "execution_start": 1648571366786,
    "execution_millis": 8,
    "deepnote_cell_type": "code",
    "deepnote_cell_height": 117
   },
   "source": "for column in df:\n    if str(df[column].dtype) == 'object':\n        df[column] = df[column].astype(str)",
   "execution_count": 2,
   "outputs": []
  },
  {
   "cell_type": "markdown",
   "source": "Furthermore, we can notice that the two columns \"created_at\" and \"last_move_at\" are floats.<br />Obvioulsy, they are supposed to have Date as data type.\nTo do that, we should apply pandas.to_datetime method.",
   "metadata": {
    "cell_id": "00005-1859f87e-86ec-4042-ac2a-6ddae6145060",
    "deepnote_cell_type": "markdown",
    "deepnote_cell_height": 74.796875
   }
  },
  {
   "cell_type": "code",
   "metadata": {
    "cell_id": "00006-98d43041-ec6e-41f4-9277-22125edecb52",
    "deepnote_to_be_reexecuted": false,
    "source_hash": "65c15d41",
    "execution_start": 1648571366840,
    "execution_millis": 0,
    "deepnote_cell_type": "code",
    "deepnote_cell_height": 99
   },
   "source": "df['created_at'] = pd.to_datetime(df['created_at'])\ndf['last_move_at'] = pd.to_datetime(df['last_move_at'])",
   "execution_count": 3,
   "outputs": []
  },
  {
   "cell_type": "markdown",
   "source": "When we apply the head method, we can see the results.",
   "metadata": {
    "cell_id": "00007-6769325d-6ea0-4013-8b5e-ab7b4659f076",
    "deepnote_cell_type": "markdown",
    "deepnote_cell_height": 52.390625
   }
  },
  {
   "cell_type": "code",
   "metadata": {
    "cell_id": "00008-f01882e8-0f49-4bf2-8e3f-f6ee9a6fa862",
    "deepnote_to_be_reexecuted": false,
    "source_hash": "6cd8acfd",
    "execution_start": 1648571366861,
    "execution_millis": 8,
    "deepnote_cell_type": "code",
    "deepnote_cell_height": 284.390625,
    "deepnote_output_heights": [
     90
    ]
   },
   "source": "df.head(2)",
   "execution_count": 4,
   "outputs": [
    {
     "output_type": "execute_result",
     "execution_count": 4,
     "data": {
      "application/vnd.deepnote.dataframe.v3+json": {
       "column_count": 16,
       "row_count": 2,
       "columns": [
        {
         "name": "id",
         "dtype": "object",
         "stats": {
          "unique_count": 2,
          "nan_count": 0,
          "categories": [
           {
            "name": "TZJHLljE",
            "count": 1
           },
           {
            "name": "l1NXvwaE",
            "count": 1
           }
          ]
         }
        },
        {
         "name": "rated",
         "dtype": "bool",
         "stats": {
          "unique_count": 2,
          "nan_count": 0,
          "categories": [
           {
            "name": "False",
            "count": 1
           },
           {
            "name": "True",
            "count": 1
           }
          ]
         }
        },
        {
         "name": "created_at",
         "dtype": "datetime64[ns]",
         "stats": {
          "unique_count": 2,
          "nan_count": 0,
          "min": "1970-01-01 00:25:04.130000",
          "max": "1970-01-01 00:25:04.210000",
          "histogram": [
           {
            "bin_start": 1504130000000,
            "bin_end": 1504138000000,
            "count": 1
           },
           {
            "bin_start": 1504138000000,
            "bin_end": 1504146000000,
            "count": 0
           },
           {
            "bin_start": 1504146000000,
            "bin_end": 1504154000000,
            "count": 0
           },
           {
            "bin_start": 1504154000000,
            "bin_end": 1504162000000,
            "count": 0
           },
           {
            "bin_start": 1504162000000,
            "bin_end": 1504170000000,
            "count": 0
           },
           {
            "bin_start": 1504170000000,
            "bin_end": 1504178000000,
            "count": 0
           },
           {
            "bin_start": 1504178000000,
            "bin_end": 1504186000000,
            "count": 0
           },
           {
            "bin_start": 1504186000000,
            "bin_end": 1504194000000,
            "count": 0
           },
           {
            "bin_start": 1504194000000,
            "bin_end": 1504202000000,
            "count": 0
           },
           {
            "bin_start": 1504202000000,
            "bin_end": 1504210000000,
            "count": 1
           }
          ]
         }
        },
        {
         "name": "last_move_at",
         "dtype": "datetime64[ns]",
         "stats": {
          "unique_count": 2,
          "nan_count": 0,
          "min": "1970-01-01 00:25:04.130000",
          "max": "1970-01-01 00:25:04.210000",
          "histogram": [
           {
            "bin_start": 1504130000000,
            "bin_end": 1504138000000,
            "count": 1
           },
           {
            "bin_start": 1504138000000,
            "bin_end": 1504146000000,
            "count": 0
           },
           {
            "bin_start": 1504146000000,
            "bin_end": 1504154000000,
            "count": 0
           },
           {
            "bin_start": 1504154000000,
            "bin_end": 1504162000000,
            "count": 0
           },
           {
            "bin_start": 1504162000000,
            "bin_end": 1504170000000,
            "count": 0
           },
           {
            "bin_start": 1504170000000,
            "bin_end": 1504178000000,
            "count": 0
           },
           {
            "bin_start": 1504178000000,
            "bin_end": 1504186000000,
            "count": 0
           },
           {
            "bin_start": 1504186000000,
            "bin_end": 1504194000000,
            "count": 0
           },
           {
            "bin_start": 1504194000000,
            "bin_end": 1504202000000,
            "count": 0
           },
           {
            "bin_start": 1504202000000,
            "bin_end": 1504210000000,
            "count": 1
           }
          ]
         }
        },
        {
         "name": "turns",
         "dtype": "int64",
         "stats": {
          "unique_count": 2,
          "nan_count": 0,
          "min": "13",
          "max": "16",
          "histogram": [
           {
            "bin_start": 13,
            "bin_end": 13.3,
            "count": 1
           },
           {
            "bin_start": 13.3,
            "bin_end": 13.6,
            "count": 0
           },
           {
            "bin_start": 13.6,
            "bin_end": 13.9,
            "count": 0
           },
           {
            "bin_start": 13.9,
            "bin_end": 14.2,
            "count": 0
           },
           {
            "bin_start": 14.2,
            "bin_end": 14.5,
            "count": 0
           },
           {
            "bin_start": 14.5,
            "bin_end": 14.8,
            "count": 0
           },
           {
            "bin_start": 14.8,
            "bin_end": 15.1,
            "count": 0
           },
           {
            "bin_start": 15.1,
            "bin_end": 15.4,
            "count": 0
           },
           {
            "bin_start": 15.4,
            "bin_end": 15.7,
            "count": 0
           },
           {
            "bin_start": 15.7,
            "bin_end": 16,
            "count": 1
           }
          ]
         }
        },
        {
         "name": "victory_status",
         "dtype": "object",
         "stats": {
          "unique_count": 2,
          "nan_count": 0,
          "categories": [
           {
            "name": "outoftime",
            "count": 1
           },
           {
            "name": "resign",
            "count": 1
           }
          ]
         }
        },
        {
         "name": "winner",
         "dtype": "object",
         "stats": {
          "unique_count": 2,
          "nan_count": 0,
          "categories": [
           {
            "name": "white",
            "count": 1
           },
           {
            "name": "black",
            "count": 1
           }
          ]
         }
        },
        {
         "name": "increment_code",
         "dtype": "object",
         "stats": {
          "unique_count": 2,
          "nan_count": 0,
          "categories": [
           {
            "name": "15+2",
            "count": 1
           },
           {
            "name": "5+10",
            "count": 1
           }
          ]
         }
        },
        {
         "name": "white_id",
         "dtype": "object",
         "stats": {
          "unique_count": 2,
          "nan_count": 0,
          "categories": [
           {
            "name": "bourgris",
            "count": 1
           },
           {
            "name": "a-00",
            "count": 1
           }
          ]
         }
        },
        {
         "name": "white_rating",
         "dtype": "int64",
         "stats": {
          "unique_count": 2,
          "nan_count": 0,
          "min": "1322",
          "max": "1500",
          "histogram": [
           {
            "bin_start": 1322,
            "bin_end": 1339.8,
            "count": 1
           },
           {
            "bin_start": 1339.8,
            "bin_end": 1357.6,
            "count": 0
           },
           {
            "bin_start": 1357.6,
            "bin_end": 1375.4,
            "count": 0
           },
           {
            "bin_start": 1375.4,
            "bin_end": 1393.2,
            "count": 0
           },
           {
            "bin_start": 1393.2,
            "bin_end": 1411,
            "count": 0
           },
           {
            "bin_start": 1411,
            "bin_end": 1428.8,
            "count": 0
           },
           {
            "bin_start": 1428.8,
            "bin_end": 1446.6,
            "count": 0
           },
           {
            "bin_start": 1446.6,
            "bin_end": 1464.4,
            "count": 0
           },
           {
            "bin_start": 1464.4,
            "bin_end": 1482.2,
            "count": 0
           },
           {
            "bin_start": 1482.2,
            "bin_end": 1500,
            "count": 1
           }
          ]
         }
        },
        {
         "name": "black_id",
         "dtype": "object",
         "stats": {
          "unique_count": 2,
          "nan_count": 0,
          "categories": [
           {
            "name": "a-00",
            "count": 1
           },
           {
            "name": "skinnerua",
            "count": 1
           }
          ]
         }
        },
        {
         "name": "black_rating",
         "dtype": "int64",
         "stats": {
          "unique_count": 2,
          "nan_count": 0,
          "min": "1191",
          "max": "1261",
          "histogram": [
           {
            "bin_start": 1191,
            "bin_end": 1198,
            "count": 1
           },
           {
            "bin_start": 1198,
            "bin_end": 1205,
            "count": 0
           },
           {
            "bin_start": 1205,
            "bin_end": 1212,
            "count": 0
           },
           {
            "bin_start": 1212,
            "bin_end": 1219,
            "count": 0
           },
           {
            "bin_start": 1219,
            "bin_end": 1226,
            "count": 0
           },
           {
            "bin_start": 1226,
            "bin_end": 1233,
            "count": 0
           },
           {
            "bin_start": 1233,
            "bin_end": 1240,
            "count": 0
           },
           {
            "bin_start": 1240,
            "bin_end": 1247,
            "count": 0
           },
           {
            "bin_start": 1247,
            "bin_end": 1254,
            "count": 0
           },
           {
            "bin_start": 1254,
            "bin_end": 1261,
            "count": 1
           }
          ]
         }
        },
        {
         "name": "moves",
         "dtype": "object",
         "stats": {
          "unique_count": 2,
          "nan_count": 0,
          "categories": [
           {
            "name": "d4 d5 c4 c6 cxd5 e6 dxe6 fxe6 Nf3 Bb4+ Nc3 Ba5 Bf4",
            "count": 1
           },
           {
            "name": "d4 Nc6 e4 e5 f4 f6 dxe5 fxe5 fxe5 Nxe5 Qd4 Nc6 Qe5+ Nxe5 c4 Bb4+",
            "count": 1
           }
          ]
         }
        },
        {
         "name": "opening_eco",
         "dtype": "object",
         "stats": {
          "unique_count": 2,
          "nan_count": 0,
          "categories": [
           {
            "name": "D10",
            "count": 1
           },
           {
            "name": "B00",
            "count": 1
           }
          ]
         }
        },
        {
         "name": "opening_name",
         "dtype": "object",
         "stats": {
          "unique_count": 2,
          "nan_count": 0,
          "categories": [
           {
            "name": "Slav Defense: Exchange Variation",
            "count": 1
           },
           {
            "name": "Nimzowitsch Defense: Kennedy Variation",
            "count": 1
           }
          ]
         }
        },
        {
         "name": "opening_ply",
         "dtype": "int64",
         "stats": {
          "unique_count": 2,
          "nan_count": 0,
          "min": "4",
          "max": "5",
          "histogram": [
           {
            "bin_start": 4,
            "bin_end": 4.1,
            "count": 1
           },
           {
            "bin_start": 4.1,
            "bin_end": 4.2,
            "count": 0
           },
           {
            "bin_start": 4.2,
            "bin_end": 4.3,
            "count": 0
           },
           {
            "bin_start": 4.3,
            "bin_end": 4.4,
            "count": 0
           },
           {
            "bin_start": 4.4,
            "bin_end": 4.5,
            "count": 0
           },
           {
            "bin_start": 4.5,
            "bin_end": 4.6,
            "count": 0
           },
           {
            "bin_start": 4.6,
            "bin_end": 4.7,
            "count": 0
           },
           {
            "bin_start": 4.7,
            "bin_end": 4.8,
            "count": 0
           },
           {
            "bin_start": 4.8,
            "bin_end": 4.9,
            "count": 0
           },
           {
            "bin_start": 4.9,
            "bin_end": 5,
            "count": 1
           }
          ]
         }
        },
        {
         "name": "_deepnote_index_column",
         "dtype": "int64"
        }
       ],
       "rows": [
        {
         "id": "TZJHLljE",
         "rated": false,
         "created_at": "1970-01-01T00:25:04.210000",
         "last_move_at": "1970-01-01T00:25:04.210000",
         "turns": 13,
         "victory_status": "outoftime",
         "winner": "white",
         "increment_code": "15+2",
         "white_id": "bourgris",
         "white_rating": 1500,
         "black_id": "a-00",
         "black_rating": 1191,
         "moves": "d4 d5 c4 c6 cxd5 e6 dxe6 fxe6 Nf3 Bb4+ Nc3 Ba5 Bf4",
         "opening_eco": "D10",
         "opening_name": "Slav Defense: Exchange Variation",
         "opening_ply": 5,
         "_deepnote_index_column": 0
        },
        {
         "id": "l1NXvwaE",
         "rated": true,
         "created_at": "1970-01-01T00:25:04.130000",
         "last_move_at": "1970-01-01T00:25:04.130000",
         "turns": 16,
         "victory_status": "resign",
         "winner": "black",
         "increment_code": "5+10",
         "white_id": "a-00",
         "white_rating": 1322,
         "black_id": "skinnerua",
         "black_rating": 1261,
         "moves": "d4 Nc6 e4 e5 f4 f6 dxe5 fxe5 fxe5 Nxe5 Qd4 Nc6 Qe5+ Nxe5 c4 Bb4+",
         "opening_eco": "B00",
         "opening_name": "Nimzowitsch Defense: Kennedy Variation",
         "opening_ply": 4,
         "_deepnote_index_column": 1
        }
       ]
      },
      "text/plain": "         id  rated              created_at            last_move_at  turns  \\\n0  TZJHLljE  False 1970-01-01 00:25:04.210 1970-01-01 00:25:04.210     13   \n1  l1NXvwaE   True 1970-01-01 00:25:04.130 1970-01-01 00:25:04.130     16   \n\n  victory_status winner increment_code  white_id  white_rating   black_id  \\\n0      outoftime  white           15+2  bourgris          1500       a-00   \n1         resign  black           5+10      a-00          1322  skinnerua   \n\n   black_rating                                              moves  \\\n0          1191  d4 d5 c4 c6 cxd5 e6 dxe6 fxe6 Nf3 Bb4+ Nc3 Ba5...   \n1          1261  d4 Nc6 e4 e5 f4 f6 dxe5 fxe5 fxe5 Nxe5 Qd4 Nc6...   \n\n  opening_eco                            opening_name  opening_ply  \n0         D10        Slav Defense: Exchange Variation            5  \n1         B00  Nimzowitsch Defense: Kennedy Variation            4  ",
      "text/html": "<div>\n<style scoped>\n    .dataframe tbody tr th:only-of-type {\n        vertical-align: middle;\n    }\n\n    .dataframe tbody tr th {\n        vertical-align: top;\n    }\n\n    .dataframe thead th {\n        text-align: right;\n    }\n</style>\n<table border=\"1\" class=\"dataframe\">\n  <thead>\n    <tr style=\"text-align: right;\">\n      <th></th>\n      <th>id</th>\n      <th>rated</th>\n      <th>created_at</th>\n      <th>last_move_at</th>\n      <th>turns</th>\n      <th>victory_status</th>\n      <th>winner</th>\n      <th>increment_code</th>\n      <th>white_id</th>\n      <th>white_rating</th>\n      <th>black_id</th>\n      <th>black_rating</th>\n      <th>moves</th>\n      <th>opening_eco</th>\n      <th>opening_name</th>\n      <th>opening_ply</th>\n    </tr>\n  </thead>\n  <tbody>\n    <tr>\n      <th>0</th>\n      <td>TZJHLljE</td>\n      <td>False</td>\n      <td>1970-01-01 00:25:04.210</td>\n      <td>1970-01-01 00:25:04.210</td>\n      <td>13</td>\n      <td>outoftime</td>\n      <td>white</td>\n      <td>15+2</td>\n      <td>bourgris</td>\n      <td>1500</td>\n      <td>a-00</td>\n      <td>1191</td>\n      <td>d4 d5 c4 c6 cxd5 e6 dxe6 fxe6 Nf3 Bb4+ Nc3 Ba5...</td>\n      <td>D10</td>\n      <td>Slav Defense: Exchange Variation</td>\n      <td>5</td>\n    </tr>\n    <tr>\n      <th>1</th>\n      <td>l1NXvwaE</td>\n      <td>True</td>\n      <td>1970-01-01 00:25:04.130</td>\n      <td>1970-01-01 00:25:04.130</td>\n      <td>16</td>\n      <td>resign</td>\n      <td>black</td>\n      <td>5+10</td>\n      <td>a-00</td>\n      <td>1322</td>\n      <td>skinnerua</td>\n      <td>1261</td>\n      <td>d4 Nc6 e4 e5 f4 f6 dxe5 fxe5 fxe5 Nxe5 Qd4 Nc6...</td>\n      <td>B00</td>\n      <td>Nimzowitsch Defense: Kennedy Variation</td>\n      <td>4</td>\n    </tr>\n  </tbody>\n</table>\n</div>"
     },
     "metadata": {}
    }
   ]
  },
  {
   "cell_type": "markdown",
   "source": "## Range constraints",
   "metadata": {
    "cell_id": "00009-d392ea1f-7cff-4555-9e03-98ffe83259f9",
    "deepnote_cell_type": "markdown",
    "deepnote_cell_height": 70
   }
  },
  {
   "cell_type": "markdown",
   "source": "Obviously, the rating of a player in a match can not be negative.\nAfter creating a histogram with matplotlib, we see that there are a few games with white players having ratings below zero.\n<br />This is mostly because of typo error. We should treat these cases and change them to positive numbers.",
   "metadata": {
    "cell_id": "00010-20e73f59-d5ca-43bb-9c23-f0bb62ece6de",
    "deepnote_cell_type": "markdown",
    "deepnote_cell_height": 97.1875
   }
  },
  {
   "cell_type": "code",
   "metadata": {
    "cell_id": "00011-d689c411-505f-4f9f-a30c-26e4e97d8fc5",
    "deepnote_to_be_reexecuted": false,
    "source_hash": "9a753e88",
    "execution_start": 1648571366865,
    "execution_millis": 1022,
    "deepnote_cell_type": "code",
    "deepnote_cell_height": 451.1875,
    "deepnote_output_heights": [
     21.1875,
     266
    ]
   },
   "source": "import matplotlib.pyplot as plt\nplt.hist(df[df['white_rating']<0]['white_rating'])\nplt.title('Negative white rating of games')",
   "execution_count": 5,
   "outputs": [
    {
     "output_type": "execute_result",
     "execution_count": 5,
     "data": {
      "text/plain": "Text(0.5, 1.0, 'Negative white rating of games')"
     },
     "metadata": {}
    },
    {
     "data": {
      "text/plain": "<Figure size 432x288 with 1 Axes>",
      "image/png": "[encoded data removed]"
     },
     "metadata": {
      "needs_background": "light",
      "image/png": {
       "width": 378,
       "height": 264
      }
     },
     "output_type": "display_data"
    }
   ]
  },
  {
   "cell_type": "code",
   "metadata": {
    "cell_id": "00012-1e39d4cb-f61b-4e52-8737-c1c6b08abe28",
    "deepnote_to_be_reexecuted": false,
    "source_hash": "988c36a5",
    "execution_start": 1648571367888,
    "execution_millis": 8,
    "deepnote_cell_type": "code",
    "deepnote_cell_height": 136.1875,
    "deepnote_output_heights": [
     21.1875
    ]
   },
   "source": "df['white_rating'] = abs(df['white_rating'])\ndf['white_rating'].min() # >0",
   "execution_count": 6,
   "outputs": [
    {
     "output_type": "execute_result",
     "execution_count": 6,
     "data": {
      "text/plain": "784"
     },
     "metadata": {}
    }
   ]
  },
  {
   "cell_type": "markdown",
   "source": "We also see the same problem with black rating.",
   "metadata": {
    "cell_id": "00013-81a46436-dab6-4c7f-8e8e-d58a22df4d64",
    "deepnote_cell_type": "markdown",
    "deepnote_cell_height": 52.390625
   }
  },
  {
   "cell_type": "code",
   "metadata": {
    "cell_id": "00014-c246fd0f-ec2a-4cd1-926e-b8c0adeb8e1e",
    "deepnote_to_be_reexecuted": false,
    "source_hash": "529b6545",
    "execution_start": 1648571367896,
    "execution_millis": 5,
    "deepnote_cell_type": "code",
    "deepnote_cell_height": 232
   },
   "source": "print(df[df['black_rating']<0]['id'])",
   "execution_count": 7,
   "outputs": [
    {
     "name": "stdout",
     "text": "20       oQklnWWp\n40       R9a2DLwe\n59       QZSTu1aT\n78       Mi1AmkiI\n14196    NmQjNNrg\n17791    tUOZivwN\nName: id, dtype: object\n",
     "output_type": "stream"
    }
   ]
  },
  {
   "cell_type": "code",
   "metadata": {
    "cell_id": "00015-e9799252-ff31-4488-8ba5-bc31ecf15067",
    "deepnote_to_be_reexecuted": false,
    "source_hash": "5a86f974",
    "execution_start": 1648571367902,
    "execution_millis": 6,
    "deepnote_cell_type": "code",
    "deepnote_cell_height": 99
   },
   "source": "df['black_rating'] = abs(df['black_rating'])\nassert df['black_rating'].min() > 0  # No output",
   "execution_count": 8,
   "outputs": []
  },
  {
   "cell_type": "markdown",
   "source": "## Uniqueness constraints",
   "metadata": {
    "cell_id": "00016-27041303-d636-4a57-aca6-5a7658c3abde",
    "deepnote_cell_type": "markdown",
    "deepnote_cell_height": 70
   }
  },
  {
   "cell_type": "markdown",
   "source": "Duplicate values usually happen because of data entry and human error or join or merge errors.\n<br />Let's see whether our data frame contains duplicate values using the method pandas.DataFrame.duplicated",
   "metadata": {
    "cell_id": "00017-cdb06978-b7ae-4d35-925d-9877d21b5ca7",
    "deepnote_cell_type": "markdown",
    "deepnote_cell_height": 74.796875
   }
  },
  {
   "cell_type": "code",
   "metadata": {
    "scrolled": false,
    "cell_id": "00018-16619f34-ba2b-4184-be3d-e9565eb574fd",
    "deepnote_to_be_reexecuted": false,
    "source_hash": "5d213fb6",
    "execution_start": 1648571367910,
    "execution_millis": 94,
    "deepnote_cell_type": "code",
    "deepnote_cell_height": 343.390625,
    "deepnote_output_heights": [
     119
    ]
   },
   "source": "duplicates = df.duplicated(keep = 'first') # keeping only the first row\ndf[duplicates].head(3)",
   "execution_count": 9,
   "outputs": [
    {
     "output_type": "execute_result",
     "execution_count": 9,
     "data": {
      "application/vnd.deepnote.dataframe.v3+json": {
       "column_count": 16,
       "row_count": 3,
       "columns": [
        {
         "name": "id",
         "dtype": "object",
         "stats": {
          "unique_count": 3,
          "nan_count": 0,
          "categories": [
           {
            "name": "XRuQPSzH",
            "count": 1
           },
           {
            "name": "x1Svcl0P",
            "count": 1
           },
           {
            "name": "wgIHzqDo",
            "count": 1
           }
          ]
         }
        },
        {
         "name": "rated",
         "dtype": "bool",
         "stats": {
          "unique_count": 1,
          "nan_count": 0,
          "categories": [
           {
            "name": "True",
            "count": 3
           }
          ]
         }
        },
        {
         "name": "created_at",
         "dtype": "datetime64[ns]",
         "stats": {
          "unique_count": 3,
          "nan_count": 0,
          "min": "1970-01-01 00:24:59.710000",
          "max": "1970-01-01 00:25:03.580000",
          "histogram": [
           {
            "bin_start": 1499710000000,
            "bin_end": 1500097000000,
            "count": 2
           },
           {
            "bin_start": 1500097000000,
            "bin_end": 1500484000000,
            "count": 0
           },
           {
            "bin_start": 1500484000000,
            "bin_end": 1500871000000,
            "count": 0
           },
           {
            "bin_start": 1500871000000,
            "bin_end": 1501258000000,
            "count": 0
           },
           {
            "bin_start": 1501258000000,
            "bin_end": 1501645000000,
            "count": 0
           },
           {
            "bin_start": 1501645000000,
            "bin_end": 1502032000000,
            "count": 0
           },
           {
            "bin_start": 1502032000000,
            "bin_end": 1502419000000,
            "count": 0
           },
           {
            "bin_start": 1502419000000,
            "bin_end": 1502806000000,
            "count": 0
           },
           {
            "bin_start": 1502806000000,
            "bin_end": 1503193000000,
            "count": 0
           },
           {
            "bin_start": 1503193000000,
            "bin_end": 1503580000000,
            "count": 1
           }
          ]
         }
        },
        {
         "name": "last_move_at",
         "dtype": "datetime64[ns]",
         "stats": {
          "unique_count": 3,
          "nan_count": 0,
          "min": "1970-01-01 00:24:59.710000",
          "max": "1970-01-01 00:25:03.580000",
          "histogram": [
           {
            "bin_start": 1499710000000,
            "bin_end": 1500097000000,
            "count": 2
           },
           {
            "bin_start": 1500097000000,
            "bin_end": 1500484000000,
            "count": 0
           },
           {
            "bin_start": 1500484000000,
            "bin_end": 1500871000000,
            "count": 0
           },
           {
            "bin_start": 1500871000000,
            "bin_end": 1501258000000,
            "count": 0
           },
           {
            "bin_start": 1501258000000,
            "bin_end": 1501645000000,
            "count": 0
           },
           {
            "bin_start": 1501645000000,
            "bin_end": 1502032000000,
            "count": 0
           },
           {
            "bin_start": 1502032000000,
            "bin_end": 1502419000000,
            "count": 0
           },
           {
            "bin_start": 1502419000000,
            "bin_end": 1502806000000,
            "count": 0
           },
           {
            "bin_start": 1502806000000,
            "bin_end": 1503193000000,
            "count": 0
           },
           {
            "bin_start": 1503193000000,
            "bin_end": 1503580000000,
            "count": 1
           }
          ]
         }
        },
        {
         "name": "turns",
         "dtype": "int64",
         "stats": {
          "unique_count": 3,
          "nan_count": 0,
          "min": "50",
          "max": "113",
          "histogram": [
           {
            "bin_start": 50,
            "bin_end": 56.3,
            "count": 1
           },
           {
            "bin_start": 56.3,
            "bin_end": 62.6,
            "count": 1
           },
           {
            "bin_start": 62.6,
            "bin_end": 68.9,
            "count": 0
           },
           {
            "bin_start": 68.9,
            "bin_end": 75.2,
            "count": 0
           },
           {
            "bin_start": 75.2,
            "bin_end": 81.5,
            "count": 0
           },
           {
            "bin_start": 81.5,
            "bin_end": 87.8,
            "count": 0
           },
           {
            "bin_start": 87.8,
            "bin_end": 94.1,
            "count": 0
           },
           {
            "bin_start": 94.1,
            "bin_end": 100.4,
            "count": 0
           },
           {
            "bin_start": 100.4,
            "bin_end": 106.69999999999999,
            "count": 0
           },
           {
            "bin_start": 106.69999999999999,
            "bin_end": 113,
            "count": 1
           }
          ]
         }
        },
        {
         "name": "victory_status",
         "dtype": "object",
         "stats": {
          "unique_count": 2,
          "nan_count": 0,
          "categories": [
           {
            "name": "mate",
            "count": 2
           },
           {
            "name": "resign",
            "count": 1
           }
          ]
         }
        },
        {
         "name": "winner",
         "dtype": "object",
         "stats": {
          "unique_count": 2,
          "nan_count": 0,
          "categories": [
           {
            "name": "white",
            "count": 2
           },
           {
            "name": "black",
            "count": 1
           }
          ]
         }
        },
        {
         "name": "increment_code",
         "dtype": "object",
         "stats": {
          "unique_count": 1,
          "nan_count": 0,
          "categories": [
           {
            "name": "10+0",
            "count": 3
           }
          ]
         }
        },
        {
         "name": "white_id",
         "dtype": "object",
         "stats": {
          "unique_count": 3,
          "nan_count": 0,
          "categories": [
           {
            "name": "chess-brahs",
            "count": 1
           },
           {
            "name": "kachess10204542",
            "count": 1
           },
           {
            "name": "quantummequanic",
            "count": 1
           }
          ]
         }
        },
        {
         "name": "white_rating",
         "dtype": "int64",
         "stats": {
          "unique_count": 3,
          "nan_count": 0,
          "min": "1171",
          "max": "2036",
          "histogram": [
           {
            "bin_start": 1171,
            "bin_end": 1257.5,
            "count": 1
           },
           {
            "bin_start": 1257.5,
            "bin_end": 1344,
            "count": 0
           },
           {
            "bin_start": 1344,
            "bin_end": 1430.5,
            "count": 1
           },
           {
            "bin_start": 1430.5,
            "bin_end": 1517,
            "count": 0
           },
           {
            "bin_start": 1517,
            "bin_end": 1603.5,
            "count": 0
           },
           {
            "bin_start": 1603.5,
            "bin_end": 1690,
            "count": 0
           },
           {
            "bin_start": 1690,
            "bin_end": 1776.5,
            "count": 0
           },
           {
            "bin_start": 1776.5,
            "bin_end": 1863,
            "count": 0
           },
           {
            "bin_start": 1863,
            "bin_end": 1949.5,
            "count": 0
           },
           {
            "bin_start": 1949.5,
            "bin_end": 2036,
            "count": 1
           }
          ]
         }
        },
        {
         "name": "black_id",
         "dtype": "object",
         "stats": {
          "unique_count": 3,
          "nan_count": 0,
          "categories": [
           {
            "name": "cdvh",
            "count": 1
           },
           {
            "name": "quantummequanic",
            "count": 1
           },
           {
            "name": "barrow-wight",
            "count": 1
           }
          ]
         }
        },
        {
         "name": "black_rating",
         "dtype": "int64",
         "stats": {
          "unique_count": 3,
          "nan_count": 0,
          "min": "1364",
          "max": "1706",
          "histogram": [
           {
            "bin_start": 1364,
            "bin_end": 1398.2,
            "count": 1
           },
           {
            "bin_start": 1398.2,
            "bin_end": 1432.4,
            "count": 1
           },
           {
            "bin_start": 1432.4,
            "bin_end": 1466.6,
            "count": 0
           },
           {
            "bin_start": 1466.6,
            "bin_end": 1500.8,
            "count": 0
           },
           {
            "bin_start": 1500.8,
            "bin_end": 1535,
            "count": 0
           },
           {
            "bin_start": 1535,
            "bin_end": 1569.2,
            "count": 0
           },
           {
            "bin_start": 1569.2,
            "bin_end": 1603.4,
            "count": 0
           },
           {
            "bin_start": 1603.4,
            "bin_end": 1637.6,
            "count": 0
           },
           {
            "bin_start": 1637.6,
            "bin_end": 1671.8,
            "count": 0
           },
           {
            "bin_start": 1671.8,
            "bin_end": 1706,
            "count": 1
           }
          ]
         }
        },
        {
         "name": "moves",
         "dtype": "object",
         "stats": {
          "unique_count": 3,
          "nan_count": 0,
          "categories": [
           {
            "name": "Nf3 d5 g3 c5 Bg2 Nc6 d3 Nf6 O-O e5 Nc3 d4 Ne4 Nxe4 dxe4 Be7 e3 O-O exd4 cxd4 Re1 Be6 Bd2 Qb6 b3 f6 Qe2 Nb4 Bxb4 Bxb4 Red1 Rac8 Rac1 Rc6 Nh4 Ba3 Rb1 Rfc8 Rd2 Bb4 Rdd1 Rxc2 Qf3 Rxa2 Nf5 Rcc2 Rf1 Bf8 Rfc1 Rxf2",
            "count": 1
           },
           {
            "name": "c4 e5 Nc3 Nf6 Nf3 Nc6 g3 d5 cxd5 Nxd5 Bg2 Be6 O-O Bc5 Nd4 Bxd4 e3 Bc5 Qe2 a6 f4 exf4 d4 Bd6 Bxd5 Bh3 Bxf7+ Kxf7 Qh5+ Ke7 Qxh3 fxg3 d5 gxh2+ Kh1 Qd7 Rf7+ Kxf7 Qxd7+ Kg6 Qg4+ Kf6 Qe6+ Kg5 Ne4+ Kh4 dxc6 Rhf8 Nxd6 Rf1+ Kxh2 Rf2+ Kg1 Raf8 Ne4 Rf1+ Kg2 Re1 Qh3#",
            "count": 1
           },
           {
            "name": "e4 e6 e5 Bc5 d4 Be7 c3 Nh6 Bxh6 gxh6 Qd2 Bg5 f4 Be7 Bd3 Rg8 g3 Rg7 f5 b6 Qxh6 Bf8 fxe6 dxe6 Bxh7 Bb7 Nd2 Bxh1 O-O-O Qd5 Rf1 Qxa2 Qh5 Qa1+ Kc2 Qa4+ Kc1 Ba3 bxa3 Qxa3+ Kc2 Qa2+ Kd3 Qa6+ Ke3 Bg2 Bd3 Qa5 Qh8+ Ke7 Qxg7 Qxc3 Qxf7+ Kd8 Qxe6 Bxf1 Qd5+ Nd7 Qxa8+ Ke7 Qe4 Bxd3 Qxd3 Qc1 Qh7+ Ke6 Nf3 Qc3+ Ke4 c5 Qh3+ Ke7 Qh4+ Ke6 Qh6+ Ke7 Qd6+ Kd8 e6 Qc2+ Kf4 Qh7 Ne5 Ke8 Qxd7+ Qxd7 exd7+ Kd8 dxc5 bxc5 h4 a5 Ndc4 a4 h5 a3 Nxa3 c4 h6 c3 h7 c2 h8=Q+ Kc7 Nxc2 Kb6 d8=Q+ Kc5 Qd4+ Kb5 Qb8+ Ka5 Qa1#",
            "count": 1
           }
          ]
         }
        },
        {
         "name": "opening_eco",
         "dtype": "object",
         "stats": {
          "unique_count": 3,
          "nan_count": 0,
          "categories": [
           {
            "name": "A08",
            "count": 1
           },
           {
            "name": "A29",
            "count": 1
           },
           {
            "name": "C00",
            "count": 1
           }
          ]
         }
        },
        {
         "name": "opening_name",
         "dtype": "object",
         "stats": {
          "unique_count": 3,
          "nan_count": 0,
          "categories": [
           {
            "name": "King's Indian Attack: French Variation",
            "count": 1
           },
           {
            "name": "English Opening: King's English Variation |  Four Knights Variation |  Fianchetto Line",
            "count": 1
           },
           {
            "name": "French Defense: Steinitz Attack",
            "count": 1
           }
          ]
         }
        },
        {
         "name": "opening_ply",
         "dtype": "int64",
         "stats": {
          "unique_count": 3,
          "nan_count": 0,
          "min": "3",
          "max": "7",
          "histogram": [
           {
            "bin_start": 3,
            "bin_end": 3.4,
            "count": 1
           },
           {
            "bin_start": 3.4,
            "bin_end": 3.8,
            "count": 0
           },
           {
            "bin_start": 3.8,
            "bin_end": 4.2,
            "count": 0
           },
           {
            "bin_start": 4.2,
            "bin_end": 4.6,
            "count": 0
           },
           {
            "bin_start": 4.6,
            "bin_end": 5,
            "count": 0
           },
           {
            "bin_start": 5,
            "bin_end": 5.4,
            "count": 0
           },
           {
            "bin_start": 5.4,
            "bin_end": 5.800000000000001,
            "count": 0
           },
           {
            "bin_start": 5.800000000000001,
            "bin_end": 6.2,
            "count": 1
           },
           {
            "bin_start": 6.2,
            "bin_end": 6.6,
            "count": 0
           },
           {
            "bin_start": 6.6,
            "bin_end": 7,
            "count": 1
           }
          ]
         }
        },
        {
         "name": "_deepnote_index_column",
         "dtype": "int64"
        }
       ],
       "rows": [
        {
         "id": "XRuQPSzH",
         "rated": true,
         "created_at": "1970-01-01T00:25:03.580000",
         "last_move_at": "1970-01-01T00:25:03.580000",
         "turns": 50,
         "victory_status": "resign",
         "winner": "black",
         "increment_code": "10+0",
         "white_id": "chess-brahs",
         "white_rating": 2036,
         "black_id": "cdvh",
         "black_rating": 1706,
         "moves": "Nf3 d5 g3 c5 Bg2 Nc6 d3 Nf6 O-O e5 Nc3 d4 Ne4 Nxe4 dxe4 Be7 e3 O-O exd4 cxd4 Re1 Be6 Bd2 Qb6 b3 f6 Qe2 Nb4 Bxb4 Bxb4 Red1 Rac8 Rac1 Rc6 Nh4 Ba3 Rb1 Rfc8 Rd2 Bb4 Rdd1 Rxc2 Qf3 Rxa2 Nf5 Rcc2 Rf1 Bf8 Rfc1 Rxf2",
         "opening_eco": "A08",
         "opening_name": "King's Indian Attack: French Variation",
         "opening_ply": 6,
         "_deepnote_index_column": 950
        },
        {
         "id": "x1Svcl0P",
         "rated": true,
         "created_at": "1970-01-01T00:24:59.820000",
         "last_move_at": "1970-01-01T00:24:59.830000",
         "turns": 59,
         "victory_status": "mate",
         "winner": "white",
         "increment_code": "10+0",
         "white_id": "kachess10204542",
         "white_rating": 1171,
         "black_id": "quantummequanic",
         "black_rating": 1432,
         "moves": "c4 e5 Nc3 Nf6 Nf3 Nc6 g3 d5 cxd5 Nxd5 Bg2 Be6 O-O Bc5 Nd4 Bxd4 e3 Bc5 Qe2 a6 f4 exf4 d4 Bd6 Bxd5 Bh3 Bxf7+ Kxf7 Qh5+ Ke7 Qxh3 fxg3 d5 gxh2+ Kh1 Qd7 Rf7+ Kxf7 Qxd7+ Kg6 Qg4+ Kf6 Qe6+ Kg5 Ne4+ Kh4 dxc6 Rhf8 Nxd6 Rf1+ Kxh2 Rf2+ Kg1 Raf8 Ne4 Rf1+ Kg2 Re1 Qh3#",
         "opening_eco": "A29",
         "opening_name": "English Opening: King's English Variation |  Four Knights Variation |  Fianchetto Line",
         "opening_ply": 7,
         "_deepnote_index_column": 1794
        },
        {
         "id": "wgIHzqDo",
         "rated": true,
         "created_at": "1970-01-01T00:24:59.710000",
         "last_move_at": "1970-01-01T00:24:59.710000",
         "turns": 113,
         "victory_status": "mate",
         "winner": "white",
         "increment_code": "10+0",
         "white_id": "quantummequanic",
         "white_rating": 1403,
         "black_id": "barrow-wight",
         "black_rating": 1364,
         "moves": "e4 e6 e5 Bc5 d4 Be7 c3 Nh6 Bxh6 gxh6 Qd2 Bg5 f4 Be7 Bd3 Rg8 g3 Rg7 f5 b6 Qxh6 Bf8 fxe6 dxe6 Bxh7 Bb7 Nd2 Bxh1 O-O-O Qd5 Rf1 Qxa2 Qh5 Qa1+ Kc2 Qa4+ Kc1 Ba3 bxa3 Qxa3+ Kc2 Qa2+ Kd3 Qa6+ Ke3 Bg2 Bd3 Qa5 Qh8+ Ke7 Qxg7 Qxc3 Qxf7+ Kd8 Qxe6 Bxf1 Qd5+ Nd7 Qxa8+ Ke7 Qe4 Bxd3 Qxd3 Qc1 Qh7+ Ke6 Nf3 Qc3+ Ke4 c5 Qh3+ Ke7 Qh4+ Ke6 Qh6+ Ke7 Qd6+ Kd8 e6 Qc2+ Kf4 Qh7 Ne5 Ke8 Qxd7+ Qxd7 exd7+ Kd8 dxc5 bxc5 h4 a5 Ndc4 a4 h5 a3 Nxa3 c4 h6 c3 h7 c2 h8=Q+ Kc7 Nxc2 Kb6 d8=Q+ Kc5 Qd4+ Kb5 Qb8+ Ka5 Qa1#",
         "opening_eco": "C00",
         "opening_name": "French Defense: Steinitz Attack",
         "opening_ply": 3,
         "_deepnote_index_column": 1830
        }
       ]
      },
      "text/plain": "            id  rated              created_at            last_move_at  turns  \\\n950   XRuQPSzH   True 1970-01-01 00:25:03.580 1970-01-01 00:25:03.580     50   \n1794  x1Svcl0P   True 1970-01-01 00:24:59.820 1970-01-01 00:24:59.830     59   \n1830  wgIHzqDo   True 1970-01-01 00:24:59.710 1970-01-01 00:24:59.710    113   \n\n     victory_status winner increment_code         white_id  white_rating  \\\n950          resign  black           10+0      chess-brahs          2036   \n1794           mate  white           10+0  kachess10204542          1171   \n1830           mate  white           10+0  quantummequanic          1403   \n\n             black_id  black_rating  \\\n950              cdvh          1706   \n1794  quantummequanic          1432   \n1830     barrow-wight          1364   \n\n                                                  moves opening_eco  \\\n950   Nf3 d5 g3 c5 Bg2 Nc6 d3 Nf6 O-O e5 Nc3 d4 Ne4 ...         A08   \n1794  c4 e5 Nc3 Nf6 Nf3 Nc6 g3 d5 cxd5 Nxd5 Bg2 Be6 ...         A29   \n1830  e4 e6 e5 Bc5 d4 Be7 c3 Nh6 Bxh6 gxh6 Qd2 Bg5 f...         C00   \n\n                                           opening_name  opening_ply  \n950              King's Indian Attack: French Variation            6  \n1794  English Opening: King's English Variation |  F...            7  \n1830                    French Defense: Steinitz Attack            3  ",
      "text/html": "<div>\n<style scoped>\n    .dataframe tbody tr th:only-of-type {\n        vertical-align: middle;\n    }\n\n    .dataframe tbody tr th {\n        vertical-align: top;\n    }\n\n    .dataframe thead th {\n        text-align: right;\n    }\n</style>\n<table border=\"1\" class=\"dataframe\">\n  <thead>\n    <tr style=\"text-align: right;\">\n      <th></th>\n      <th>id</th>\n      <th>rated</th>\n      <th>created_at</th>\n      <th>last_move_at</th>\n      <th>turns</th>\n      <th>victory_status</th>\n      <th>winner</th>\n      <th>increment_code</th>\n      <th>white_id</th>\n      <th>white_rating</th>\n      <th>black_id</th>\n      <th>black_rating</th>\n      <th>moves</th>\n      <th>opening_eco</th>\n      <th>opening_name</th>\n      <th>opening_ply</th>\n    </tr>\n  </thead>\n  <tbody>\n    <tr>\n      <th>950</th>\n      <td>XRuQPSzH</td>\n      <td>True</td>\n      <td>1970-01-01 00:25:03.580</td>\n      <td>1970-01-01 00:25:03.580</td>\n      <td>50</td>\n      <td>resign</td>\n      <td>black</td>\n      <td>10+0</td>\n      <td>chess-brahs</td>\n      <td>2036</td>\n      <td>cdvh</td>\n      <td>1706</td>\n      <td>Nf3 d5 g3 c5 Bg2 Nc6 d3 Nf6 O-O e5 Nc3 d4 Ne4 ...</td>\n      <td>A08</td>\n      <td>King's Indian Attack: French Variation</td>\n      <td>6</td>\n    </tr>\n    <tr>\n      <th>1794</th>\n      <td>x1Svcl0P</td>\n      <td>True</td>\n      <td>1970-01-01 00:24:59.820</td>\n      <td>1970-01-01 00:24:59.830</td>\n      <td>59</td>\n      <td>mate</td>\n      <td>white</td>\n      <td>10+0</td>\n      <td>kachess10204542</td>\n      <td>1171</td>\n      <td>quantummequanic</td>\n      <td>1432</td>\n      <td>c4 e5 Nc3 Nf6 Nf3 Nc6 g3 d5 cxd5 Nxd5 Bg2 Be6 ...</td>\n      <td>A29</td>\n      <td>English Opening: King's English Variation |  F...</td>\n      <td>7</td>\n    </tr>\n    <tr>\n      <th>1830</th>\n      <td>wgIHzqDo</td>\n      <td>True</td>\n      <td>1970-01-01 00:24:59.710</td>\n      <td>1970-01-01 00:24:59.710</td>\n      <td>113</td>\n      <td>mate</td>\n      <td>white</td>\n      <td>10+0</td>\n      <td>quantummequanic</td>\n      <td>1403</td>\n      <td>barrow-wight</td>\n      <td>1364</td>\n      <td>e4 e6 e5 Bc5 d4 Be7 c3 Nh6 Bxh6 gxh6 Qd2 Bg5 f...</td>\n      <td>C00</td>\n      <td>French Defense: Steinitz Attack</td>\n      <td>3</td>\n    </tr>\n  </tbody>\n</table>\n</div>"
     },
     "metadata": {}
    }
   ]
  },
  {
   "cell_type": "markdown",
   "source": "The complete duplicates can be treated easily. All that is required is to keep one of them only and discard the others.\n<br />This can be done with the dot-drop_duplicates() method.",
   "metadata": {
    "cell_id": "00019-c31649cd-adb5-46ab-ad42-8f7ef0bf59c9",
    "deepnote_cell_type": "markdown",
    "deepnote_cell_height": 74.796875
   }
  },
  {
   "cell_type": "code",
   "metadata": {
    "cell_id": "00020-53c5047d-b348-44e2-a989-a45113be03ee",
    "deepnote_to_be_reexecuted": false,
    "source_hash": "9824526a",
    "execution_start": 1648571368001,
    "execution_millis": 38,
    "deepnote_cell_type": "code",
    "deepnote_cell_height": 81
   },
   "source": "df.drop_duplicates(keep='first', inplace=True)",
   "execution_count": 10,
   "outputs": []
  },
  {
   "cell_type": "code",
   "metadata": {
    "cell_id": "00021-27b6ccb9-a599-4f82-af10-d707db96831d",
    "deepnote_to_be_reexecuted": false,
    "source_hash": "7ce633d9",
    "execution_start": 1648571368042,
    "execution_millis": 23,
    "deepnote_cell_type": "code",
    "deepnote_cell_height": 99
   },
   "source": "duplicates = df.duplicated(keep = False) # keeping only the first row\nassert(len(df[duplicates])==0) # No output",
   "execution_count": 11,
   "outputs": []
  },
  {
   "cell_type": "markdown",
   "source": "## Categories and membership constraints",
   "metadata": {
    "cell_id": "00022-c5a13659-8e78-4ddd-b2e2-2125b6a3fcce",
    "deepnote_cell_type": "markdown",
    "deepnote_cell_height": 70
   }
  },
  {
   "cell_type": "markdown",
   "source": "For this type of problem, we will be dealing with an obvious categorical data which is the survival status.\nWe will work on the titanic dataset.\n<br />Before cleaning our data, we need to import the csv file and see what's inside.",
   "metadata": {
    "cell_id": "00023-dbff2042-6039-421d-a0d0-50b9635afe52",
    "deepnote_cell_type": "markdown",
    "deepnote_cell_height": 97.1875
   }
  },
  {
   "cell_type": "code",
   "metadata": {
    "cell_id": "00024-be8e90df-4952-4261-89e1-ac9706c6347d",
    "deepnote_to_be_reexecuted": false,
    "source_hash": "7de43f88",
    "execution_start": 1648571368067,
    "execution_millis": 68,
    "deepnote_cell_type": "code",
    "deepnote_cell_height": 488,
    "deepnote_output_heights": [
     206
    ]
   },
   "source": "df = pd.read_csv('Titanic.csv')\n\nsurvived = {0, 1}\ndf[~df['Survived'].isin(survived)]",
   "execution_count": 12,
   "outputs": [
    {
     "output_type": "execute_result",
     "execution_count": 12,
     "data": {
      "application/vnd.deepnote.dataframe.v3+json": {
       "column_count": 5,
       "row_count": 6,
       "columns": [
        {
         "name": "Name",
         "dtype": "object",
         "stats": {
          "unique_count": 6,
          "nan_count": 0,
          "categories": [
           {
            "name": "Aubert, Mrs Leontine Pauline",
            "count": 1
           },
           {
            "name": "Foreman, Mr Benjamin Laventall",
            "count": 1
           },
           {
            "name": "4 others",
            "count": 4
           }
          ]
         }
        },
        {
         "name": "PClass",
         "dtype": "object",
         "stats": {
          "unique_count": 2,
          "nan_count": 0,
          "categories": [
           {
            "name": "1st",
            "count": 5
           },
           {
            "name": "3rd",
            "count": 1
           }
          ]
         }
        },
        {
         "name": "Age",
         "dtype": "float64",
         "stats": {
          "unique_count": 3,
          "nan_count": 3,
          "min": "16.0",
          "max": "65.0",
          "histogram": [
           {
            "bin_start": 16,
            "bin_end": 20.9,
            "count": 1
           },
           {
            "bin_start": 20.9,
            "bin_end": 25.8,
            "count": 0
           },
           {
            "bin_start": 25.8,
            "bin_end": 30.700000000000003,
            "count": 1
           },
           {
            "bin_start": 30.700000000000003,
            "bin_end": 35.6,
            "count": 0
           },
           {
            "bin_start": 35.6,
            "bin_end": 40.5,
            "count": 0
           },
           {
            "bin_start": 40.5,
            "bin_end": 45.400000000000006,
            "count": 0
           },
           {
            "bin_start": 45.400000000000006,
            "bin_end": 50.300000000000004,
            "count": 0
           },
           {
            "bin_start": 50.300000000000004,
            "bin_end": 55.2,
            "count": 0
           },
           {
            "bin_start": 55.2,
            "bin_end": 60.1,
            "count": 0
           },
           {
            "bin_start": 60.1,
            "bin_end": 65,
            "count": 1
           }
          ]
         }
        },
        {
         "name": "Sex",
         "dtype": "object",
         "stats": {
          "unique_count": 2,
          "nan_count": 0,
          "categories": [
           {
            "name": "male",
            "count": 4
           },
           {
            "name": "female",
            "count": 2
           }
          ]
         }
        },
        {
         "name": "Survived",
         "dtype": "int64",
         "stats": {
          "unique_count": 6,
          "nan_count": 0,
          "min": "4",
          "max": "159",
          "histogram": [
           {
            "bin_start": 4,
            "bin_end": 19.5,
            "count": 3
           },
           {
            "bin_start": 19.5,
            "bin_end": 35,
            "count": 1
           },
           {
            "bin_start": 35,
            "bin_end": 50.5,
            "count": 0
           },
           {
            "bin_start": 50.5,
            "bin_end": 66,
            "count": 1
           },
           {
            "bin_start": 66,
            "bin_end": 81.5,
            "count": 0
           },
           {
            "bin_start": 81.5,
            "bin_end": 97,
            "count": 0
           },
           {
            "bin_start": 97,
            "bin_end": 112.5,
            "count": 0
           },
           {
            "bin_start": 112.5,
            "bin_end": 128,
            "count": 0
           },
           {
            "bin_start": 128,
            "bin_end": 143.5,
            "count": 0
           },
           {
            "bin_start": 143.5,
            "bin_end": 159,
            "count": 1
           }
          ]
         }
        },
        {
         "name": "_deepnote_index_column",
         "dtype": "int64"
        }
       ],
       "rows": [
        {
         "Name": "Aubert, Mrs Leontine Pauline",
         "PClass": "1st",
         "Age": "nan",
         "Sex": "female",
         "Survived": 5,
         "_deepnote_index_column": 12
        },
        {
         "Name": "Foreman, Mr Benjamin Laventall",
         "PClass": "1st",
         "Age": 30,
         "Sex": "male",
         "Survived": 4,
         "_deepnote_index_column": 98
        },
        {
         "Name": "Hippach, Miss Jean Gertrude",
         "PClass": "1st",
         "Age": 16,
         "Sex": "female",
         "Survived": 9,
         "_deepnote_index_column": 140
        },
        {
         "Name": "Millet, Mr Francis Davis",
         "PClass": "1st",
         "Age": 65,
         "Sex": "male",
         "Survived": 159,
         "_deepnote_index_column": 179
        },
        {
         "Name": "Ross, Mr John Hugo",
         "PClass": "1st",
         "Age": "nan",
         "Sex": "male",
         "Survived": 32,
         "_deepnote_index_column": 213
        },
        {
         "Name": "Khalil, Mr Betros",
         "PClass": "3rd",
         "Age": "nan",
         "Sex": "male",
         "Survived": 54,
         "_deepnote_index_column": 925
        }
       ]
      },
      "text/plain": "                               Name PClass   Age     Sex  Survived\n12     Aubert, Mrs Leontine Pauline    1st   NaN  female         5\n98   Foreman, Mr Benjamin Laventall    1st  30.0    male         4\n140     Hippach, Miss Jean Gertrude    1st  16.0  female         9\n179        Millet, Mr Francis Davis    1st  65.0    male       159\n213              Ross, Mr John Hugo    1st   NaN    male        32\n925               Khalil, Mr Betros    3rd   NaN    male        54",
      "text/html": "<div>\n<style scoped>\n    .dataframe tbody tr th:only-of-type {\n        vertical-align: middle;\n    }\n\n    .dataframe tbody tr th {\n        vertical-align: top;\n    }\n\n    .dataframe thead th {\n        text-align: right;\n    }\n</style>\n<table border=\"1\" class=\"dataframe\">\n  <thead>\n    <tr style=\"text-align: right;\">\n      <th></th>\n      <th>Name</th>\n      <th>PClass</th>\n      <th>Age</th>\n      <th>Sex</th>\n      <th>Survived</th>\n    </tr>\n  </thead>\n  <tbody>\n    <tr>\n      <th>12</th>\n      <td>Aubert, Mrs Leontine Pauline</td>\n      <td>1st</td>\n      <td>NaN</td>\n      <td>female</td>\n      <td>5</td>\n    </tr>\n    <tr>\n      <th>98</th>\n      <td>Foreman, Mr Benjamin Laventall</td>\n      <td>1st</td>\n      <td>30.0</td>\n      <td>male</td>\n      <td>4</td>\n    </tr>\n    <tr>\n      <th>140</th>\n      <td>Hippach, Miss Jean Gertrude</td>\n      <td>1st</td>\n      <td>16.0</td>\n      <td>female</td>\n      <td>9</td>\n    </tr>\n    <tr>\n      <th>179</th>\n      <td>Millet, Mr Francis Davis</td>\n      <td>1st</td>\n      <td>65.0</td>\n      <td>male</td>\n      <td>159</td>\n    </tr>\n    <tr>\n      <th>213</th>\n      <td>Ross, Mr John Hugo</td>\n      <td>1st</td>\n      <td>NaN</td>\n      <td>male</td>\n      <td>32</td>\n    </tr>\n    <tr>\n      <th>925</th>\n      <td>Khalil, Mr Betros</td>\n      <td>3rd</td>\n      <td>NaN</td>\n      <td>male</td>\n      <td>54</td>\n    </tr>\n  </tbody>\n</table>\n</div>"
     },
     "metadata": {}
    }
   ]
  },
  {
   "cell_type": "markdown",
   "source": "We need to get rid of these rows.",
   "metadata": {
    "cell_id": "00025-43df89c0-02dd-4e80-b09c-64610abc68a3",
    "deepnote_cell_type": "markdown",
    "deepnote_cell_height": 52.390625
   }
  },
  {
   "cell_type": "code",
   "metadata": {
    "cell_id": "00026-01d0779a-b96c-48c3-a6a4-fd029dd1ec87",
    "deepnote_to_be_reexecuted": false,
    "source_hash": "6d5bf9fe",
    "execution_start": 1648571368124,
    "execution_millis": 1,
    "deepnote_cell_type": "code",
    "deepnote_cell_height": 81
   },
   "source": "df = df[df['Survived'].isin(survived)]",
   "execution_count": 13,
   "outputs": []
  },
  {
   "cell_type": "markdown",
   "source": "## Handle missing data",
   "metadata": {
    "cell_id": "00027-cf1176d9-c095-46df-913a-fbbf6ac20b60",
    "deepnote_cell_type": "markdown",
    "deepnote_cell_height": 70
   }
  },
  {
   "cell_type": "markdown",
   "source": "When working on datasets, we usually face the problem of completeness and missing data. Like all of the previous constraints, it can be caused by technical error or human error.\n<br />To see whether our dataframe contain missing values we apply DataFrame.isna().any() method.",
   "metadata": {
    "cell_id": "00028-c451176d-8593-40a6-8e28-676057d967b5",
    "deepnote_cell_type": "markdown",
    "deepnote_cell_height": 97.1875
   }
  },
  {
   "cell_type": "code",
   "metadata": {
    "cell_id": "00029-614c4632-2a84-42cf-8d87-c35a041acf24",
    "deepnote_to_be_reexecuted": false,
    "source_hash": "3ba3a669",
    "execution_start": 1648571368126,
    "execution_millis": 10,
    "deepnote_cell_type": "code",
    "deepnote_cell_height": 214.1875,
    "deepnote_output_heights": [
     117.1875
    ]
   },
   "source": "df.isna().any()",
   "execution_count": 14,
   "outputs": [
    {
     "output_type": "execute_result",
     "execution_count": 14,
     "data": {
      "text/plain": "Name        False\nPClass       True\nAge          True\nSex         False\nSurvived    False\ndtype: bool"
     },
     "metadata": {}
    }
   ]
  },
  {
   "cell_type": "markdown",
   "source": "We clearly see missing data in PClass and Age columns. <br />\nWe also can plot missing values by columns to understand more the situation.",
   "metadata": {
    "cell_id": "00030-a67e14eb-88d4-4ffb-a323-12d2b5991fa8",
    "deepnote_cell_type": "markdown",
    "deepnote_cell_height": 74.796875
   }
  },
  {
   "cell_type": "code",
   "metadata": {
    "cell_id": "00031-5103089f-cd63-4747-979f-2bc266430d7c",
    "deepnote_to_be_reexecuted": false,
    "source_hash": "5204df7d",
    "execution_start": 1648571368128,
    "execution_millis": 202,
    "deepnote_cell_type": "code",
    "deepnote_cell_height": 433,
    "deepnote_output_heights": [
     300
    ]
   },
   "source": "df.isna().sum().plot(kind=\"bar\")\nplt.title('Number of null data by column')\nplt.show()",
   "execution_count": 15,
   "outputs": [
    {
     "data": {
      "text/plain": "<Figure size 432x288 with 1 Axes>",
      "image/png": "[encoded data removed]"
     },
     "metadata": {
      "needs_background": "light",
      "image/png": {
       "width": 375,
       "height": 298
      }
     },
     "output_type": "display_data"
    }
   ]
  },
  {
   "cell_type": "code",
   "metadata": {
    "cell_id": "00032-458c6168-5203-4868-a760-4ebfd7931549",
    "deepnote_to_be_reexecuted": false,
    "source_hash": "762ace58",
    "execution_start": 1648571368347,
    "execution_millis": 8,
    "deepnote_cell_type": "code",
    "deepnote_cell_height": 229,
    "deepnote_output_heights": [
     61
    ]
   },
   "source": "df[df['PClass'].isna()]",
   "execution_count": 16,
   "outputs": [
    {
     "output_type": "execute_result",
     "execution_count": 16,
     "data": {
      "application/vnd.deepnote.dataframe.v3+json": {
       "column_count": 5,
       "row_count": 1,
       "columns": [
        {
         "name": "Name",
         "dtype": "object",
         "stats": {
          "unique_count": 1,
          "nan_count": 0,
          "categories": [
           {
            "name": "Jacobsohn Mr Samuel",
            "count": 1
           }
          ]
         }
        },
        {
         "name": "PClass",
         "dtype": "object",
         "stats": {
          "unique_count": 0,
          "nan_count": 1,
          "categories": [
           {
            "name": "Missing",
            "count": 1
           }
          ]
         }
        },
        {
         "name": "Age",
         "dtype": "float64",
         "stats": {
          "unique_count": 0,
          "nan_count": 1,
          "min": null,
          "max": null,
          "histogram": [
           {
            "bin_start": 0,
            "bin_end": 0.1,
            "count": 0
           },
           {
            "bin_start": 0.1,
            "bin_end": 0.2,
            "count": 0
           },
           {
            "bin_start": 0.2,
            "bin_end": 0.30000000000000004,
            "count": 0
           },
           {
            "bin_start": 0.30000000000000004,
            "bin_end": 0.4,
            "count": 0
           },
           {
            "bin_start": 0.4,
            "bin_end": 0.5,
            "count": 0
           },
           {
            "bin_start": 0.5,
            "bin_end": 0.6000000000000001,
            "count": 0
           },
           {
            "bin_start": 0.6000000000000001,
            "bin_end": 0.7000000000000001,
            "count": 0
           },
           {
            "bin_start": 0.7000000000000001,
            "bin_end": 0.8,
            "count": 0
           },
           {
            "bin_start": 0.8,
            "bin_end": 0.9,
            "count": 0
           },
           {
            "bin_start": 0.9,
            "bin_end": 1,
            "count": 0
           }
          ]
         }
        },
        {
         "name": "Sex",
         "dtype": "object",
         "stats": {
          "unique_count": 1,
          "nan_count": 0,
          "categories": [
           {
            "name": "male",
            "count": 1
           }
          ]
         }
        },
        {
         "name": "Survived",
         "dtype": "int64",
         "stats": {
          "unique_count": 1,
          "nan_count": 0,
          "min": "0",
          "max": "0",
          "histogram": [
           {
            "bin_start": -0.5,
            "bin_end": -0.4,
            "count": 0
           },
           {
            "bin_start": -0.4,
            "bin_end": -0.3,
            "count": 0
           },
           {
            "bin_start": -0.3,
            "bin_end": -0.19999999999999996,
            "count": 0
           },
           {
            "bin_start": -0.19999999999999996,
            "bin_end": -0.09999999999999998,
            "count": 0
           },
           {
            "bin_start": -0.09999999999999998,
            "bin_end": 0,
            "count": 0
           },
           {
            "bin_start": 0,
            "bin_end": 0.10000000000000009,
            "count": 1
           },
           {
            "bin_start": 0.10000000000000009,
            "bin_end": 0.20000000000000007,
            "count": 0
           },
           {
            "bin_start": 0.20000000000000007,
            "bin_end": 0.30000000000000004,
            "count": 0
           },
           {
            "bin_start": 0.30000000000000004,
            "bin_end": 0.4,
            "count": 0
           },
           {
            "bin_start": 0.4,
            "bin_end": 0.5,
            "count": 0
           }
          ]
         }
        },
        {
         "name": "_deepnote_index_column",
         "dtype": "int64"
        }
       ],
       "rows": [
        {
         "Name": "Jacobsohn Mr Samuel",
         "PClass": "nan",
         "Age": "nan",
         "Sex": "male",
         "Survived": 0,
         "_deepnote_index_column": 456
        }
       ]
      },
      "text/plain": "                    Name PClass  Age   Sex  Survived\n456  Jacobsohn Mr Samuel    NaN  NaN  male         0",
      "text/html": "<div>\n<style scoped>\n    .dataframe tbody tr th:only-of-type {\n        vertical-align: middle;\n    }\n\n    .dataframe tbody tr th {\n        vertical-align: top;\n    }\n\n    .dataframe thead th {\n        text-align: right;\n    }\n</style>\n<table border=\"1\" class=\"dataframe\">\n  <thead>\n    <tr style=\"text-align: right;\">\n      <th></th>\n      <th>Name</th>\n      <th>PClass</th>\n      <th>Age</th>\n      <th>Sex</th>\n      <th>Survived</th>\n    </tr>\n  </thead>\n  <tbody>\n    <tr>\n      <th>456</th>\n      <td>Jacobsohn Mr Samuel</td>\n      <td>NaN</td>\n      <td>NaN</td>\n      <td>male</td>\n      <td>0</td>\n    </tr>\n  </tbody>\n</table>\n</div>"
     },
     "metadata": {}
    }
   ]
  },
  {
   "cell_type": "markdown",
   "source": "To handle this case, we coulds either delete rows that contains missing informations or raplace NaN values by the mean of that column if it is numerical.",
   "metadata": {
    "cell_id": "00033-64c15e26-76e3-48de-9ee0-e867ab0af3b3",
    "deepnote_cell_type": "markdown",
    "deepnote_cell_height": 74.796875
   }
  },
  {
   "cell_type": "code",
   "metadata": {
    "cell_id": "00034-e0bd1623-09cc-49ad-8804-6f906120bdc7",
    "deepnote_to_be_reexecuted": false,
    "source_hash": "69c0725e",
    "execution_start": 1648571368357,
    "execution_millis": 1,
    "deepnote_cell_type": "code",
    "deepnote_cell_height": 81
   },
   "source": "df['Age'] = df['Age'].fillna(df['Age'].mean())",
   "execution_count": 17,
   "outputs": []
  },
  {
   "cell_type": "code",
   "metadata": {
    "cell_id": "00035-875cedf1-81f0-4b69-ad62-bd50fc14ec63",
    "deepnote_to_be_reexecuted": false,
    "source_hash": "e335dc28",
    "execution_start": 1648571368359,
    "execution_millis": 4,
    "deepnote_cell_type": "code",
    "deepnote_cell_height": 118.1875,
    "deepnote_output_heights": [
     21.1875
    ]
   },
   "source": "len(df[df['Age'].isnull()])",
   "execution_count": 18,
   "outputs": [
    {
     "output_type": "execute_result",
     "execution_count": 18,
     "data": {
      "text/plain": "0"
     },
     "metadata": {}
    }
   ]
  },
  {
   "cell_type": "code",
   "metadata": {
    "cell_id": "00036-66a1f93a-7ba5-41f7-aedf-c0a5c2f682a6",
    "deepnote_to_be_reexecuted": false,
    "source_hash": "5020b557",
    "execution_start": 1648571368397,
    "execution_millis": 6,
    "deepnote_cell_type": "code",
    "deepnote_cell_height": 598,
    "deepnote_output_heights": [
     382.1875
    ]
   },
   "source": "df.dropna()",
   "execution_count": 19,
   "outputs": [
    {
     "output_type": "execute_result",
     "execution_count": 19,
     "data": {
      "application/vnd.deepnote.dataframe.v3+json": {
       "column_count": 5,
       "row_count": 1306,
       "columns": [
        {
         "name": "Name",
         "dtype": "object",
         "stats": {
          "unique_count": 1303,
          "nan_count": 0,
          "categories": [
           {
            "name": "Carlsson, Mr Frans Olof",
            "count": 2
           },
           {
            "name": "Connolly, Miss Kate",
            "count": 2
           },
           {
            "name": "1301 others",
            "count": 1302
           }
          ]
         }
        },
        {
         "name": "PClass",
         "dtype": "object",
         "stats": {
          "unique_count": 3,
          "nan_count": 0,
          "categories": [
           {
            "name": "3rd",
            "count": 710
           },
           {
            "name": "1st",
            "count": 317
           },
           {
            "name": "2nd",
            "count": 279
           }
          ]
         }
        },
        {
         "name": "Age",
         "dtype": "float64",
         "stats": {
          "unique_count": 76,
          "nan_count": 0,
          "min": "0.17",
          "max": "71.0",
          "histogram": [
           {
            "bin_start": 0.17,
            "bin_end": 7.253,
            "count": 42
           },
           {
            "bin_start": 7.253,
            "bin_end": 14.336,
            "count": 26
           },
           {
            "bin_start": 14.336,
            "bin_end": 21.419000000000004,
            "count": 134
           },
           {
            "bin_start": 21.419000000000004,
            "bin_end": 28.502000000000002,
            "count": 183
           },
           {
            "bin_start": 28.502000000000002,
            "bin_end": 35.585,
            "count": 674
           },
           {
            "bin_start": 35.585,
            "bin_end": 42.668000000000006,
            "count": 93
           },
           {
            "bin_start": 42.668000000000006,
            "bin_end": 49.751000000000005,
            "count": 74
           },
           {
            "bin_start": 49.751000000000005,
            "bin_end": 56.834,
            "count": 41
           },
           {
            "bin_start": 56.834,
            "bin_end": 63.917,
            "count": 26
           },
           {
            "bin_start": 63.917,
            "bin_end": 71,
            "count": 13
           }
          ]
         }
        },
        {
         "name": "Sex",
         "dtype": "object",
         "stats": {
          "unique_count": 2,
          "nan_count": 0,
          "categories": [
           {
            "name": "male",
            "count": 846
           },
           {
            "name": "female",
            "count": 460
           }
          ]
         }
        },
        {
         "name": "Survived",
         "dtype": "int64",
         "stats": {
          "unique_count": 2,
          "nan_count": 0,
          "min": "0",
          "max": "1",
          "histogram": [
           {
            "bin_start": 0,
            "bin_end": 0.1,
            "count": 858
           },
           {
            "bin_start": 0.1,
            "bin_end": 0.2,
            "count": 0
           },
           {
            "bin_start": 0.2,
            "bin_end": 0.30000000000000004,
            "count": 0
           },
           {
            "bin_start": 0.30000000000000004,
            "bin_end": 0.4,
            "count": 0
           },
           {
            "bin_start": 0.4,
            "bin_end": 0.5,
            "count": 0
           },
           {
            "bin_start": 0.5,
            "bin_end": 0.6000000000000001,
            "count": 0
           },
           {
            "bin_start": 0.6000000000000001,
            "bin_end": 0.7000000000000001,
            "count": 0
           },
           {
            "bin_start": 0.7000000000000001,
            "bin_end": 0.8,
            "count": 0
           },
           {
            "bin_start": 0.8,
            "bin_end": 0.9,
            "count": 0
           },
           {
            "bin_start": 0.9,
            "bin_end": 1,
            "count": 448
           }
          ]
         }
        },
        {
         "name": "_deepnote_index_column",
         "dtype": "int64"
        }
       ],
       "rows": [
        {
         "Name": "Allen, Miss Elisabeth Walton",
         "PClass": "1st",
         "Age": 29,
         "Sex": "female",
         "Survived": 1,
         "_deepnote_index_column": 0
        },
        {
         "Name": "Allison, Miss Helen Loraine",
         "PClass": "1st",
         "Age": 2,
         "Sex": "female",
         "Survived": 0,
         "_deepnote_index_column": 1
        },
        {
         "Name": "Allison, Mr Hudson Joshua Creighton",
         "PClass": "1st",
         "Age": 30,
         "Sex": "male",
         "Survived": 0,
         "_deepnote_index_column": 2
        },
        {
         "Name": "Allison, Mrs Hudson JC (Bessie Waldo Daniels)",
         "PClass": "1st",
         "Age": 25,
         "Sex": "female",
         "Survived": 0,
         "_deepnote_index_column": 3
        },
        {
         "Name": "Allison, Master Hudson Trevor",
         "PClass": "1st",
         "Age": 0.92,
         "Sex": "male",
         "Survived": 1,
         "_deepnote_index_column": 4
        },
        {
         "Name": "Anderson, Mr Harry",
         "PClass": "1st",
         "Age": 47,
         "Sex": "male",
         "Survived": 1,
         "_deepnote_index_column": 5
        },
        {
         "Name": "Andrews, Miss Kornelia Theodosia",
         "PClass": "1st",
         "Age": 63,
         "Sex": "female",
         "Survived": 1,
         "_deepnote_index_column": 6
        },
        {
         "Name": "Andrews, Mr Thomas, jr",
         "PClass": "1st",
         "Age": 39,
         "Sex": "male",
         "Survived": 0,
         "_deepnote_index_column": 7
        },
        {
         "Name": "Appleton, Mrs Edward Dale (Charlotte Lamson)",
         "PClass": "1st",
         "Age": 58,
         "Sex": "female",
         "Survived": 1,
         "_deepnote_index_column": 8
        },
        {
         "Name": "Artagaveytia, Mr Ramon",
         "PClass": "1st",
         "Age": 71,
         "Sex": "male",
         "Survived": 0,
         "_deepnote_index_column": 9
        }
       ]
      },
      "text/plain": "                                               Name PClass    Age     Sex  \\\n0                      Allen, Miss Elisabeth Walton    1st  29.00  female   \n1                       Allison, Miss Helen Loraine    1st   2.00  female   \n2               Allison, Mr Hudson Joshua Creighton    1st  30.00    male   \n3     Allison, Mrs Hudson JC (Bessie Waldo Daniels)    1st  25.00  female   \n4                     Allison, Master Hudson Trevor    1st   0.92    male   \n...                                             ...    ...    ...     ...   \n1308                             Zakarian, Mr Artun    3rd  27.00    male   \n1309                         Zakarian, Mr Maprieder    3rd  26.00    male   \n1310                               Zenni, Mr Philip    3rd  22.00    male   \n1311                               Lievens, Mr Rene    3rd  24.00    male   \n1312                                 Zimmerman, Leo    3rd  29.00    male   \n\n      Survived  \n0            1  \n1            0  \n2            0  \n3            0  \n4            1  \n...        ...  \n1308         0  \n1309         0  \n1310         0  \n1311         0  \n1312         0  \n\n[1306 rows x 5 columns]",
      "text/html": "<div>\n<style scoped>\n    .dataframe tbody tr th:only-of-type {\n        vertical-align: middle;\n    }\n\n    .dataframe tbody tr th {\n        vertical-align: top;\n    }\n\n    .dataframe thead th {\n        text-align: right;\n    }\n</style>\n<table border=\"1\" class=\"dataframe\">\n  <thead>\n    <tr style=\"text-align: right;\">\n      <th></th>\n      <th>Name</th>\n      <th>PClass</th>\n      <th>Age</th>\n      <th>Sex</th>\n      <th>Survived</th>\n    </tr>\n  </thead>\n  <tbody>\n    <tr>\n      <th>0</th>\n      <td>Allen, Miss Elisabeth Walton</td>\n      <td>1st</td>\n      <td>29.00</td>\n      <td>female</td>\n      <td>1</td>\n    </tr>\n    <tr>\n      <th>1</th>\n      <td>Allison, Miss Helen Loraine</td>\n      <td>1st</td>\n      <td>2.00</td>\n      <td>female</td>\n      <td>0</td>\n    </tr>\n    <tr>\n      <th>2</th>\n      <td>Allison, Mr Hudson Joshua Creighton</td>\n      <td>1st</td>\n      <td>30.00</td>\n      <td>male</td>\n      <td>0</td>\n    </tr>\n    <tr>\n      <th>3</th>\n      <td>Allison, Mrs Hudson JC (Bessie Waldo Daniels)</td>\n      <td>1st</td>\n      <td>25.00</td>\n      <td>female</td>\n      <td>0</td>\n    </tr>\n    <tr>\n      <th>4</th>\n      <td>Allison, Master Hudson Trevor</td>\n      <td>1st</td>\n      <td>0.92</td>\n      <td>male</td>\n      <td>1</td>\n    </tr>\n    <tr>\n      <th>...</th>\n      <td>...</td>\n      <td>...</td>\n      <td>...</td>\n      <td>...</td>\n      <td>...</td>\n    </tr>\n    <tr>\n      <th>1308</th>\n      <td>Zakarian, Mr Artun</td>\n      <td>3rd</td>\n      <td>27.00</td>\n      <td>male</td>\n      <td>0</td>\n    </tr>\n    <tr>\n      <th>1309</th>\n      <td>Zakarian, Mr Maprieder</td>\n      <td>3rd</td>\n      <td>26.00</td>\n      <td>male</td>\n      <td>0</td>\n    </tr>\n    <tr>\n      <th>1310</th>\n      <td>Zenni, Mr Philip</td>\n      <td>3rd</td>\n      <td>22.00</td>\n      <td>male</td>\n      <td>0</td>\n    </tr>\n    <tr>\n      <th>1311</th>\n      <td>Lievens, Mr Rene</td>\n      <td>3rd</td>\n      <td>24.00</td>\n      <td>male</td>\n      <td>0</td>\n    </tr>\n    <tr>\n      <th>1312</th>\n      <td>Zimmerman, Leo</td>\n      <td>3rd</td>\n      <td>29.00</td>\n      <td>male</td>\n      <td>0</td>\n    </tr>\n  </tbody>\n</table>\n<p>1306 rows × 5 columns</p>\n</div>"
     },
     "metadata": {}
    }
   ]
  },
  {
   "cell_type": "markdown",
   "source": "## Conclusion",
   "metadata": {
    "cell_id": "c9057a3687bc4e2ea2461b74dc8652ab",
    "tags": [],
    "is_collapsed": false,
    "deepnote_cell_type": "text-cell-h2"
   }
  },
  {
   "cell_type": "markdown",
   "source": "Cleaning data is a mandatory step before starting to exploit it. Cleaned data will be then used to perform exact calculations\nand build accurate machine learning models.",
   "metadata": {
    "cell_id": "67d716c748ce439aa4a3e39d886a76cf",
    "tags": [],
    "is_collapsed": false,
    "deepnote_cell_type": "text-cell-p"
   }
  },
  {
   "cell_type": "markdown",
   "source": "<a style='text-decoration:none;line-height:16px;display:flex;color:#5B5B62;padding:10px;justify-content:end;' href='https://deepnote.com?utm_source=created-in-deepnote-cell&projectId=bf14f482-b404-458a-ad48-d34f1c2cb2fb' target=\"_blank\">\n<img alt='Created in deepnote.com' style='display:inline;max-height:16px;margin:0px;margin-right:7.5px;' src='data:image/svg+xml;base64,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' > </img>\nCreated in <span style='font-weight:600;margin-left:4px;'>Deepnote</span></a>",
   "metadata": {
    "tags": [],
    "created_in_deepnote_cell": true,
    "deepnote_cell_type": "markdown"
   }
  }
 ],
 "nbformat": 4,
 "nbformat_minor": 5,
 "metadata": {
  "kernelspec": {
   "display_name": "Python 3",
   "language": "python",
   "name": "python3"
  },
  "language_info": {
   "codemirror_mode": {
    "name": "ipython",
    "version": 3
   },
   "file_extension": ".py",
   "mimetype": "text/x-python",
   "name": "python",
   "nbconvert_exporter": "python",
   "pygments_lexer": "ipython3",
   "version": "3.8.8"
  },
  "deepnote_notebook_id": "0d98b638-bd3f-4030-9460-61dbf5571745",
  "deepnote": {},
  "deepnote_execution_queue": []
 }
}