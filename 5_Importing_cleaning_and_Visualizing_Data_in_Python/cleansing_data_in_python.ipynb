{
 "cells": [
  {
   "cell_type": "markdown",
   "id": "f1375479",
   "metadata": {},
   "source": [
    "# Cleansing Data in Python !"
   ]
  },
  {
   "cell_type": "markdown",
   "id": "62a00da0",
   "metadata": {},
   "source": [
    "Cleaning data is a mandatory process for every data scientist to perform. Dealing with data not properly cleaned can lead to inaccurate data analysis or machine learning model. Which results to drawing inacuurate conclusions.\n",
    "In this tutorial, we will learn how to identify, diagnose, and treat a variety of data cleaning problems in Python.We will deal with improper data types, check that out data is in the correct range, handle missing data, and more!\n",
    "\n",
    "![cleaning data in python](data_cleaning.jfif \"Data Cleansing\")\n",
    "\n",
    "## Data type constraints\n",
    "\n",
    "When working with data, there are various types that we may encounter along the way. We could be working with text data, integers, decimals, dates, zip codes, and others.<br /> So, we need to make sure our variables have the correct data types, otherwise we risk compromising our analysis. Luckily, Python has specific data type objects for various data types!\n",
    "Let's take, for instance, chess games dataset imported from [Kaggle](https://www.kaggle.com/datasnaek/chess)."
   ]
  },
  {
   "cell_type": "code",
   "execution_count": 326,
   "id": "44ba3c06",
   "metadata": {
    "scrolled": false
   },
   "outputs": [
    {
     "name": "stdout",
     "output_type": "stream",
     "text": [
      "<class 'pandas.core.frame.DataFrame'>\n",
      "RangeIndex: 20065 entries, 0 to 20064\n",
      "Data columns (total 16 columns):\n",
      " #   Column          Non-Null Count  Dtype  \n",
      "---  ------          --------------  -----  \n",
      " 0   id              20065 non-null  object \n",
      " 1   rated           20065 non-null  bool   \n",
      " 2   created_at      20065 non-null  float64\n",
      " 3   last_move_at    20065 non-null  float64\n",
      " 4   turns           20065 non-null  int64  \n",
      " 5   victory_status  20065 non-null  object \n",
      " 6   winner          20065 non-null  object \n",
      " 7   increment_code  20065 non-null  object \n",
      " 8   white_id        20065 non-null  object \n",
      " 9   white_rating    20065 non-null  int64  \n",
      " 10  black_id        20065 non-null  object \n",
      " 11  black_rating    20065 non-null  int64  \n",
      " 12  moves           20065 non-null  object \n",
      " 13  opening_eco     20065 non-null  object \n",
      " 14  opening_name    20065 non-null  object \n",
      " 15  opening_ply     20065 non-null  int64  \n",
      "dtypes: bool(1), float64(2), int64(4), object(9)\n",
      "memory usage: 2.3+ MB\n"
     ]
    },
    {
     "data": {
      "text/html": [
       "<div>\n",
       "<style scoped>\n",
       "    .dataframe tbody tr th:only-of-type {\n",
       "        vertical-align: middle;\n",
       "    }\n",
       "\n",
       "    .dataframe tbody tr th {\n",
       "        vertical-align: top;\n",
       "    }\n",
       "\n",
       "    .dataframe thead th {\n",
       "        text-align: right;\n",
       "    }\n",
       "</style>\n",
       "<table border=\"1\" class=\"dataframe\">\n",
       "  <thead>\n",
       "    <tr style=\"text-align: right;\">\n",
       "      <th></th>\n",
       "      <th>id</th>\n",
       "      <th>rated</th>\n",
       "      <th>created_at</th>\n",
       "      <th>last_move_at</th>\n",
       "      <th>turns</th>\n",
       "      <th>victory_status</th>\n",
       "      <th>winner</th>\n",
       "      <th>increment_code</th>\n",
       "      <th>white_id</th>\n",
       "      <th>white_rating</th>\n",
       "      <th>black_id</th>\n",
       "      <th>black_rating</th>\n",
       "      <th>moves</th>\n",
       "      <th>opening_eco</th>\n",
       "      <th>opening_name</th>\n",
       "      <th>opening_ply</th>\n",
       "    </tr>\n",
       "  </thead>\n",
       "  <tbody>\n",
       "    <tr>\n",
       "      <th>0</th>\n",
       "      <td>TZJHLljE</td>\n",
       "      <td>False</td>\n",
       "      <td>1.504210e+12</td>\n",
       "      <td>1.504210e+12</td>\n",
       "      <td>13</td>\n",
       "      <td>outoftime</td>\n",
       "      <td>white</td>\n",
       "      <td>15+2</td>\n",
       "      <td>bourgris</td>\n",
       "      <td>1500</td>\n",
       "      <td>a-00</td>\n",
       "      <td>1191</td>\n",
       "      <td>d4 d5 c4 c6 cxd5 e6 dxe6 fxe6 Nf3 Bb4+ Nc3 Ba5...</td>\n",
       "      <td>D10</td>\n",
       "      <td>Slav Defense: Exchange Variation</td>\n",
       "      <td>5</td>\n",
       "    </tr>\n",
       "    <tr>\n",
       "      <th>1</th>\n",
       "      <td>l1NXvwaE</td>\n",
       "      <td>True</td>\n",
       "      <td>1.504130e+12</td>\n",
       "      <td>1.504130e+12</td>\n",
       "      <td>16</td>\n",
       "      <td>resign</td>\n",
       "      <td>black</td>\n",
       "      <td>5+10</td>\n",
       "      <td>a-00</td>\n",
       "      <td>1322</td>\n",
       "      <td>skinnerua</td>\n",
       "      <td>1261</td>\n",
       "      <td>d4 Nc6 e4 e5 f4 f6 dxe5 fxe5 fxe5 Nxe5 Qd4 Nc6...</td>\n",
       "      <td>B00</td>\n",
       "      <td>Nimzowitsch Defense: Kennedy Variation</td>\n",
       "      <td>4</td>\n",
       "    </tr>\n",
       "  </tbody>\n",
       "</table>\n",
       "</div>"
      ],
      "text/plain": [
       "         id  rated    created_at  last_move_at  turns victory_status winner  \\\n",
       "0  TZJHLljE  False  1.504210e+12  1.504210e+12     13      outoftime  white   \n",
       "1  l1NXvwaE   True  1.504130e+12  1.504130e+12     16         resign  black   \n",
       "\n",
       "  increment_code  white_id  white_rating   black_id  black_rating  \\\n",
       "0           15+2  bourgris          1500       a-00          1191   \n",
       "1           5+10      a-00          1322  skinnerua          1261   \n",
       "\n",
       "                                               moves opening_eco  \\\n",
       "0  d4 d5 c4 c6 cxd5 e6 dxe6 fxe6 Nf3 Bb4+ Nc3 Ba5...         D10   \n",
       "1  d4 Nc6 e4 e5 f4 f6 dxe5 fxe5 fxe5 Nxe5 Qd4 Nc6...         B00   \n",
       "\n",
       "                             opening_name  opening_ply  \n",
       "0        Slav Defense: Exchange Variation            5  \n",
       "1  Nimzowitsch Defense: Kennedy Variation            4  "
      ]
     },
     "execution_count": 326,
     "metadata": {},
     "output_type": "execute_result"
    }
   ],
   "source": [
    "import pandas as pd\n",
    "\n",
    "df = pd.read_csv('games.csv')#, index_col=0)\n",
    "\n",
    "df.info()\n",
    "    \n",
    "df.head(2)"
   ]
  },
  {
   "cell_type": "markdown",
   "id": "cca176ba",
   "metadata": {},
   "source": [
    "As we can see, our dataset contains nine column of data type 'Object'. They are supposed to be strings. We have to convert all object types to strings. <br />For that, we need to call the pandas function pandas.Series.astype(dtype). Here, the dtype needed is str.\n",
    "Since there are nine columns to be converted, we need a loop."
   ]
  },
  {
   "cell_type": "code",
   "execution_count": 327,
   "id": "b47debd9",
   "metadata": {},
   "outputs": [],
   "source": [
    "for column in df:\n",
    "    if str(df[column].dtype) == 'object':\n",
    "        df[column] = df[column].astype(str)"
   ]
  },
  {
   "cell_type": "markdown",
   "id": "4dc227c2",
   "metadata": {},
   "source": [
    "Furthermore, we can notice that the two columns \"created_at\" and \"last_move_at\" are floats.<br />Obvioulsy, they are supposed to have Date as data type.\n",
    "To do that, we should apply pandas.to_datetime method."
   ]
  },
  {
   "cell_type": "code",
   "execution_count": 328,
   "id": "5640dce8",
   "metadata": {},
   "outputs": [],
   "source": [
    "df['created_at'] = pd.to_datetime(df['created_at'])\n",
    "df['last_move_at'] = pd.to_datetime(df['last_move_at'])"
   ]
  },
  {
   "cell_type": "markdown",
   "id": "8bed4fd7",
   "metadata": {},
   "source": [
    "When we apply the head method, we can see the results."
   ]
  },
  {
   "cell_type": "code",
   "execution_count": 329,
   "id": "c62ca5f6",
   "metadata": {},
   "outputs": [
    {
     "data": {
      "text/html": [
       "<div>\n",
       "<style scoped>\n",
       "    .dataframe tbody tr th:only-of-type {\n",
       "        vertical-align: middle;\n",
       "    }\n",
       "\n",
       "    .dataframe tbody tr th {\n",
       "        vertical-align: top;\n",
       "    }\n",
       "\n",
       "    .dataframe thead th {\n",
       "        text-align: right;\n",
       "    }\n",
       "</style>\n",
       "<table border=\"1\" class=\"dataframe\">\n",
       "  <thead>\n",
       "    <tr style=\"text-align: right;\">\n",
       "      <th></th>\n",
       "      <th>id</th>\n",
       "      <th>rated</th>\n",
       "      <th>created_at</th>\n",
       "      <th>last_move_at</th>\n",
       "      <th>turns</th>\n",
       "      <th>victory_status</th>\n",
       "      <th>winner</th>\n",
       "      <th>increment_code</th>\n",
       "      <th>white_id</th>\n",
       "      <th>white_rating</th>\n",
       "      <th>black_id</th>\n",
       "      <th>black_rating</th>\n",
       "      <th>moves</th>\n",
       "      <th>opening_eco</th>\n",
       "      <th>opening_name</th>\n",
       "      <th>opening_ply</th>\n",
       "    </tr>\n",
       "  </thead>\n",
       "  <tbody>\n",
       "    <tr>\n",
       "      <th>0</th>\n",
       "      <td>TZJHLljE</td>\n",
       "      <td>False</td>\n",
       "      <td>1970-01-01 00:25:04.210</td>\n",
       "      <td>1970-01-01 00:25:04.210</td>\n",
       "      <td>13</td>\n",
       "      <td>outoftime</td>\n",
       "      <td>white</td>\n",
       "      <td>15+2</td>\n",
       "      <td>bourgris</td>\n",
       "      <td>1500</td>\n",
       "      <td>a-00</td>\n",
       "      <td>1191</td>\n",
       "      <td>d4 d5 c4 c6 cxd5 e6 dxe6 fxe6 Nf3 Bb4+ Nc3 Ba5...</td>\n",
       "      <td>D10</td>\n",
       "      <td>Slav Defense: Exchange Variation</td>\n",
       "      <td>5</td>\n",
       "    </tr>\n",
       "    <tr>\n",
       "      <th>1</th>\n",
       "      <td>l1NXvwaE</td>\n",
       "      <td>True</td>\n",
       "      <td>1970-01-01 00:25:04.130</td>\n",
       "      <td>1970-01-01 00:25:04.130</td>\n",
       "      <td>16</td>\n",
       "      <td>resign</td>\n",
       "      <td>black</td>\n",
       "      <td>5+10</td>\n",
       "      <td>a-00</td>\n",
       "      <td>1322</td>\n",
       "      <td>skinnerua</td>\n",
       "      <td>1261</td>\n",
       "      <td>d4 Nc6 e4 e5 f4 f6 dxe5 fxe5 fxe5 Nxe5 Qd4 Nc6...</td>\n",
       "      <td>B00</td>\n",
       "      <td>Nimzowitsch Defense: Kennedy Variation</td>\n",
       "      <td>4</td>\n",
       "    </tr>\n",
       "  </tbody>\n",
       "</table>\n",
       "</div>"
      ],
      "text/plain": [
       "         id  rated              created_at            last_move_at  turns  \\\n",
       "0  TZJHLljE  False 1970-01-01 00:25:04.210 1970-01-01 00:25:04.210     13   \n",
       "1  l1NXvwaE   True 1970-01-01 00:25:04.130 1970-01-01 00:25:04.130     16   \n",
       "\n",
       "  victory_status winner increment_code  white_id  white_rating   black_id  \\\n",
       "0      outoftime  white           15+2  bourgris          1500       a-00   \n",
       "1         resign  black           5+10      a-00          1322  skinnerua   \n",
       "\n",
       "   black_rating                                              moves  \\\n",
       "0          1191  d4 d5 c4 c6 cxd5 e6 dxe6 fxe6 Nf3 Bb4+ Nc3 Ba5...   \n",
       "1          1261  d4 Nc6 e4 e5 f4 f6 dxe5 fxe5 fxe5 Nxe5 Qd4 Nc6...   \n",
       "\n",
       "  opening_eco                            opening_name  opening_ply  \n",
       "0         D10        Slav Defense: Exchange Variation            5  \n",
       "1         B00  Nimzowitsch Defense: Kennedy Variation            4  "
      ]
     },
     "execution_count": 329,
     "metadata": {},
     "output_type": "execute_result"
    }
   ],
   "source": [
    "df.head(2)"
   ]
  },
  {
   "cell_type": "markdown",
   "id": "4a77e6df",
   "metadata": {},
   "source": [
    "## Range constraints"
   ]
  },
  {
   "cell_type": "markdown",
   "id": "42420c97",
   "metadata": {},
   "source": [
    "Obviously, the rating of a player in a match can not be negative.\n",
    "After creating a histogram with matplotlib, we see that there are a few games with white players having ratings below zero.\n",
    "<br />This is mostly because of typo error. We should treat these cases and change them to positive numbers."
   ]
  },
  {
   "cell_type": "code",
   "execution_count": 330,
   "id": "59d7a824",
   "metadata": {},
   "outputs": [
    {
     "data": {
      "text/plain": [
       "Text(0.5, 1.0, 'Negative white rating of games')"
      ]
     },
     "execution_count": 330,
     "metadata": {},
     "output_type": "execute_result"
    },
    {
     "data": {
      "image/png": "[encoded data removed]",
      "text/plain": [
       "<Figure size 432x288 with 1 Axes>"
      ]
     },
     "metadata": {
      "needs_background": "light"
     },
     "output_type": "display_data"
    }
   ],
   "source": [
    "import matplotlib.pyplot as plt\n",
    "plt.hist(df[df['white_rating']<0]['white_rating'])\n",
    "plt.title('Negative white rating of games')"
   ]
  },
  {
   "cell_type": "code",
   "execution_count": 331,
   "id": "ac003128",
   "metadata": {},
   "outputs": [
    {
     "data": {
      "text/plain": [
       "784"
      ]
     },
     "execution_count": 331,
     "metadata": {},
     "output_type": "execute_result"
    }
   ],
   "source": [
    "df['white_rating'] = abs(df['white_rating'])\n",
    "df['white_rating'].min() # >0"
   ]
  },
  {
   "cell_type": "markdown",
   "id": "22f1556f",
   "metadata": {},
   "source": [
    "We also see the same problem with black rating."
   ]
  },
  {
   "cell_type": "code",
   "execution_count": 332,
   "id": "c744fe8e",
   "metadata": {},
   "outputs": [
    {
     "name": "stdout",
     "output_type": "stream",
     "text": [
      "20       oQklnWWp\n",
      "40       R9a2DLwe\n",
      "59       QZSTu1aT\n",
      "78       Mi1AmkiI\n",
      "14196    NmQjNNrg\n",
      "17791    tUOZivwN\n",
      "Name: id, dtype: object\n"
     ]
    }
   ],
   "source": [
    "print(df[df['black_rating']<0]['id'])"
   ]
  },
  {
   "cell_type": "code",
   "execution_count": 333,
   "id": "d74b4469",
   "metadata": {},
   "outputs": [],
   "source": [
    "df['black_rating'] = abs(df['black_rating'])\n",
    "assert df['black_rating'].min() > 0  # No output"
   ]
  },
  {
   "cell_type": "markdown",
   "id": "5e63c786",
   "metadata": {},
   "source": [
    "## Uniqueness constraints"
   ]
  },
  {
   "cell_type": "markdown",
   "id": "34cbf4b0",
   "metadata": {},
   "source": [
    "Duplicate values usually happen because of data entry and human error or join or merge errors.\n",
    "<br />Let's see whether our data frame contains duplicate values using the method pandas.DataFrame.duplicated"
   ]
  },
  {
   "cell_type": "code",
   "execution_count": 334,
   "id": "4698b196",
   "metadata": {
    "scrolled": false
   },
   "outputs": [
    {
     "data": {
      "text/html": [
       "<div>\n",
       "<style scoped>\n",
       "    .dataframe tbody tr th:only-of-type {\n",
       "        vertical-align: middle;\n",
       "    }\n",
       "\n",
       "    .dataframe tbody tr th {\n",
       "        vertical-align: top;\n",
       "    }\n",
       "\n",
       "    .dataframe thead th {\n",
       "        text-align: right;\n",
       "    }\n",
       "</style>\n",
       "<table border=\"1\" class=\"dataframe\">\n",
       "  <thead>\n",
       "    <tr style=\"text-align: right;\">\n",
       "      <th></th>\n",
       "      <th>id</th>\n",
       "      <th>rated</th>\n",
       "      <th>created_at</th>\n",
       "      <th>last_move_at</th>\n",
       "      <th>turns</th>\n",
       "      <th>victory_status</th>\n",
       "      <th>winner</th>\n",
       "      <th>increment_code</th>\n",
       "      <th>white_id</th>\n",
       "      <th>white_rating</th>\n",
       "      <th>black_id</th>\n",
       "      <th>black_rating</th>\n",
       "      <th>moves</th>\n",
       "      <th>opening_eco</th>\n",
       "      <th>opening_name</th>\n",
       "      <th>opening_ply</th>\n",
       "    </tr>\n",
       "  </thead>\n",
       "  <tbody>\n",
       "    <tr>\n",
       "      <th>950</th>\n",
       "      <td>XRuQPSzH</td>\n",
       "      <td>True</td>\n",
       "      <td>1970-01-01 00:25:03.580</td>\n",
       "      <td>1970-01-01 00:25:03.580</td>\n",
       "      <td>50</td>\n",
       "      <td>resign</td>\n",
       "      <td>black</td>\n",
       "      <td>10+0</td>\n",
       "      <td>chess-brahs</td>\n",
       "      <td>2036</td>\n",
       "      <td>cdvh</td>\n",
       "      <td>1706</td>\n",
       "      <td>Nf3 d5 g3 c5 Bg2 Nc6 d3 Nf6 O-O e5 Nc3 d4 Ne4 ...</td>\n",
       "      <td>A08</td>\n",
       "      <td>King's Indian Attack: French Variation</td>\n",
       "      <td>6</td>\n",
       "    </tr>\n",
       "    <tr>\n",
       "      <th>1794</th>\n",
       "      <td>x1Svcl0P</td>\n",
       "      <td>True</td>\n",
       "      <td>1970-01-01 00:24:59.820</td>\n",
       "      <td>1970-01-01 00:24:59.830</td>\n",
       "      <td>59</td>\n",
       "      <td>mate</td>\n",
       "      <td>white</td>\n",
       "      <td>10+0</td>\n",
       "      <td>kachess10204542</td>\n",
       "      <td>1171</td>\n",
       "      <td>quantummequanic</td>\n",
       "      <td>1432</td>\n",
       "      <td>c4 e5 Nc3 Nf6 Nf3 Nc6 g3 d5 cxd5 Nxd5 Bg2 Be6 ...</td>\n",
       "      <td>A29</td>\n",
       "      <td>English Opening: King's English Variation |  F...</td>\n",
       "      <td>7</td>\n",
       "    </tr>\n",
       "    <tr>\n",
       "      <th>1830</th>\n",
       "      <td>wgIHzqDo</td>\n",
       "      <td>True</td>\n",
       "      <td>1970-01-01 00:24:59.710</td>\n",
       "      <td>1970-01-01 00:24:59.710</td>\n",
       "      <td>113</td>\n",
       "      <td>mate</td>\n",
       "      <td>white</td>\n",
       "      <td>10+0</td>\n",
       "      <td>quantummequanic</td>\n",
       "      <td>1403</td>\n",
       "      <td>barrow-wight</td>\n",
       "      <td>1364</td>\n",
       "      <td>e4 e6 e5 Bc5 d4 Be7 c3 Nh6 Bxh6 gxh6 Qd2 Bg5 f...</td>\n",
       "      <td>C00</td>\n",
       "      <td>French Defense: Steinitz Attack</td>\n",
       "      <td>3</td>\n",
       "    </tr>\n",
       "  </tbody>\n",
       "</table>\n",
       "</div>"
      ],
      "text/plain": [
       "            id  rated              created_at            last_move_at  turns  \\\n",
       "950   XRuQPSzH   True 1970-01-01 00:25:03.580 1970-01-01 00:25:03.580     50   \n",
       "1794  x1Svcl0P   True 1970-01-01 00:24:59.820 1970-01-01 00:24:59.830     59   \n",
       "1830  wgIHzqDo   True 1970-01-01 00:24:59.710 1970-01-01 00:24:59.710    113   \n",
       "\n",
       "     victory_status winner increment_code         white_id  white_rating  \\\n",
       "950          resign  black           10+0      chess-brahs          2036   \n",
       "1794           mate  white           10+0  kachess10204542          1171   \n",
       "1830           mate  white           10+0  quantummequanic          1403   \n",
       "\n",
       "             black_id  black_rating  \\\n",
       "950              cdvh          1706   \n",
       "1794  quantummequanic          1432   \n",
       "1830     barrow-wight          1364   \n",
       "\n",
       "                                                  moves opening_eco  \\\n",
       "950   Nf3 d5 g3 c5 Bg2 Nc6 d3 Nf6 O-O e5 Nc3 d4 Ne4 ...         A08   \n",
       "1794  c4 e5 Nc3 Nf6 Nf3 Nc6 g3 d5 cxd5 Nxd5 Bg2 Be6 ...         A29   \n",
       "1830  e4 e6 e5 Bc5 d4 Be7 c3 Nh6 Bxh6 gxh6 Qd2 Bg5 f...         C00   \n",
       "\n",
       "                                           opening_name  opening_ply  \n",
       "950              King's Indian Attack: French Variation            6  \n",
       "1794  English Opening: King's English Variation |  F...            7  \n",
       "1830                    French Defense: Steinitz Attack            3  "
      ]
     },
     "execution_count": 334,
     "metadata": {},
     "output_type": "execute_result"
    }
   ],
   "source": [
    "duplicates = df.duplicated(keep = 'first') # keeping only the first row\n",
    "df[duplicates].head(3)"
   ]
  },
  {
   "cell_type": "markdown",
   "id": "9154440d",
   "metadata": {},
   "source": [
    "The complete duplicates can be treated easily. All that is required is to keep one of them only and discard the others.\n",
    "<br />This can be done with the dot-drop_duplicates() method."
   ]
  },
  {
   "cell_type": "code",
   "execution_count": 335,
   "id": "5f493f09",
   "metadata": {},
   "outputs": [],
   "source": [
    "df.drop_duplicates(keep='first', inplace=True)"
   ]
  },
  {
   "cell_type": "code",
   "execution_count": 336,
   "id": "048a4b05",
   "metadata": {},
   "outputs": [],
   "source": [
    "duplicates = df.duplicated(keep = False) # keeping only the first row\n",
    "assert(len(df[duplicates])==0) # No output"
   ]
  },
  {
   "cell_type": "markdown",
   "id": "0f45798d",
   "metadata": {},
   "source": [
    "## Categories and membership constraints"
   ]
  },
  {
   "cell_type": "markdown",
   "id": "44dd54ab",
   "metadata": {},
   "source": [
    "For this type of problem, we will be dealing with an obvious categorical data which is the survival status.\n",
    "We will work on the titanic dataset.\n",
    "<br />Before cleaning our data, we need to import the csv file and see what's inside."
   ]
  },
  {
   "cell_type": "code",
   "execution_count": 337,
   "id": "177f9428",
   "metadata": {},
   "outputs": [
    {
     "data": {
      "text/html": [
       "<div>\n",
       "<style scoped>\n",
       "    .dataframe tbody tr th:only-of-type {\n",
       "        vertical-align: middle;\n",
       "    }\n",
       "\n",
       "    .dataframe tbody tr th {\n",
       "        vertical-align: top;\n",
       "    }\n",
       "\n",
       "    .dataframe thead th {\n",
       "        text-align: right;\n",
       "    }\n",
       "</style>\n",
       "<table border=\"1\" class=\"dataframe\">\n",
       "  <thead>\n",
       "    <tr style=\"text-align: right;\">\n",
       "      <th></th>\n",
       "      <th>Name</th>\n",
       "      <th>PClass</th>\n",
       "      <th>Age</th>\n",
       "      <th>Sex</th>\n",
       "      <th>Survived</th>\n",
       "    </tr>\n",
       "  </thead>\n",
       "  <tbody>\n",
       "    <tr>\n",
       "      <th>12</th>\n",
       "      <td>Aubert, Mrs Leontine Pauline</td>\n",
       "      <td>1st</td>\n",
       "      <td>NaN</td>\n",
       "      <td>female</td>\n",
       "      <td>5</td>\n",
       "    </tr>\n",
       "    <tr>\n",
       "      <th>98</th>\n",
       "      <td>Foreman, Mr Benjamin Laventall</td>\n",
       "      <td>1st</td>\n",
       "      <td>30.0</td>\n",
       "      <td>male</td>\n",
       "      <td>4</td>\n",
       "    </tr>\n",
       "    <tr>\n",
       "      <th>140</th>\n",
       "      <td>Hippach, Miss Jean Gertrude</td>\n",
       "      <td>1st</td>\n",
       "      <td>16.0</td>\n",
       "      <td>female</td>\n",
       "      <td>9</td>\n",
       "    </tr>\n",
       "    <tr>\n",
       "      <th>179</th>\n",
       "      <td>Millet, Mr Francis Davis</td>\n",
       "      <td>1st</td>\n",
       "      <td>65.0</td>\n",
       "      <td>male</td>\n",
       "      <td>159</td>\n",
       "    </tr>\n",
       "    <tr>\n",
       "      <th>213</th>\n",
       "      <td>Ross, Mr John Hugo</td>\n",
       "      <td>1st</td>\n",
       "      <td>NaN</td>\n",
       "      <td>male</td>\n",
       "      <td>32</td>\n",
       "    </tr>\n",
       "    <tr>\n",
       "      <th>925</th>\n",
       "      <td>Khalil, Mr Betros</td>\n",
       "      <td>3rd</td>\n",
       "      <td>NaN</td>\n",
       "      <td>male</td>\n",
       "      <td>54</td>\n",
       "    </tr>\n",
       "  </tbody>\n",
       "</table>\n",
       "</div>"
      ],
      "text/plain": [
       "                               Name PClass   Age     Sex  Survived\n",
       "12     Aubert, Mrs Leontine Pauline    1st   NaN  female         5\n",
       "98   Foreman, Mr Benjamin Laventall    1st  30.0    male         4\n",
       "140     Hippach, Miss Jean Gertrude    1st  16.0  female         9\n",
       "179        Millet, Mr Francis Davis    1st  65.0    male       159\n",
       "213              Ross, Mr John Hugo    1st   NaN    male        32\n",
       "925               Khalil, Mr Betros    3rd   NaN    male        54"
      ]
     },
     "execution_count": 337,
     "metadata": {},
     "output_type": "execute_result"
    }
   ],
   "source": [
    "df = pd.read_csv('Titanic.csv')\n",
    "\n",
    "survived = {0, 1}\n",
    "df[~df['Survived'].isin(survived)]"
   ]
  },
  {
   "cell_type": "markdown",
   "id": "d7db0895",
   "metadata": {},
   "source": [
    "We need to get rid of these rows."
   ]
  },
  {
   "cell_type": "code",
   "execution_count": 338,
   "id": "8eb6a62c",
   "metadata": {},
   "outputs": [],
   "source": [
    "df = df[df['Survived'].isin(survived)]"
   ]
  },
  {
   "cell_type": "markdown",
   "id": "5ab74f55",
   "metadata": {},
   "source": [
    "## Handle missing data"
   ]
  },
  {
   "cell_type": "markdown",
   "id": "87d51a20",
   "metadata": {},
   "source": [
    "When working on datasets, we usually face the problem of completeness and missing data. Like all of the previous constraints, it can be caused by technical error or human error.\n",
    "<br />To see whether our dataframe contain missing values we apply DataFrame.isna().any() method."
   ]
  },
  {
   "cell_type": "code",
   "execution_count": 339,
   "id": "7d35226c",
   "metadata": {},
   "outputs": [
    {
     "data": {
      "text/plain": [
       "Name        False\n",
       "PClass       True\n",
       "Age          True\n",
       "Sex         False\n",
       "Survived    False\n",
       "dtype: bool"
      ]
     },
     "execution_count": 339,
     "metadata": {},
     "output_type": "execute_result"
    }
   ],
   "source": [
    "df.isna().any()"
   ]
  },
  {
   "cell_type": "markdown",
   "id": "0f5aecdd",
   "metadata": {},
   "source": [
    "We clearly see missing data in PClass and Age columns. <br />\n",
    "We also can plot missing values by columns to understand more the situation."
   ]
  },
  {
   "cell_type": "code",
   "execution_count": 340,
   "id": "9fb0c7e7",
   "metadata": {},
   "outputs": [
    {
     "data": {
      "image/png": "[encoded data removed]",
      "text/plain": [
       "<Figure size 432x288 with 1 Axes>"
      ]
     },
     "metadata": {
      "needs_background": "light"
     },
     "output_type": "display_data"
    }
   ],
   "source": [
    "df.isna().sum().plot(kind=\"bar\")\n",
    "plt.title('Number of null data by column')\n",
    "plt.show()"
   ]
  },
  {
   "cell_type": "code",
   "execution_count": 341,
   "id": "4a9dfaf3",
   "metadata": {},
   "outputs": [
    {
     "data": {
      "text/html": [
       "<div>\n",
       "<style scoped>\n",
       "    .dataframe tbody tr th:only-of-type {\n",
       "        vertical-align: middle;\n",
       "    }\n",
       "\n",
       "    .dataframe tbody tr th {\n",
       "        vertical-align: top;\n",
       "    }\n",
       "\n",
       "    .dataframe thead th {\n",
       "        text-align: right;\n",
       "    }\n",
       "</style>\n",
       "<table border=\"1\" class=\"dataframe\">\n",
       "  <thead>\n",
       "    <tr style=\"text-align: right;\">\n",
       "      <th></th>\n",
       "      <th>Name</th>\n",
       "      <th>PClass</th>\n",
       "      <th>Age</th>\n",
       "      <th>Sex</th>\n",
       "      <th>Survived</th>\n",
       "    </tr>\n",
       "  </thead>\n",
       "  <tbody>\n",
       "    <tr>\n",
       "      <th>456</th>\n",
       "      <td>Jacobsohn Mr Samuel</td>\n",
       "      <td>NaN</td>\n",
       "      <td>NaN</td>\n",
       "      <td>male</td>\n",
       "      <td>0</td>\n",
       "    </tr>\n",
       "  </tbody>\n",
       "</table>\n",
       "</div>"
      ],
      "text/plain": [
       "                    Name PClass  Age   Sex  Survived\n",
       "456  Jacobsohn Mr Samuel    NaN  NaN  male         0"
      ]
     },
     "execution_count": 341,
     "metadata": {},
     "output_type": "execute_result"
    }
   ],
   "source": [
    "df[df['PClass'].isna()]"
   ]
  },
  {
   "cell_type": "markdown",
   "id": "3a0fa814",
   "metadata": {},
   "source": [
    "To handle this case, we coulds either delete rows that contains missing informations or raplace NaN values by the mean of that column if it is numerical."
   ]
  },
  {
   "cell_type": "code",
   "execution_count": 342,
   "id": "4827ae70",
   "metadata": {},
   "outputs": [],
   "source": [
    "df['Age'] = df['Age'].fillna(df['Age'].mean())"
   ]
  },
  {
   "cell_type": "code",
   "execution_count": 343,
   "id": "529d8bfa",
   "metadata": {},
   "outputs": [
    {
     "data": {
      "text/plain": [
       "0"
      ]
     },
     "execution_count": 343,
     "metadata": {},
     "output_type": "execute_result"
    }
   ],
   "source": [
    "len(df[df['Age'].isnull()])"
   ]
  },
  {
   "cell_type": "code",
   "execution_count": 344,
   "id": "75c6a188",
   "metadata": {},
   "outputs": [
    {
     "data": {
      "text/html": [
       "<div>\n",
       "<style scoped>\n",
       "    .dataframe tbody tr th:only-of-type {\n",
       "        vertical-align: middle;\n",
       "    }\n",
       "\n",
       "    .dataframe tbody tr th {\n",
       "        vertical-align: top;\n",
       "    }\n",
       "\n",
       "    .dataframe thead th {\n",
       "        text-align: right;\n",
       "    }\n",
       "</style>\n",
       "<table border=\"1\" class=\"dataframe\">\n",
       "  <thead>\n",
       "    <tr style=\"text-align: right;\">\n",
       "      <th></th>\n",
       "      <th>Name</th>\n",
       "      <th>PClass</th>\n",
       "      <th>Age</th>\n",
       "      <th>Sex</th>\n",
       "      <th>Survived</th>\n",
       "    </tr>\n",
       "  </thead>\n",
       "  <tbody>\n",
       "    <tr>\n",
       "      <th>0</th>\n",
       "      <td>Allen, Miss Elisabeth Walton</td>\n",
       "      <td>1st</td>\n",
       "      <td>29.00</td>\n",
       "      <td>female</td>\n",
       "      <td>1</td>\n",
       "    </tr>\n",
       "    <tr>\n",
       "      <th>1</th>\n",
       "      <td>Allison, Miss Helen Loraine</td>\n",
       "      <td>1st</td>\n",
       "      <td>2.00</td>\n",
       "      <td>female</td>\n",
       "      <td>0</td>\n",
       "    </tr>\n",
       "    <tr>\n",
       "      <th>2</th>\n",
       "      <td>Allison, Mr Hudson Joshua Creighton</td>\n",
       "      <td>1st</td>\n",
       "      <td>30.00</td>\n",
       "      <td>male</td>\n",
       "      <td>0</td>\n",
       "    </tr>\n",
       "    <tr>\n",
       "      <th>3</th>\n",
       "      <td>Allison, Mrs Hudson JC (Bessie Waldo Daniels)</td>\n",
       "      <td>1st</td>\n",
       "      <td>25.00</td>\n",
       "      <td>female</td>\n",
       "      <td>0</td>\n",
       "    </tr>\n",
       "    <tr>\n",
       "      <th>4</th>\n",
       "      <td>Allison, Master Hudson Trevor</td>\n",
       "      <td>1st</td>\n",
       "      <td>0.92</td>\n",
       "      <td>male</td>\n",
       "      <td>1</td>\n",
       "    </tr>\n",
       "    <tr>\n",
       "      <th>...</th>\n",
       "      <td>...</td>\n",
       "      <td>...</td>\n",
       "      <td>...</td>\n",
       "      <td>...</td>\n",
       "      <td>...</td>\n",
       "    </tr>\n",
       "    <tr>\n",
       "      <th>1308</th>\n",
       "      <td>Zakarian, Mr Artun</td>\n",
       "      <td>3rd</td>\n",
       "      <td>27.00</td>\n",
       "      <td>male</td>\n",
       "      <td>0</td>\n",
       "    </tr>\n",
       "    <tr>\n",
       "      <th>1309</th>\n",
       "      <td>Zakarian, Mr Maprieder</td>\n",
       "      <td>3rd</td>\n",
       "      <td>26.00</td>\n",
       "      <td>male</td>\n",
       "      <td>0</td>\n",
       "    </tr>\n",
       "    <tr>\n",
       "      <th>1310</th>\n",
       "      <td>Zenni, Mr Philip</td>\n",
       "      <td>3rd</td>\n",
       "      <td>22.00</td>\n",
       "      <td>male</td>\n",
       "      <td>0</td>\n",
       "    </tr>\n",
       "    <tr>\n",
       "      <th>1311</th>\n",
       "      <td>Lievens, Mr Rene</td>\n",
       "      <td>3rd</td>\n",
       "      <td>24.00</td>\n",
       "      <td>male</td>\n",
       "      <td>0</td>\n",
       "    </tr>\n",
       "    <tr>\n",
       "      <th>1312</th>\n",
       "      <td>Zimmerman, Leo</td>\n",
       "      <td>3rd</td>\n",
       "      <td>29.00</td>\n",
       "      <td>male</td>\n",
       "      <td>0</td>\n",
       "    </tr>\n",
       "  </tbody>\n",
       "</table>\n",
       "<p>1306 rows × 5 columns</p>\n",
       "</div>"
      ],
      "text/plain": [
       "                                               Name PClass    Age     Sex  \\\n",
       "0                      Allen, Miss Elisabeth Walton    1st  29.00  female   \n",
       "1                       Allison, Miss Helen Loraine    1st   2.00  female   \n",
       "2               Allison, Mr Hudson Joshua Creighton    1st  30.00    male   \n",
       "3     Allison, Mrs Hudson JC (Bessie Waldo Daniels)    1st  25.00  female   \n",
       "4                     Allison, Master Hudson Trevor    1st   0.92    male   \n",
       "...                                             ...    ...    ...     ...   \n",
       "1308                             Zakarian, Mr Artun    3rd  27.00    male   \n",
       "1309                         Zakarian, Mr Maprieder    3rd  26.00    male   \n",
       "1310                               Zenni, Mr Philip    3rd  22.00    male   \n",
       "1311                               Lievens, Mr Rene    3rd  24.00    male   \n",
       "1312                                 Zimmerman, Leo    3rd  29.00    male   \n",
       "\n",
       "      Survived  \n",
       "0            1  \n",
       "1            0  \n",
       "2            0  \n",
       "3            0  \n",
       "4            1  \n",
       "...        ...  \n",
       "1308         0  \n",
       "1309         0  \n",
       "1310         0  \n",
       "1311         0  \n",
       "1312         0  \n",
       "\n",
       "[1306 rows x 5 columns]"
      ]
     },
     "execution_count": 344,
     "metadata": {},
     "output_type": "execute_result"
    }
   ],
   "source": [
    "df.dropna()"
   ]
  }
 ],
 "metadata": {
  "kernelspec": {
   "display_name": "Python 3",
   "language": "python",
   "name": "python3"
  },
  "language_info": {
   "codemirror_mode": {
    "name": "ipython",
    "version": 3
   },
   "file_extension": ".py",
   "mimetype": "text/x-python",
   "name": "python",
   "nbconvert_exporter": "python",
   "pygments_lexer": "ipython3",
   "version": "3.8.8"
  }
 },
 "nbformat": 4,
 "nbformat_minor": 5
}
