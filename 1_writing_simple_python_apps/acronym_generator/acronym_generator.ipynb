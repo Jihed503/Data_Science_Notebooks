{
 "cells": [
  {
   "cell_type": "code",
   "execution_count": 8,
   "id": "fd43c2d0",
   "metadata": {},
   "outputs": [],
   "source": [
    "# s: input string\n",
    "def acronym_generator(s):\n",
    "    # let's make a list containing the string words\n",
    "    s_list = s.split()\n",
    "    \n",
    "    acr = '' #initialising the acronym\n",
    "    for i in s_list:\n",
    "        acr += i[0]\n",
    "    return acr"
   ]
  },
  {
   "cell_type": "code",
   "execution_count": 6,
   "id": "7bc7df4b",
   "metadata": {},
   "outputs": [
    {
     "data": {
      "text/plain": [
       "'NATO'"
      ]
     },
     "execution_count": 6,
     "metadata": {},
     "output_type": "execute_result"
    }
   ],
   "source": [
    "acronym_generator(\"North Atlantic Treaty Organization\")"
   ]
  },
  {
   "cell_type": "code",
   "execution_count": 9,
   "id": "eaf87600",
   "metadata": {},
   "outputs": [
    {
     "data": {
      "text/plain": [
       "'asap'"
      ]
     },
     "execution_count": 9,
     "metadata": {},
     "output_type": "execute_result"
    }
   ],
   "source": [
    "acronym_generator(\"as soon as possible\")"
   ]
  },
  {
   "cell_type": "code",
   "execution_count": null,
   "id": "8fe8f4d6",
   "metadata": {},
   "outputs": [],
   "source": []
  }
 ],
 "metadata": {
  "kernelspec": {
   "display_name": "Python 3",
   "language": "python",
   "name": "python3"
  },
  "language_info": {
   "codemirror_mode": {
    "name": "ipython",
    "version": 3
   },
   "file_extension": ".py",
   "mimetype": "text/x-python",
   "name": "python",
   "nbconvert_exporter": "python",
   "pygments_lexer": "ipython3",
   "version": "3.8.8"
  }
 },
 "nbformat": 4,
 "nbformat_minor": 5
}
