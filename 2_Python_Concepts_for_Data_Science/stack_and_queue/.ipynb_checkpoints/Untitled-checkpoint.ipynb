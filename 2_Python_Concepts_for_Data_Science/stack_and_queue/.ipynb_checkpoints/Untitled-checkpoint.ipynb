{
 "cells": [
  {
   "cell_type": "markdown",
   "id": "184483a7",
   "metadata": {},
   "source": [
    "# Stack & Queue Data Structures"
   ]
  },
  {
   "cell_type": "markdown",
   "id": "72de98eb",
   "metadata": {},
   "source": [
    "In this tutorial, we will discuss together the definition of stack and queue and discover their different uses.\n",
    "\n",
    "![Stack and Queue](https://miro.medium.com/max/1400/0*-y92CX3NIm9SkYSx.png)\n",
    "\n",
    "__________________________________________________________________________\n",
    "\n",
    "## Stack\n",
    "\n",
    "In computer science, a stack is an abstract data type that serves as a collection of elements, with two main principal operations:\n",
    "\n",
    "* Push: which adds an element to the collection\n",
    "* Pop: which removes the most recently added element that was not yet removed\n",
    "\n",
    "It is a data structure based on the LIFO \"Last In, First Out\" principle, which means that the last elements added to the stack will be the first to be retrieved.\n",
    "\n",
    "You can think of the stack data structure as the pile of plates on top of another.\n",
    "\n",
    "![Stack \"Stack representation similar to a pile of plate\"](https://cdn.programiz.com/sites/tutorial2program/files/stack-of-plates_0.png)\n",
    "\n",
    "Here, you can:\n",
    "* Put a new plate on top\n",
    "* Remove the top plate\n",
    "\n",
    "And, if you want the plate at the bottom, you must first remove all the plates on top. This is exactly how the stack data structure works.\n",
    "\n",
    "### Implementation\n",
    "\n",
    "In programming terms, putting an item on top of the stack is called push and removing an item is called pop.\n",
    "\n",
    "![Stack \"Stack Push and Pop Operations\"](https://cdn.programiz.com/sites/tutorial2program/files/stack.png)\n",
    "\n",
    "In the above image, although item 2 was kept last, it was removed first. This is exactly how the LIFO (Last In First Out) Principle works.\n",
    "\n",
    "We can implement a stack in any programming language like Python.\n",
    "There are some basic operations that allow us to perform different actions on a stack.\n",
    "* **Push:** Add an element to the top of a stack\n",
    "* **Pop:** Remove an element from the top of a stack\n",
    "* **IsEmpty:** Check if the stack is empty\n",
    "* **IsFull:** Check if the stack is full\n",
    "* **Peek:** Get the value of the top element without removing it"
   ]
  },
  {
   "cell_type": "code",
   "execution_count": 2,
   "id": "d2d172e8",
   "metadata": {},
   "outputs": [
    {
     "name": "stdout",
     "output_type": "stream",
     "text": [
      "pushed item: 1\n",
      "pushed item: 2\n",
      "pushed item: 3\n",
      "pushed item: 4\n",
      "popped item: 4\n",
      "stack after popping an element: ['1', '2', '3']\n"
     ]
    }
   ],
   "source": [
    "# Creating a stack\n",
    "def create_stack():\n",
    "    stack = []\n",
    "    return stack\n",
    "\n",
    "\n",
    "# Checking if stack is empty\n",
    "def check_empty(stack):\n",
    "    return len(stack) == 0\n",
    "\n",
    "\n",
    "# Adding items into the stack\n",
    "def push(stack, item):\n",
    "    stack.append(item)\n",
    "    print(\"pushed item: \" + item)\n",
    "\n",
    "\n",
    "# Removing an element from the stack\n",
    "def pop(stack):\n",
    "    if (check_empty(stack)):\n",
    "        return \"stack is empty\"\n",
    "\n",
    "    return stack.pop()\n",
    "\n",
    "\n",
    "stack = create_stack()\n",
    "push(stack, \"1\")\n",
    "push(stack, \"2\")\n",
    "push(stack, \"3\")\n",
    "push(stack, \"4\")\n",
    "print(\"popped item: \" + pop(stack))\n",
    "print(\"stack after popping an element: \" + str(stack))"
   ]
  },
  {
   "cell_type": "markdown",
   "id": "18ad5d04",
   "metadata": {},
   "source": [
    "### Applications of Stack Data Structure\n",
    "\n",
    "Stacks have various applications:\n",
    "* In browsers: he back button in a browser saves all the URLs you have visited previously in a stack. Each time you visit a new page, it is added on top of the stack. When you press the back button, the current URL is removed from the stack, and the previous URL is accessed.\n",
    "* The evaluation of mathematical expressions in postfixed (or reverse Polish) notation uses a stack.\n",
    "* The Undo function of a word processor stores changes made to text in a stack\n",
    "________________"
   ]
  },
  {
   "cell_type": "markdown",
   "id": "ebdc2356",
   "metadata": {},
   "source": [
    "## Queue\n",
    "\n",
    "In computer science, a queue is a collection of entities that are maintained in a sequence and can be modified by the addition of entities at one end of the sequence and the removal of entities from the other end of the sequence. By convention, the end of the sequence at which elements are added is called the back, tail, or rear of the queue, and the end at which elements are removed is called the head or front of the queue, analogously to the words used when people line up to wait for goods or services.\n",
    "\n",
    "![Queue](https://hackernoon.com/hn-images/1*YYbTHnAuBfDO7NVaEgF2FQ.png)\n",
    "\n",
    "In the above image, since the first person was kept in the queue before the second one, it is the first to be removed from the queue as well. It follows the FIFO rule.\n",
    "\n",
    "### Implementation\n",
    "\n",
    "In programming terms, putting items in the queue is called enqueue, and removing items from the queue is called dequeue.\n",
    "\n",
    "![Queue implementation](https://cdn.programiz.com/sites/tutorial2program/files/queue.png)\n",
    "\n",
    "We can implement the queue using python following basics operations.\n",
    "* **Enqueue:** Add an element to the end of the queue\n",
    "* **Dequeue:** Remove an element from the front of the queue\n",
    "* **IsEmpty:** Check if the queue is empty\n",
    "* **IsFull:** Check if the queue is full\n",
    "* **Peek:** Get the value of the front of the queue without removing it"
   ]
  },
  {
   "cell_type": "code",
   "execution_count": 3,
   "id": "3d47bea5",
   "metadata": {},
   "outputs": [
    {
     "name": "stdout",
     "output_type": "stream",
     "text": [
      "[1, 2, 3, 4, 5]\n",
      "After removing an element\n",
      "[2, 3, 4, 5]\n"
     ]
    }
   ],
   "source": [
    "class Queue:\n",
    "\n",
    "    def __init__(self):\n",
    "        self.queue = []\n",
    "\n",
    "    # Add an element\n",
    "    def enqueue(self, item):\n",
    "        self.queue.append(item)\n",
    "\n",
    "    # Remove an element\n",
    "    def dequeue(self):\n",
    "        if len(self.queue) < 1:\n",
    "            return None\n",
    "        return self.queue.pop(0)\n",
    "\n",
    "    # Display  the queue\n",
    "    def display(self):\n",
    "        print(self.queue)\n",
    "\n",
    "    def size(self):\n",
    "        return len(self.queue)\n",
    "\n",
    "\n",
    "q = Queue()\n",
    "q.enqueue(1)\n",
    "q.enqueue(2)\n",
    "q.enqueue(3)\n",
    "q.enqueue(4)\n",
    "q.enqueue(5)\n",
    "\n",
    "q.display()\n",
    "\n",
    "q.dequeue()\n",
    "\n",
    "print(\"After removing an element\")\n",
    "q.display()"
   ]
  },
  {
   "cell_type": "markdown",
   "id": "9248ed5a",
   "metadata": {},
   "source": [
    "### Applications of Queue\n",
    "\n",
    "* CPU scheduling, Disk Scheduling\n",
    "* When data is transferred asynchronously between two processes.The queue is used for synchronization. For example: IO Buffers, pipes, file IO, etc\n",
    "* Call Center phone systems use Queues to hold people calling them in order.\n",
    "\n",
    "**Source: www.programiz.com**"
   ]
  }
 ],
 "metadata": {
  "kernelspec": {
   "display_name": "Python 3",
   "language": "python",
   "name": "python3"
  },
  "language_info": {
   "codemirror_mode": {
    "name": "ipython",
    "version": 3
   },
   "file_extension": ".py",
   "mimetype": "text/x-python",
   "name": "python",
   "nbconvert_exporter": "python",
   "pygments_lexer": "ipython3",
   "version": "3.8.8"
  }
 },
 "nbformat": 4,
 "nbformat_minor": 5
}
