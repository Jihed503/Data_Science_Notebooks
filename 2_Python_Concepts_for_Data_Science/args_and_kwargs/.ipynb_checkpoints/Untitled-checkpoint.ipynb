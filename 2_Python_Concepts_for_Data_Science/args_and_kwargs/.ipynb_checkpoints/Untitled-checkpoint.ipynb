{
 "cells": [
  {
   "cell_type": "markdown",
   "id": "0bda4dae",
   "metadata": {},
   "source": [
    "# Python \\*args and \\*\\*kwargs\n",
    "\n",
    "In this article we will discover the meaning of \\*args and \\*\\*kwargs and find their different implementations throughout examples.\n",
    "\n",
    "![Python *args and \\**kwargs](https://javainterviewpoint.azureedge.net/wp-content/uploads/2020/06/Python-args-and-kwargs.png )\n",
    "\n",
    "\\*args and \\*\\*kwargs are two special symbols used for passing variable number of arguments to a function.\n",
    "\n",
    "1. **\\*args :** Non-Keyword Arguments\n",
    "2. **\\*\\*kwargs :** Keyword Arguments\n",
    "__________________________________________________________________________\n",
    "\n",
    "## \\*args\n",
    "\n",
    "The special syntax \\*args in function definitions in python is used to pass a variable number of arguments to a function. It is used to pass a non-key worded, variable-length argument list. \n",
    "\n",
    "* The syntax is to use the symbol \\* to take in a variale number of arguments. By convention, it is often used with the word args, but we can as well use any other word.\n",
    "* What \\*args allows you to do is take in more arguments than the number of formal arguments that you previously defined. With \\*args, any number of extra arguments can be tacked on to your current formal parameters (including zero extra arguments).\n",
    "* Using the \\*, the variable that we associate with the \\* becomes an iterable meaning you can do things like iterate over it, run some higher-order functions such as map and filter, etc."
   ]
  },
  {
   "cell_type": "markdown",
   "id": "493d3941",
   "metadata": {},
   "source": [
    "### Example 1:\n",
    "\n",
    "We can implement a function to take as many arguments as the user give and print them each in a seperate line."
   ]
  },
  {
   "cell_type": "code",
   "execution_count": 2,
   "id": "33c38911",
   "metadata": {},
   "outputs": [
    {
     "name": "stdout",
     "output_type": "stream",
     "text": [
      "Hello\n",
      "Welcome\n",
      "to\n",
      "Data Insight\n"
     ]
    }
   ],
   "source": [
    "def fun(*strings):\n",
    "    for string in strings:\n",
    "        print(string)\n",
    "\n",
    "fun(\"Hello\", \"Welcome\", \"to\", \"Data Insight\")"
   ]
  },
  {
   "cell_type": "markdown",
   "id": "736008df",
   "metadata": {},
   "source": [
    "**NB: Notice that we replaced args by strings here and its totally legal.**"
   ]
  },
  {
   "cell_type": "markdown",
   "id": "5917ec5f",
   "metadata": {},
   "source": [
    "### Example 2:\n",
    "\n",
    "We want to make a sum function that takes any number of arguments and be able to sum them all together."
   ]
  },
  {
   "cell_type": "code",
   "execution_count": 9,
   "id": "206999e2",
   "metadata": {},
   "outputs": [
    {
     "name": "stdout",
     "output_type": "stream",
     "text": [
      "The sum of 1, 2, 6, 9 is 18\n"
     ]
    }
   ],
   "source": [
    "def sum(*args):\n",
    "    s = 0\n",
    "    for i in args:\n",
    "        s += i\n",
    "    return s\n",
    "\n",
    "print(\"The sum of 1, 2, 6, 9 is {}\".format(sum(1, 2, 6, 9)))"
   ]
  },
  {
   "cell_type": "markdown",
   "id": "64fd5a3d",
   "metadata": {},
   "source": [
    "**PS: You can find more about the python string format() method [here](https://www.w3schools.com/python/ref_string_format.asp)**"
   ]
  },
  {
   "cell_type": "markdown",
   "id": "29c646db",
   "metadata": {},
   "source": [
    "## \\*\\*kwargs\n",
    "\n",
    "The special syntax \\*\\*kwargs in function definitions in python is used to pass a keyworded, variable-length argument list. We use the name kwargs with the double star. The reason is because the double star allows us to pass through keyword arguments (and any number of them).\n",
    "\n",
    "* A keyword argument is where you provide a name to the variable as you pass it into the function.\n",
    "* One can think of the kwargs as being a dictionary that maps each keyword to the value that we pass alongside it. That is why when we iterate over the kwargs there doesn’t seem to be any order in which they were printed out."
   ]
  },
  {
   "cell_type": "markdown",
   "id": "dd7ef1c4",
   "metadata": {},
   "source": [
    "### Example :\n",
    "\n",
    "We can use \\*\\*kwargs to take keys and values of an unknown-length dictionary."
   ]
  },
  {
   "cell_type": "code",
   "execution_count": 11,
   "id": "e0200475",
   "metadata": {
    "scrolled": true
   },
   "outputs": [
    {
     "name": "stdout",
     "output_type": "stream",
     "text": [
      "one == Python\n",
      "two == for\n",
      "three == data\n",
      "four == science\n"
     ]
    }
   ],
   "source": [
    "def fun(**dict):\n",
    "    for key, value in dict.items():\n",
    "        print(\"%s == %s\" %(key, value))\n",
    "        \n",
    "fun(one='Python', two='for', three='data', four='science')"
   ]
  },
  {
   "cell_type": "markdown",
   "id": "b8e58d2e",
   "metadata": {},
   "source": [
    "************************************************************************\n",
    "\n",
    "### Using \\*args and \\*\\*kwargs to call a function (Unpacking Operators)\n",
    "\n",
    "Unpacking operators are operators that unpack the values from iterable objects in Python. \n",
    "\n",
    "The single asterisk operator \"\\*\" can be used on any iterable that Python provides.\n",
    "Also, \"\\*\\*\" can be used to create another dictionary."
   ]
  },
  {
   "cell_type": "code",
   "execution_count": 16,
   "id": "cccec0db",
   "metadata": {},
   "outputs": [
    {
     "name": "stdout",
     "output_type": "stream",
     "text": [
      "arg1: Data\n",
      "arg2: Insight\n",
      "arg1: Data\n",
      "arg2: Insight\n"
     ]
    }
   ],
   "source": [
    "def fun(arg1, arg2):\n",
    "    print(\"arg1:\", arg1)\n",
    "    print(\"arg2:\", arg2)\n",
    "     \n",
    "args = (\"Data\", \"Insight\")\n",
    "fun(*args)\n",
    "\n",
    "kwargs = {\"arg1\" : \"Data\", \"arg2\" : \"Insight\"}\n",
    "fun(**kwargs)"
   ]
  },
  {
   "cell_type": "markdown",
   "id": "1ca5a35c",
   "metadata": {},
   "source": [
    "### Using \\*args and \\*\\*kwargs in same line to call a function"
   ]
  },
  {
   "cell_type": "code",
   "execution_count": 18,
   "id": "eb51a1d1",
   "metadata": {},
   "outputs": [
    {
     "name": "stdout",
     "output_type": "stream",
     "text": [
      "args:  ('Python', 'Data', 'Insight')\n",
      "kwargs:  {'first': 'Python', 'mid': \"'Data\", 'last': 'Insight'}\n"
     ]
    }
   ],
   "source": [
    "def fun(*args,**kwargs):\n",
    "    print(\"args: \", args)\n",
    "    print(\"kwargs: \", kwargs)\n",
    "\n",
    "fun('Python', 'Data', 'Insight', first=\"Python\",mid=\"'Data\",last=\"Insight\")"
   ]
  },
  {
   "cell_type": "markdown",
   "id": "dee8a480",
   "metadata": {},
   "source": [
    "## Conclusion\n",
    "\n",
    "We use the “wildcard” or “\\*” notation like this – \\*args OR \\*\\*kwargs – as our function’s argument when we have doubts about the number of  arguments we should pass in a function."
   ]
  },
  {
   "cell_type": "markdown",
   "id": "7977637f",
   "metadata": {},
   "source": [
    "##### Source: https://www.geeksforgeeks.org/args-kwargs-python/"
   ]
  }
 ],
 "metadata": {
  "kernelspec": {
   "display_name": "Python 3",
   "language": "python",
   "name": "python3"
  },
  "language_info": {
   "codemirror_mode": {
    "name": "ipython",
    "version": 3
   },
   "file_extension": ".py",
   "mimetype": "text/x-python",
   "name": "python",
   "nbconvert_exporter": "python",
   "pygments_lexer": "ipython3",
   "version": "3.8.8"
  }
 },
 "nbformat": 4,
 "nbformat_minor": 5
}
