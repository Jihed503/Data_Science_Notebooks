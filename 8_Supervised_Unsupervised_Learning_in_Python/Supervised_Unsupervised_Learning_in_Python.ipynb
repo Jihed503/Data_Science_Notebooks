{
 "cells": [
  {
   "cell_type": "markdown",
   "id": "a8451e40",
   "metadata": {},
   "source": [
    "# Introduction to Machine Learning in Python\n",
    "\n",
    "![Scikit learn](scikit-learn-1.png)\n",
    "\n",
    "Machine learning is the field that teaches machines and computers to learn from existing data to make predictions on new data. In this article we will learn how to use Python to perform supervised learning and unsupervised learning, two essential components of machine learning."
   ]
  },
  {
   "cell_type": "markdown",
   "id": "c2f64c5d",
   "metadata": {},
   "source": [
    "## Supervised Learning\n",
    "\n",
    "Supervised learning is defined by its use of labeled datasets to train algorithms that to classify data or predict outcomes accurately.\n",
    "\n",
    "### Classification\n",
    "\n",
    "Classification is a task that requires the use of machine learning algorithms that learn how to assign a class label to examples from the problem domain. An easy to understand example is classifying emails as “spam” or “not spam”, people as “male” or “female”.<br>\n",
    "We will begin our study with a small dataset designed to provide an idea about whether a person's gender can be predicted with an acuuracy significantly above 50% based on their personal preferences.<br>\n",
    "We will fit a k-Nearest Neighbors classifier to the dataset."
   ]
  },
  {
   "cell_type": "code",
   "execution_count": 494,
   "id": "a0beecbc",
   "metadata": {},
   "outputs": [],
   "source": [
    "import numpy as np\n",
    "import pandas as pd\n",
    "import matplotlib.pyplot as plt \n",
    "from sklearn.neighbors import KNeighborsClassifier\n",
    "from sklearn.preprocessing import OneHotEncoder\n",
    "from sklearn.linear_model import LinearRegression, Ridge\n",
    "from sklearn.model_selection import train_test_split, cross_val_score\n",
    "from sklearn.cluster import KMeans\n",
    "from sklearn.decomposition import PCA\n",
    "from sklearn.preprocessing import StandardScaler\n",
    "from sklearn.pipeline import make_pipeline\n",
    "\n",
    "import warnings\n",
    "warnings.filterwarnings('ignore')"
   ]
  },
  {
   "cell_type": "code",
   "execution_count": 495,
   "id": "60635c58",
   "metadata": {},
   "outputs": [
    {
     "name": "stdout",
     "output_type": "stream",
     "text": [
      "<class 'pandas.core.frame.DataFrame'>\n",
      "RangeIndex: 66 entries, 0 to 65\n",
      "Data columns (total 5 columns):\n",
      " #   Column                Non-Null Count  Dtype \n",
      "---  ------                --------------  ----- \n",
      " 0   Favorite Color        66 non-null     object\n",
      " 1   Favorite Music Genre  66 non-null     object\n",
      " 2   Favorite Beverage     66 non-null     object\n",
      " 3   Favorite Soft Drink   66 non-null     object\n",
      " 4   Gender                66 non-null     object\n",
      "dtypes: object(5)\n",
      "memory usage: 2.7+ KB\n",
      "None\n",
      "  Favorite Color Favorite Music Genre Favorite Beverage Favorite Soft Drink  \\\n",
      "0           Cool                 Rock             Vodka          7UP/Sprite   \n",
      "1        Neutral              Hip hop             Vodka     Coca Cola/Pepsi   \n",
      "2           Warm                 Rock              Wine     Coca Cola/Pepsi   \n",
      "3           Warm     Folk/Traditional           Whiskey               Fanta   \n",
      "4           Cool                 Rock             Vodka     Coca Cola/Pepsi   \n",
      "\n",
      "  Gender  \n",
      "0      F  \n",
      "1      F  \n",
      "2      F  \n",
      "3      F  \n",
      "4      F  \n"
     ]
    }
   ],
   "source": [
    "df = pd.read_csv(\"gender_data_set.csv\")\n",
    "\n",
    "print(df.info())\n",
    "print(df.head())"
   ]
  },
  {
   "cell_type": "markdown",
   "id": "b0c0c0f4",
   "metadata": {},
   "source": [
    "Scikit-learn does not work with string value on KNN. So we need to implement a function to return the response and the features arrays after encoding the strings to numeric values."
   ]
  },
  {
   "cell_type": "code",
   "execution_count": 496,
   "id": "23571bdc",
   "metadata": {},
   "outputs": [],
   "source": [
    "def encoder(df):\n",
    "    '''\n",
    "    Encode categorical features as a one-hot numeric array\n",
    "    '''\n",
    "    y = df['Gender'] # response pandas serie\n",
    "    X = df.drop('Gender', axis=1) # features array\n",
    "\n",
    "    ency = OneHotEncoder(handle_unknown='ignore')\n",
    "    ency.fit(np.array(y).reshape(-1, 1))\n",
    "\n",
    "    encX = OneHotEncoder(handle_unknown='ignore')\n",
    "    encX.fit(X)\n",
    "\n",
    "    y = ency.transform(np.array(y).reshape(-1, 1)).toarray()\n",
    "    X = encX.transform(X).toarray()\n",
    "    \n",
    "    return X, y"
   ]
  },
  {
   "cell_type": "code",
   "execution_count": 497,
   "id": "bf2308b7",
   "metadata": {},
   "outputs": [
    {
     "name": "stdout",
     "output_type": "stream",
     "text": [
      "0.7121212121212122    not a good start ;)\n",
      "[['M']\n",
      " ['M']\n",
      " ['F']\n",
      " ['F']\n",
      " ['F']]\n"
     ]
    }
   ],
   "source": [
    "X, y = encoder(df)\n",
    "\n",
    "# K-NN classifier with 7 neighbors\n",
    "knn = KNeighborsClassifier(n_neighbors=7)\n",
    "\n",
    "knn.fit(X, y)\n",
    "y_pred = knn.predict(X)\n",
    "\n",
    "# Measuring model performance\n",
    "print(knn.score(X, y), \"   not a good start ;)\")\n",
    "print(ency.inverse_transform(y_pred)[:5])"
   ]
  },
  {
   "cell_type": "markdown",
   "id": "474732ea",
   "metadata": {},
   "source": [
    "## Regression\n",
    "\n",
    "Regression is best suited to problems that requires a continuous outcome. We will learn about fundamental concepts in regression and apply them to predict the maximum temperature given the minimum temperature."
   ]
  },
  {
   "cell_type": "code",
   "execution_count": 498,
   "id": "50027c6b",
   "metadata": {},
   "outputs": [
    {
     "name": "stdout",
     "output_type": "stream",
     "text": [
      "     MaxTemp    MinTemp\n",
      "0  25.555556  22.222222\n",
      "1  28.888889  21.666667\n",
      "2  26.111111  22.222222\n",
      "3  26.666667  22.222222\n",
      "4  26.666667  21.666667\n"
     ]
    }
   ],
   "source": [
    "df = pd.read_csv(\"summary_of_weather.csv\", low_memory=False)\n",
    "df = df[[\"MaxTemp\", \"MinTemp\"]]\n",
    "print(df.head())"
   ]
  },
  {
   "cell_type": "code",
   "execution_count": 499,
   "id": "ef96b8e2",
   "metadata": {},
   "outputs": [],
   "source": [
    "y = df['MaxTemp'].values.reshape(-1, 1)\n",
    "X = df['MinTemp'].values.reshape(-1, 1)\n",
    "\n",
    "#y_reshaped = y.reshape(-1, 1)\n",
    "#X_reshaped = X.reshape(-1, 1)"
   ]
  },
  {
   "cell_type": "code",
   "execution_count": 500,
   "id": "804274d3",
   "metadata": {},
   "outputs": [
    {
     "data": {
      "text/plain": [
       "0.7710802890827995"
      ]
     },
     "execution_count": 500,
     "metadata": {},
     "output_type": "execute_result"
    }
   ],
   "source": [
    "X_train, X_test, y_train, y_test = train_test_split(X, y,\n",
    "    test_size=0.3, random_state=42)\n",
    "reg_all = LinearRegression()\n",
    "reg_all.fit(X_train, y_train)\n",
    "y_pred = reg_all.predict(X_test)\n",
    "reg_all.score(X_test, y_test)"
   ]
  },
  {
   "cell_type": "markdown",
   "id": "cf5427ae",
   "metadata": {},
   "source": [
    "#### K-fold Cross-validation\n",
    "\n",
    "Cross-validation is a technique used to resist the dependence on the way that the data is split.\n",
    "So, we begin by spliting the dataset into k groups or folds, then we hold out the first fold as a test set, fit our model on the remaining folds, predict on the test set, and compute the metric of interest (here R squared). Next, we hold out the second fold as our test set and do the same thing as the first fold. We continue doing this to all the folds.\n",
    "As a result we get k values of R squared from which we can compute statistics of interest, such as the mean..."
   ]
  },
  {
   "cell_type": "code",
   "execution_count": 501,
   "id": "30dcd74b",
   "metadata": {},
   "outputs": [
    {
     "name": "stdout",
     "output_type": "stream",
     "text": [
      "[0.61699036 0.81851337 0.82021727 0.65761298 0.25587764]\n",
      "0.6338423249654739\n"
     ]
    }
   ],
   "source": [
    "reg = LinearRegression()\n",
    "cv_results = cross_val_score(reg, X, y, cv=5)\n",
    "print(cv_results)\n",
    "print(np.mean(cv_results))"
   ]
  },
  {
   "cell_type": "markdown",
   "id": "43f0a9da",
   "metadata": {},
   "source": [
    "Learning about linear regression and how to use it in scikit-learn is an essential first step toward using regularized linear models.<br><br>\n",
    "Ridge regression belongs a class of regression tools that use L2 regularization. The other type of regularization, L1 regularization, limits the size of the coefficients by adding an L1 penalty equal to the absolute value of the magnitude of coefficients. This sometimes results in the elimination of some coefficients altogether, which can yield sparse models. L2 regularization adds an L2 penalty, which equals the square of the magnitude of coefficients. All coefficients are shrunk by the same factor (so none are eliminated). Unlike L1 regularization, L2 will not result in sparse models."
   ]
  },
  {
   "cell_type": "code",
   "execution_count": 502,
   "id": "2a3ea418",
   "metadata": {},
   "outputs": [
    {
     "data": {
      "text/plain": [
       "0.7647910633122196"
      ]
     },
     "execution_count": 502,
     "metadata": {},
     "output_type": "execute_result"
    }
   ],
   "source": [
    "X_train, X_test, y_train, y_test = train_test_split(X, y,\n",
    "    test_size=0.3, random_state=42)\n",
    "ridge = Ridge(alpha=0.1, normalize=True)\n",
    "ridge.fit(X_train, y_train)\n",
    "ridge_pred = ridge.predict(X_test)\n",
    "ridge.score(X_test, y_test)"
   ]
  },
  {
   "cell_type": "markdown",
   "id": "06fc0cd1",
   "metadata": {},
   "source": [
    "## Unsupervised learning\n",
    "\n",
    "Unsupervised learning finds patterns in data but without a specific prediction task in mind.<br><br>\n",
    "\n",
    "We will introduce the k-means clustering. It finds clusters of samples<br>\n",
    "Clustering is the task of dividing the population or data points into a number of groups such that data points in the same groups are more similar to other data points in the same group than those in other groups."
   ]
  },
  {
   "cell_type": "markdown",
   "id": "78489d1a",
   "metadata": {},
   "source": [
    "### KMeans Clustering\n",
    "\n",
    "The K-means algorithm identifies k number of centroids, and then allocates every data point to the nearest cluster, while keeping the centroids as small as possible. The ‘means’ in the K-means refers to averaging of the data; that is, finding the centroid."
   ]
  },
  {
   "cell_type": "code",
   "execution_count": 503,
   "id": "e89cdeab",
   "metadata": {},
   "outputs": [
    {
     "data": {
      "text/html": [
       "<div>\n",
       "<style scoped>\n",
       "    .dataframe tbody tr th:only-of-type {\n",
       "        vertical-align: middle;\n",
       "    }\n",
       "\n",
       "    .dataframe tbody tr th {\n",
       "        vertical-align: top;\n",
       "    }\n",
       "\n",
       "    .dataframe thead th {\n",
       "        text-align: right;\n",
       "    }\n",
       "</style>\n",
       "<table border=\"1\" class=\"dataframe\">\n",
       "  <thead>\n",
       "    <tr style=\"text-align: right;\">\n",
       "      <th></th>\n",
       "      <th>CustomerID</th>\n",
       "      <th>Gender</th>\n",
       "      <th>Age</th>\n",
       "      <th>Annual Income</th>\n",
       "      <th>Spending Score</th>\n",
       "    </tr>\n",
       "  </thead>\n",
       "  <tbody>\n",
       "    <tr>\n",
       "      <th>0</th>\n",
       "      <td>1</td>\n",
       "      <td>Male</td>\n",
       "      <td>19</td>\n",
       "      <td>15</td>\n",
       "      <td>39</td>\n",
       "    </tr>\n",
       "    <tr>\n",
       "      <th>1</th>\n",
       "      <td>2</td>\n",
       "      <td>Male</td>\n",
       "      <td>21</td>\n",
       "      <td>15</td>\n",
       "      <td>81</td>\n",
       "    </tr>\n",
       "    <tr>\n",
       "      <th>2</th>\n",
       "      <td>3</td>\n",
       "      <td>Female</td>\n",
       "      <td>20</td>\n",
       "      <td>16</td>\n",
       "      <td>6</td>\n",
       "    </tr>\n",
       "    <tr>\n",
       "      <th>3</th>\n",
       "      <td>4</td>\n",
       "      <td>Female</td>\n",
       "      <td>23</td>\n",
       "      <td>16</td>\n",
       "      <td>77</td>\n",
       "    </tr>\n",
       "    <tr>\n",
       "      <th>4</th>\n",
       "      <td>5</td>\n",
       "      <td>Female</td>\n",
       "      <td>31</td>\n",
       "      <td>17</td>\n",
       "      <td>40</td>\n",
       "    </tr>\n",
       "  </tbody>\n",
       "</table>\n",
       "</div>"
      ],
      "text/plain": [
       "   CustomerID  Gender  Age  Annual Income  Spending Score\n",
       "0           1    Male   19             15              39\n",
       "1           2    Male   21             15              81\n",
       "2           3  Female   20             16               6\n",
       "3           4  Female   23             16              77\n",
       "4           5  Female   31             17              40"
      ]
     },
     "execution_count": 503,
     "metadata": {},
     "output_type": "execute_result"
    }
   ],
   "source": [
    "df = pd.read_csv('segmented_customers.csv')\n",
    "df.head()"
   ]
  },
  {
   "cell_type": "code",
   "execution_count": 504,
   "id": "bf7aac0c",
   "metadata": {
    "scrolled": true
   },
   "outputs": [
    {
     "data": {
      "image/png": "[encoded data removed]",
      "text/plain": [
       "<Figure size 432x288 with 1 Axes>"
      ]
     },
     "metadata": {
      "needs_background": "light"
     },
     "output_type": "display_data"
    }
   ],
   "source": [
    "#### 2D Clustering based on Age and Spending Score\n",
    "\n",
    "plt.scatter(x='Age', y='Spending Score', data=df)\n",
    "\n",
    "plt.xlabel('Age')\n",
    "plt.ylabel('Spending Score')\n",
    "plt.title('Scatter plot of Age v/s Spending Score')\n",
    "\n",
    "plt.show()"
   ]
  },
  {
   "cell_type": "markdown",
   "id": "89b5fe81",
   "metadata": {},
   "source": [
    "#### Deciding K value"
   ]
  },
  {
   "cell_type": "code",
   "execution_count": 505,
   "id": "9527042b",
   "metadata": {},
   "outputs": [
    {
     "data": {
      "image/png": "[encoded data removed]",
      "text/plain": [
       "<Figure size 432x288 with 1 Axes>"
      ]
     },
     "metadata": {
      "needs_background": "light"
     },
     "output_type": "display_data"
    }
   ],
   "source": [
    "samples = df[['Age', 'Spending Score']].values\n",
    "\n",
    "ks = range(1, 6)\n",
    "inertias = []\n",
    "\n",
    "for k in ks:# Create a KMeans instance with k clusters: model\n",
    "    model = KMeans(n_clusters=k)\n",
    "    \n",
    "    model.fit(samples)\n",
    "    \n",
    "    inertias.append(model.inertia_)\n",
    "\n",
    "plt.plot(ks, inertias, '-o')\n",
    "plt.xlabel('number of clusters, k')\n",
    "plt.ylabel('inertia')\n",
    "plt.xticks(ks)\n",
    "plt.show()\n"
   ]
  },
  {
   "cell_type": "markdown",
   "id": "8b279f6a",
   "metadata": {},
   "source": [
    "#### Applying KMeans for k=4"
   ]
  },
  {
   "cell_type": "code",
   "execution_count": 506,
   "id": "8103c477",
   "metadata": {},
   "outputs": [
    {
     "data": {
      "image/png": "[encoded data removed]",
      "text/plain": [
       "<Figure size 432x288 with 1 Axes>"
      ]
     },
     "metadata": {
      "needs_background": "light"
     },
     "output_type": "display_data"
    }
   ],
   "source": [
    "model = KMeans(n_clusters=4)\n",
    "\n",
    "labels = model.fit_predict(samples)\n",
    "centroids = model.cluster_centers_\n",
    "\n",
    "plt.scatter(x='Age', y='Spending Score', data=df, c=labels)\n",
    "\n",
    "# plot the centroids\n",
    "plt.scatter(x=centroids[:,0], y=centroids[:, 1], c='red', alpha=0.5, s=200)\n",
    "\n",
    "plt.xlabel('Age')\n",
    "plt.ylabel('Spending Score')\n",
    "plt.title('Scatter plot of Age v/s Spending Score')\n",
    "\n",
    "plt.show()"
   ]
  },
  {
   "cell_type": "markdown",
   "id": "533ea802",
   "metadata": {},
   "source": [
    "### Principal Component Analysis\n",
    "\n",
    "Dimension reduction summarizes a dataset using its common occuring patterns. In this paragraph, you'll learn about the most fundamental of dimension reduction techniques, \"Principal Component Analysis\" (\"PCA\"). PCA is often used before supervised learning to improve model performance and generalization. It can also be useful for unsupervised learning."
   ]
  },
  {
   "cell_type": "code",
   "execution_count": 507,
   "id": "9e34a8e5",
   "metadata": {},
   "outputs": [
    {
     "name": "stdout",
     "output_type": "stream",
     "text": [
      "               total_phenols     od280\n",
      "total_phenols       1.000000  0.699949\n",
      "od280               0.699949  1.000000\n",
      "od280 and total_phenols are positively correlated\n"
     ]
    },
    {
     "data": {
      "image/png": "[encoded data removed]",
      "text/plain": [
       "<Figure size 432x288 with 1 Axes>"
      ]
     },
     "metadata": {
      "needs_background": "light"
     },
     "output_type": "display_data"
    },
    {
     "name": "stdout",
     "output_type": "stream",
     "text": [
      "              0             1\n",
      "0  1.000000e+00  3.152528e-16\n",
      "1  3.152528e-16  1.000000e+00\n",
      "od280 and total_phenols are no longer correlated\n"
     ]
    },
    {
     "data": {
      "image/png": "[encoded data removed]",
      "text/plain": [
       "<Figure size 432x288 with 1 Axes>"
      ]
     },
     "metadata": {
      "needs_background": "light"
     },
     "output_type": "display_data"
    }
   ],
   "source": [
    "df = pd.read_csv('wine.csv')[['total_phenols', 'od280']]\n",
    "\n",
    "samples = df.values\n",
    "print(df.corr())\n",
    "print(\"od280 and total_phenols are positively correlated\")\n",
    "plt.scatter(x=samples[:,0], y=samples[:, 1])\n",
    "plt.show()\n",
    "\n",
    "model = PCA()\n",
    "model.fit(samples)\n",
    "\n",
    "transformed = model.transform(samples)\n",
    "\n",
    "transformed_df = pd.DataFrame(transformed)\n",
    "print(transformed_df.corr())\n",
    "print(\"od280 and total_phenols are no longer correlated\")\n",
    "plt.scatter(x=transformed[:,0], y=transformed[:, 1])\n",
    "plt.show()"
   ]
  },
  {
   "cell_type": "markdown",
   "id": "1a8a87e6",
   "metadata": {},
   "source": [
    "PCA aligns principal components with the axes."
   ]
  },
  {
   "cell_type": "code",
   "execution_count": 508,
   "id": "7bc05170",
   "metadata": {},
   "outputs": [
    {
     "name": "stdout",
     "output_type": "stream",
     "text": [
      "[[-0.64116665 -0.76740167]\n",
      " [-0.76740167  0.64116665]]\n"
     ]
    }
   ],
   "source": [
    "print(model.components_)"
   ]
  },
  {
   "cell_type": "markdown",
   "id": "08ed85ff",
   "metadata": {},
   "source": [
    "#### Intrinsic dimension of the fish data"
   ]
  },
  {
   "cell_type": "code",
   "execution_count": 509,
   "id": "60b152db",
   "metadata": {
    "scrolled": true
   },
   "outputs": [
    {
     "data": {
      "image/png": "[encoded data removed]",
      "text/plain": [
       "<Figure size 432x288 with 1 Axes>"
      ]
     },
     "metadata": {
      "needs_background": "light"
     },
     "output_type": "display_data"
    }
   ],
   "source": [
    "scaler = StandardScaler()\n",
    "\n",
    "df = pd.read_csv('fish.csv').drop('A', axis=1)\n",
    "samples = np.array(df)\n",
    "pca = PCA()\n",
    "\n",
    "pipeline = make_pipeline(scaler, pca)\n",
    "\n",
    "pipeline.fit(samples)\n",
    "\n",
    "features = range(pca.n_components_)\n",
    "\n",
    "plt.bar(features, pca.explained_variance_)\n",
    "plt.xlabel('PCA feature')\n",
    "plt.ylabel('variance')\n",
    "plt.show()"
   ]
  },
  {
   "cell_type": "markdown",
   "id": "06ff9452",
   "metadata": {},
   "source": [
    "We have 2 PCA features with significant variance, so the reasonable choice for the intrinsic dimension of the fish measurements would be 2."
   ]
  },
  {
   "cell_type": "code",
   "execution_count": 511,
   "id": "1131e43a",
   "metadata": {},
   "outputs": [
    {
     "name": "stdout",
     "output_type": "stream",
     "text": [
      "(85, 2)\n"
     ]
    }
   ],
   "source": [
    "pca = PCA(n_components=2)\n",
    "pca.fit(samples)\n",
    "transformed = pca.transform(samples)\n",
    "print(transformed.shape)"
   ]
  }
 ],
 "metadata": {
  "kernelspec": {
   "display_name": "Python 3",
   "language": "python",
   "name": "python3"
  },
  "language_info": {
   "codemirror_mode": {
    "name": "ipython",
    "version": 3
   },
   "file_extension": ".py",
   "mimetype": "text/x-python",
   "name": "python",
   "nbconvert_exporter": "python",
   "pygments_lexer": "ipython3",
   "version": "3.8.8"
  }
 },
 "nbformat": 4,
 "nbformat_minor": 5
}
